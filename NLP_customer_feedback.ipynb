{
 "cells": [
  {
   "cell_type": "code",
   "execution_count": null,
   "metadata": {
    "id": "PaFQQ96V9A-J"
   },
   "outputs": [],
   "source": [
    "from sklearn.model_selection import train_test_split\n",
    "\n",
    "from IPython.core.interactiveshell import InteractiveShell\n",
    "InteractiveShell.ast_node_interactivity = \"all\""
   ]
  },
  {
   "cell_type": "code",
   "execution_count": null,
   "metadata": {
    "colab": {
     "base_uri": "https://localhost:8080/"
    },
    "id": "4UuXElIUgf9e",
    "outputId": "93764c93-5d40-4b0f-e4fa-117b5559f2c0"
   },
   "outputs": [
    {
     "name": "stderr",
     "output_type": "stream",
     "text": [
      "[nltk_data] Downloading package punkt to /root/nltk_data...\n",
      "[nltk_data]   Unzipping tokenizers/punkt.zip.\n"
     ]
    },
    {
     "data": {
      "text/plain": [
       "True"
      ]
     },
     "execution_count": 2,
     "metadata": {},
     "output_type": "execute_result"
    },
    {
     "name": "stderr",
     "output_type": "stream",
     "text": [
      "[nltk_data] Downloading package stopwords to /root/nltk_data...\n",
      "[nltk_data]   Unzipping corpora/stopwords.zip.\n"
     ]
    },
    {
     "data": {
      "text/plain": [
       "True"
      ]
     },
     "execution_count": 2,
     "metadata": {},
     "output_type": "execute_result"
    },
    {
     "name": "stderr",
     "output_type": "stream",
     "text": [
      "[nltk_data] Downloading package wordnet to /root/nltk_data...\n"
     ]
    },
    {
     "data": {
      "text/plain": [
       "True"
      ]
     },
     "execution_count": 2,
     "metadata": {},
     "output_type": "execute_result"
    }
   ],
   "source": [
    "# Download necessary NLTK resources\n",
    "import nltk\n",
    "\n",
    "nltk.download('punkt')\n",
    "nltk.download('stopwords')\n",
    "nltk.download('wordnet')"
   ]
  },
  {
   "cell_type": "code",
   "execution_count": null,
   "metadata": {
    "id": "TdHyUDV-7nSV"
   },
   "outputs": [],
   "source": [
    "import pandas as pd\n",
    "\n",
    "# Load the dataset\n",
    "file_path = 'Reviews.csv'\n",
    "df = pd.read_csv(file_path)\n",
    "# df.head()"
   ]
  },
  {
   "cell_type": "code",
   "execution_count": null,
   "metadata": {
    "colab": {
     "base_uri": "https://localhost:8080/"
    },
    "id": "NT96FpxH-S7f",
    "outputId": "6167d18a-8a22-45f1-eff9-bd5484094adc"
   },
   "outputs": [
    {
     "data": {
      "text/plain": [
       "(568454, 10)"
      ]
     },
     "execution_count": 4,
     "metadata": {},
     "output_type": "execute_result"
    }
   ],
   "source": [
    "df.shape"
   ]
  },
  {
   "cell_type": "code",
   "execution_count": null,
   "metadata": {
    "colab": {
     "base_uri": "https://localhost:8080/"
    },
    "id": "jeQrMrxvgiyx",
    "outputId": "a0c52188-42d7-4bce-802f-f421b0ecbeff"
   },
   "outputs": [
    {
     "data": {
      "text/plain": [
       "(393579, 10)"
      ]
     },
     "execution_count": 5,
     "metadata": {},
     "output_type": "execute_result"
    }
   ],
   "source": [
    "df.drop_duplicates(subset=['Text'], inplace=True)\n",
    "df.shape"
   ]
  },
  {
   "cell_type": "code",
   "execution_count": null,
   "metadata": {
    "id": "rICf4s2h84gn"
   },
   "outputs": [],
   "source": [
    "# Give reviews with Score>3 a positive rating \"1\", and reviews with score<3 a negative rating \"0\"\n",
    "def partition(x):\n",
    "    if x <= 3:\n",
    "        return 0\n",
    "    return 1\n",
    "\n",
    "Score = df['Score']\n",
    "positiveNegative = Score.map(partition)\n",
    "df['Score'] = positiveNegative\n",
    "# df.head()"
   ]
  },
  {
   "cell_type": "markdown",
   "metadata": {
    "id": "SXCoPMl3XzOI"
   },
   "source": [
    "## Exploratory Data Analysis"
   ]
  },
  {
   "cell_type": "code",
   "execution_count": null,
   "metadata": {
    "colab": {
     "base_uri": "https://localhost:8080/",
     "height": 716
    },
    "id": "FQcuaacuoJqd",
    "outputId": "228e5f1f-b75b-4d92-a689-26c41e5ca882"
   },
   "outputs": [
    {
     "data": {
      "text/plain": [
       "<Figure size 1000x600 with 0 Axes>"
      ]
     },
     "execution_count": 7,
     "metadata": {},
     "output_type": "execute_result"
    },
    {
     "data": {
      "text/plain": [
       "<Axes: xlabel='Score'>"
      ]
     },
     "execution_count": 7,
     "metadata": {},
     "output_type": "execute_result"
    },
    {
     "data": {
      "text/plain": [
       "Text(0.5, 1.0, 'Value Counts of Score Column')"
      ]
     },
     "execution_count": 7,
     "metadata": {},
     "output_type": "execute_result"
    },
    {
     "data": {
      "text/plain": [
       "Text(0.5, 0, 'Score')"
      ]
     },
     "execution_count": 7,
     "metadata": {},
     "output_type": "execute_result"
    },
    {
     "data": {
      "text/plain": [
       "Text(0, 0.5, 'Count')"
      ]
     },
     "execution_count": 7,
     "metadata": {},
     "output_type": "execute_result"
    },
    {
     "data": {
      "text/plain": [
       "(array([0, 1]), [Text(0, 0, '0'), Text(1, 0, '1')])"
      ]
     },
     "execution_count": 7,
     "metadata": {},
     "output_type": "execute_result"
    },
    {
     "data": {
      "image/png": "[encoded data removed]",
      "text/plain": [
       "<Figure size 1000x600 with 1 Axes>"
      ]
     },
     "metadata": {},
     "output_type": "display_data"
    }
   ],
   "source": [
    "import matplotlib.pyplot as plt\n",
    "\n",
    "# Get value counts of \"Score\" column\n",
    "score_counts = df[\"Score\"].value_counts()\n",
    "\n",
    "# Sort the value counts by index\n",
    "score_counts = score_counts.sort_index()\n",
    "\n",
    "# Plotting\n",
    "plt.figure(figsize=(10, 6))\n",
    "score_counts.plot(kind='bar', color='skyblue')\n",
    "\n",
    "plt.title('Value Counts of Score Column')\n",
    "plt.xlabel('Score')\n",
    "plt.ylabel('Count')\n",
    "plt.xticks(rotation=0)\n",
    "plt.grid(axis='y')\n",
    "\n",
    "plt.tight_layout()\n",
    "plt.show()"
   ]
  },
  {
   "cell_type": "markdown",
   "metadata": {
    "id": "H_liNbGyKmrt"
   },
   "source": [
    "EDA Findings\n",
    "\n",
    "*   Target variable \"Score\" is extremely biased towards the positve sentiment. Data must be undersampled from the majority class to overcome this issue.\n"
   ]
  },
  {
   "cell_type": "code",
   "execution_count": null,
   "metadata": {
    "colab": {
     "base_uri": "https://localhost:8080/"
    },
    "id": "ATgCwcMfLjoc",
    "outputId": "5829d51e-dc49-44cf-b2ec-4a8a6d41e936"
   },
   "outputs": [
    {
     "data": {
      "text/plain": [
       "Score\n",
       "1    306758\n",
       "0     86821\n",
       "Name: count, dtype: int64"
      ]
     },
     "execution_count": 8,
     "metadata": {},
     "output_type": "execute_result"
    }
   ],
   "source": [
    "# Preview biased column\n",
    "df[\"Score\"].value_counts()"
   ]
  },
  {
   "cell_type": "code",
   "execution_count": null,
   "metadata": {
    "colab": {
     "base_uri": "https://localhost:8080/"
    },
    "id": "CndKirX4wU44",
    "outputId": "1754595c-e27e-4c60-934e-55d0ae313023"
   },
   "outputs": [
    {
     "name": "stdout",
     "output_type": "stream",
     "text": [
      "Score\n",
      "1    50000\n",
      "0    50000\n",
      "Name: count, dtype: int64\n"
     ]
    }
   ],
   "source": [
    "import pandas as pd\n",
    "from sklearn.utils import resample\n",
    "\n",
    "# Undersampling majority class\n",
    "df_majority = df[df['Score'] == 1]\n",
    "df_minority = df[df['Score'] == 0]\n",
    "\n",
    "# Downsample the majority class to 50,000 rows\n",
    "df_majority_downsampled = resample(df_majority, replace=False, n_samples=50000, random_state=42)\n",
    "\n",
    "# Downsample the minority class to 50,000 rows\n",
    "df_minority_downsampled = resample(df_minority, replace=False, n_samples=50000, random_state=42)\n",
    "\n",
    "# Combine the downsampled majority and minority classes\n",
    "df_balanced = pd.concat([df_majority_downsampled, df_minority_downsampled])\n",
    "\n",
    "# Verify the class balance\n",
    "print(df_balanced['Score'].value_counts())"
   ]
  },
  {
   "cell_type": "code",
   "execution_count": null,
   "metadata": {
    "colab": {
     "base_uri": "https://localhost:8080/"
    },
    "id": "NGI-T7b_0-aE",
    "outputId": "ad55aa69-862b-4bec-8339-a1878f330217"
   },
   "outputs": [
    {
     "data": {
      "text/plain": [
       "(100000, 10)"
      ]
     },
     "execution_count": 10,
     "metadata": {},
     "output_type": "execute_result"
    }
   ],
   "source": [
    "df_balanced.shape"
   ]
  },
  {
   "cell_type": "code",
   "execution_count": null,
   "metadata": {
    "colab": {
     "base_uri": "https://localhost:8080/",
     "height": 716
    },
    "id": "W8diqomCowPP",
    "outputId": "9f897401-6e96-4c5a-a829-1fe4671cbc09"
   },
   "outputs": [
    {
     "data": {
      "text/plain": [
       "<Figure size 1000x600 with 0 Axes>"
      ]
     },
     "execution_count": 11,
     "metadata": {},
     "output_type": "execute_result"
    },
    {
     "data": {
      "text/plain": [
       "<Axes: xlabel='Score'>"
      ]
     },
     "execution_count": 11,
     "metadata": {},
     "output_type": "execute_result"
    },
    {
     "data": {
      "text/plain": [
       "Text(0.5, 1.0, 'Value Counts of Score Column')"
      ]
     },
     "execution_count": 11,
     "metadata": {},
     "output_type": "execute_result"
    },
    {
     "data": {
      "text/plain": [
       "Text(0.5, 0, 'Score')"
      ]
     },
     "execution_count": 11,
     "metadata": {},
     "output_type": "execute_result"
    },
    {
     "data": {
      "text/plain": [
       "Text(0, 0.5, 'Count')"
      ]
     },
     "execution_count": 11,
     "metadata": {},
     "output_type": "execute_result"
    },
    {
     "data": {
      "text/plain": [
       "(array([0, 1]), [Text(0, 0, '0'), Text(1, 0, '1')])"
      ]
     },
     "execution_count": 11,
     "metadata": {},
     "output_type": "execute_result"
    },
    {
     "data": {
      "image/png": "[encoded data removed]",
      "text/plain": [
       "<Figure size 1000x600 with 1 Axes>"
      ]
     },
     "metadata": {},
     "output_type": "display_data"
    }
   ],
   "source": [
    "import matplotlib.pyplot as plt\n",
    "\n",
    "# Get value counts of \"Score\" column\n",
    "score_counts = df_balanced[\"Score\"].value_counts()\n",
    "\n",
    "# Sort the value counts by index\n",
    "score_counts = score_counts.sort_index()\n",
    "\n",
    "# Plotting\n",
    "plt.figure(figsize=(10, 6))\n",
    "score_counts.plot(kind='bar', color='skyblue')\n",
    "\n",
    "plt.title('Value Counts of Score Column')\n",
    "plt.xlabel('Score')\n",
    "plt.ylabel('Count')\n",
    "plt.xticks(rotation=0)\n",
    "plt.grid(axis='y')\n",
    "\n",
    "plt.tight_layout()\n",
    "plt.show()"
   ]
  },
  {
   "cell_type": "markdown",
   "metadata": {
    "id": "TrUG95nOMxKb"
   },
   "source": [
    "The target variable is no longer biased towards the majority class."
   ]
  },
  {
   "cell_type": "markdown",
   "metadata": {
    "id": "NkwB7edZZa3Q"
   },
   "source": [
    "# Preprocessing"
   ]
  },
  {
   "cell_type": "code",
   "execution_count": null,
   "metadata": {
    "colab": {
     "base_uri": "https://localhost:8080/"
    },
    "id": "1N7-5mlJf4M7",
    "outputId": "bf2644dd-556b-48cf-f2e8-98e8e9853c16"
   },
   "outputs": [
    {
     "data": {
      "text/plain": [
       "515173    dr mcdougalls organic maple brown sugar light ...\n",
       "427248    started new keurig brewer tried 40 different c...\n",
       "564976    first took 2 day get place 3 container inside ...\n",
       "40391     cereal healthy source fiber breakfast day use ...\n",
       "335745    normally despise gatorade product make stomach...\n",
       "Name: Text, dtype: object"
      ]
     },
     "execution_count": 12,
     "metadata": {},
     "output_type": "execute_result"
    }
   ],
   "source": [
    "from nltk.corpus import stopwords\n",
    "from nltk.stem import WordNetLemmatizer\n",
    "import re\n",
    "import string\n",
    "\n",
    "texts = df_balanced['Text'].astype(str)\n",
    "\n",
    "\n",
    "def clean_text(text):\n",
    "    # Convert to lowercase\n",
    "    text = text.lower()\n",
    "    # Remove URLs\n",
    "    text = re.sub(r'http\\S+', '', text)\n",
    "    # Remove HTML tags\n",
    "    text = re.sub(r'<.*?>', '', text)\n",
    "    # Remove special characters and digits\n",
    "    text = re.sub(r'[^\\w\\s]', '', text)\n",
    "    # Tokenize the text data\n",
    "    text = nltk.word_tokenize(text)\n",
    "    # Remove stopwords\n",
    "    stop_words = set(stopwords.words('english'))\n",
    "    text = [word for word in text if word not in stop_words]\n",
    "    # Apply lemmatization\n",
    "    lemmatizer = WordNetLemmatizer()\n",
    "    text = [lemmatizer.lemmatize(word) for word in text]\n",
    "    # Join the cleaned tokens back into a string\n",
    "    text = ' '.join(text)\n",
    "    return text\n",
    "\n",
    "\n",
    "# Apply preprocessing to each review\n",
    "cleaned_texts = texts.apply(clean_text)\n",
    "cleaned_texts[:5]"
   ]
  },
  {
   "cell_type": "code",
   "execution_count": null,
   "metadata": {
    "colab": {
     "base_uri": "https://localhost:8080/"
    },
    "id": "P86gnJXquJlB",
    "outputId": "cc54c3d1-6d36-425b-bbc8-983cde857e35"
   },
   "outputs": [
    {
     "data": {
      "text/plain": [
       "100000"
      ]
     },
     "execution_count": 13,
     "metadata": {},
     "output_type": "execute_result"
    }
   ],
   "source": [
    "len(cleaned_texts)"
   ]
  },
  {
   "cell_type": "markdown",
   "metadata": {
    "id": "nS1qo7nGZXpL"
   },
   "source": [
    "# Bert"
   ]
  },
  {
   "cell_type": "code",
   "execution_count": null,
   "metadata": {
    "colab": {
     "base_uri": "https://localhost:8080/"
    },
    "id": "7mr3a7FCnQru",
    "outputId": "f2b1e3ae-542d-4efa-8239-e4d54ae37b18"
   },
   "outputs": [
    {
     "name": "stdout",
     "output_type": "stream",
     "text": [
      "Collecting sentence-transformers\n",
      "  Downloading sentence_transformers-2.7.0-py3-none-any.whl (171 kB)\n",
      "\u001b[2K     \u001b[90m━━━━━━━━━━━━━━━━━━━━━━━━━━━━━━━━━━━━━━━━\u001b[0m \u001b[32m171.5/171.5 kB\u001b[0m \u001b[31m2.1 MB/s\u001b[0m eta \u001b[36m0:00:00\u001b[0m\n",
      "\u001b[?25hRequirement already satisfied: transformers<5.0.0,>=4.34.0 in /usr/local/lib/python3.10/dist-packages (from sentence-transformers) (4.40.1)\n",
      "Requirement already satisfied: tqdm in /usr/local/lib/python3.10/dist-packages (from sentence-transformers) (4.66.2)\n",
      "Requirement already satisfied: torch>=1.11.0 in /usr/local/lib/python3.10/dist-packages (from sentence-transformers) (2.2.1+cu121)\n",
      "Requirement already satisfied: numpy in /usr/local/lib/python3.10/dist-packages (from sentence-transformers) (1.25.2)\n",
      "Requirement already satisfied: scikit-learn in /usr/local/lib/python3.10/dist-packages (from sentence-transformers) (1.2.2)\n",
      "Requirement already satisfied: scipy in /usr/local/lib/python3.10/dist-packages (from sentence-transformers) (1.11.4)\n",
      "Requirement already satisfied: huggingface-hub>=0.15.1 in /usr/local/lib/python3.10/dist-packages (from sentence-transformers) (0.20.3)\n",
      "Requirement already satisfied: Pillow in /usr/local/lib/python3.10/dist-packages (from sentence-transformers) (9.4.0)\n",
      "Requirement already satisfied: filelock in /usr/local/lib/python3.10/dist-packages (from huggingface-hub>=0.15.1->sentence-transformers) (3.13.4)\n",
      "Requirement already satisfied: fsspec>=2023.5.0 in /usr/local/lib/python3.10/dist-packages (from huggingface-hub>=0.15.1->sentence-transformers) (2023.6.0)\n",
      "Requirement already satisfied: requests in /usr/local/lib/python3.10/dist-packages (from huggingface-hub>=0.15.1->sentence-transformers) (2.31.0)\n",
      "Requirement already satisfied: pyyaml>=5.1 in /usr/local/lib/python3.10/dist-packages (from huggingface-hub>=0.15.1->sentence-transformers) (6.0.1)\n",
      "Requirement already satisfied: typing-extensions>=3.7.4.3 in /usr/local/lib/python3.10/dist-packages (from huggingface-hub>=0.15.1->sentence-transformers) (4.11.0)\n",
      "Requirement already satisfied: packaging>=20.9 in /usr/local/lib/python3.10/dist-packages (from huggingface-hub>=0.15.1->sentence-transformers) (24.0)\n",
      "Requirement already satisfied: sympy in /usr/local/lib/python3.10/dist-packages (from torch>=1.11.0->sentence-transformers) (1.12)\n",
      "Requirement already satisfied: networkx in /usr/local/lib/python3.10/dist-packages (from torch>=1.11.0->sentence-transformers) (3.3)\n",
      "Requirement already satisfied: jinja2 in /usr/local/lib/python3.10/dist-packages (from torch>=1.11.0->sentence-transformers) (3.1.3)\n",
      "Collecting nvidia-cuda-nvrtc-cu12==12.1.105 (from torch>=1.11.0->sentence-transformers)\n",
      "  Using cached nvidia_cuda_nvrtc_cu12-12.1.105-py3-none-manylinux1_x86_64.whl (23.7 MB)\n",
      "Collecting nvidia-cuda-runtime-cu12==12.1.105 (from torch>=1.11.0->sentence-transformers)\n",
      "  Using cached nvidia_cuda_runtime_cu12-12.1.105-py3-none-manylinux1_x86_64.whl (823 kB)\n",
      "Collecting nvidia-cuda-cupti-cu12==12.1.105 (from torch>=1.11.0->sentence-transformers)\n",
      "  Using cached nvidia_cuda_cupti_cu12-12.1.105-py3-none-manylinux1_x86_64.whl (14.1 MB)\n",
      "Collecting nvidia-cudnn-cu12==8.9.2.26 (from torch>=1.11.0->sentence-transformers)\n",
      "  Using cached nvidia_cudnn_cu12-8.9.2.26-py3-none-manylinux1_x86_64.whl (731.7 MB)\n",
      "Collecting nvidia-cublas-cu12==12.1.3.1 (from torch>=1.11.0->sentence-transformers)\n",
      "  Using cached nvidia_cublas_cu12-12.1.3.1-py3-none-manylinux1_x86_64.whl (410.6 MB)\n",
      "Collecting nvidia-cufft-cu12==11.0.2.54 (from torch>=1.11.0->sentence-transformers)\n",
      "  Using cached nvidia_cufft_cu12-11.0.2.54-py3-none-manylinux1_x86_64.whl (121.6 MB)\n",
      "Collecting nvidia-curand-cu12==10.3.2.106 (from torch>=1.11.0->sentence-transformers)\n",
      "  Using cached nvidia_curand_cu12-10.3.2.106-py3-none-manylinux1_x86_64.whl (56.5 MB)\n",
      "Collecting nvidia-cusolver-cu12==11.4.5.107 (from torch>=1.11.0->sentence-transformers)\n",
      "  Using cached nvidia_cusolver_cu12-11.4.5.107-py3-none-manylinux1_x86_64.whl (124.2 MB)\n",
      "Collecting nvidia-cusparse-cu12==12.1.0.106 (from torch>=1.11.0->sentence-transformers)\n",
      "  Using cached nvidia_cusparse_cu12-12.1.0.106-py3-none-manylinux1_x86_64.whl (196.0 MB)\n",
      "Collecting nvidia-nccl-cu12==2.19.3 (from torch>=1.11.0->sentence-transformers)\n",
      "  Using cached nvidia_nccl_cu12-2.19.3-py3-none-manylinux1_x86_64.whl (166.0 MB)\n",
      "Collecting nvidia-nvtx-cu12==12.1.105 (from torch>=1.11.0->sentence-transformers)\n",
      "  Using cached nvidia_nvtx_cu12-12.1.105-py3-none-manylinux1_x86_64.whl (99 kB)\n",
      "Requirement already satisfied: triton==2.2.0 in /usr/local/lib/python3.10/dist-packages (from torch>=1.11.0->sentence-transformers) (2.2.0)\n",
      "Collecting nvidia-nvjitlink-cu12 (from nvidia-cusolver-cu12==11.4.5.107->torch>=1.11.0->sentence-transformers)\n",
      "  Using cached nvidia_nvjitlink_cu12-12.4.127-py3-none-manylinux2014_x86_64.whl (21.1 MB)\n",
      "Requirement already satisfied: regex!=2019.12.17 in /usr/local/lib/python3.10/dist-packages (from transformers<5.0.0,>=4.34.0->sentence-transformers) (2023.12.25)\n",
      "Requirement already satisfied: tokenizers<0.20,>=0.19 in /usr/local/lib/python3.10/dist-packages (from transformers<5.0.0,>=4.34.0->sentence-transformers) (0.19.1)\n",
      "Requirement already satisfied: safetensors>=0.4.1 in /usr/local/lib/python3.10/dist-packages (from transformers<5.0.0,>=4.34.0->sentence-transformers) (0.4.3)\n",
      "Requirement already satisfied: joblib>=1.1.1 in /usr/local/lib/python3.10/dist-packages (from scikit-learn->sentence-transformers) (1.4.0)\n",
      "Requirement already satisfied: threadpoolctl>=2.0.0 in /usr/local/lib/python3.10/dist-packages (from scikit-learn->sentence-transformers) (3.4.0)\n",
      "Requirement already satisfied: MarkupSafe>=2.0 in /usr/local/lib/python3.10/dist-packages (from jinja2->torch>=1.11.0->sentence-transformers) (2.1.5)\n",
      "Requirement already satisfied: charset-normalizer<4,>=2 in /usr/local/lib/python3.10/dist-packages (from requests->huggingface-hub>=0.15.1->sentence-transformers) (3.3.2)\n",
      "Requirement already satisfied: idna<4,>=2.5 in /usr/local/lib/python3.10/dist-packages (from requests->huggingface-hub>=0.15.1->sentence-transformers) (3.7)\n",
      "Requirement already satisfied: urllib3<3,>=1.21.1 in /usr/local/lib/python3.10/dist-packages (from requests->huggingface-hub>=0.15.1->sentence-transformers) (2.0.7)\n",
      "Requirement already satisfied: certifi>=2017.4.17 in /usr/local/lib/python3.10/dist-packages (from requests->huggingface-hub>=0.15.1->sentence-transformers) (2024.2.2)\n",
      "Requirement already satisfied: mpmath>=0.19 in /usr/local/lib/python3.10/dist-packages (from sympy->torch>=1.11.0->sentence-transformers) (1.3.0)\n",
      "Installing collected packages: nvidia-nvtx-cu12, nvidia-nvjitlink-cu12, nvidia-nccl-cu12, nvidia-curand-cu12, nvidia-cufft-cu12, nvidia-cuda-runtime-cu12, nvidia-cuda-nvrtc-cu12, nvidia-cuda-cupti-cu12, nvidia-cublas-cu12, nvidia-cusparse-cu12, nvidia-cudnn-cu12, nvidia-cusolver-cu12, sentence-transformers\n",
      "Successfully installed nvidia-cublas-cu12-12.1.3.1 nvidia-cuda-cupti-cu12-12.1.105 nvidia-cuda-nvrtc-cu12-12.1.105 nvidia-cuda-runtime-cu12-12.1.105 nvidia-cudnn-cu12-8.9.2.26 nvidia-cufft-cu12-11.0.2.54 nvidia-curand-cu12-10.3.2.106 nvidia-cusolver-cu12-11.4.5.107 nvidia-cusparse-cu12-12.1.0.106 nvidia-nccl-cu12-2.19.3 nvidia-nvjitlink-cu12-12.4.127 nvidia-nvtx-cu12-12.1.105 sentence-transformers-2.7.0\n"
     ]
    }
   ],
   "source": [
    "#pip install sentence-transformers"
   ]
  },
  {
   "cell_type": "code",
   "execution_count": null,
   "metadata": {
    "colab": {
     "base_uri": "https://localhost:8080/",
     "height": 324,
     "referenced_widgets": [
      "411fb96dae184b5795dd4144a9affca9",
      "6b73d8ab11024e02b795e7f998adc0e4",
      "1df9b51a05964cba85a882e6b3007ee7",
      "41d4550020194e5699234f35f16987ed",
      "1f78d057c091426f97dad74ef5d16b56",
      "ebb4b891eb0a41ec84dcc8e99c9ebaac",
      "bb855fd222164db4818f263a7352a62e",
      "739a7f1b5c014b0096344c14053dc3b4",
      "af9e1a49bf6a436e82a983abc74fcaf0",
      "984aa651c3ce43a887615f2fac94f229",
      "9e6b74c7cc974c16ab24c0b984e97bf5",
      "dcd7f33deec040deb955f91cacc50ed0",
      "99f71d47d8db492faf79272585e7209d",
      "0f879c25c94e4a98a51ad6def82d1fae",
      "79f02e892bd94751b450ae7a9b563f3a",
      "28a98a151bdf4656863c467993b9cb0b",
      "e680e8f881814496a6b62da5a73946b0",
      "409aaaa3cd3d45c5850519cc33e57d77",
      "dc4750f473394adfbfed3a64009ce9d4",
      "42c2dc720fc94c22abbfc0ec5a4dd360",
      "fd993303a1d440d0aa537685d0bf9fd3",
      "7e5ca60423f64405ba61c3ce5dba4291",
      "a329fef6703740c196c0676e0743e562",
      "3518350c23c04db6ab702f974dbfbcdd",
      "27003b227fc84b519741609023256dee",
      "4808ffd86b1441b087feb1dd635eb515",
      "0f6140eef65b4581b4b84e8ed29f0b30",
      "61f728721c16424286c6675fceb4faa8",
      "7daeafa10b45432fa80ea9173ffdcf4b",
      "904fc2c2942240a89ac18180fb4e6ef0",
      "c0005420866d4cb5a7cb5990ea583cad",
      "9a4b81170bb44bd28ab0053c28e50696",
      "77c31e3ecfb44bc2a415294afbc3c07a",
      "113fdfc81053483aa33365f27afda0d1",
      "a7ee4edd4e7c4f488359909b35586248",
      "7f3d9380892e45379425413c12363514",
      "7148ebb0485a47de90801d92cc516ea3",
      "186a3b271ec4424396a11413ac50977b",
      "b85e6a3e923543ccb1e9b09d3ad013c9",
      "0fddff4645564a348e8cb9ec0a830faa",
      "0994cf4c7f404f32a6b7d84f22687dc5",
      "88b1ed97be4d41b994e5b6ff4ee60be7",
      "f60acc1acda14ef4a507abc76d2b9754",
      "8b9b047c249144ff8bfd7e300cde7c9b",
      "2200229fd662459290676379943186b1",
      "b9dea1cb5521421ba81a1929bc144bc2",
      "fbf1130f3950462a86d8ab0ebfadd730",
      "1f0b987eeeac4a0385710f72dc60572a",
      "e69ac68b49b44e87bb8e00a6276d4996",
      "d5baf7f210d64bab858f23cbfea82794",
      "f1cc90c416a841bb93c83e9a576925ce",
      "d53db7821a2348e89d5b1ff26521bbff",
      "fd496e401587415ea27ac08e87ac28b9",
      "2ced6a78567f493baeb284e361ecbec9",
      "14d5a45f88e54288a31153ef7a62de1a"
     ]
    },
    "id": "hGONf8s6oPgQ",
    "outputId": "136d860a-24e1-4cda-9dfc-eff2cf3156f6"
   },
   "outputs": [
    {
     "name": "stderr",
     "output_type": "stream",
     "text": [
      "/usr/local/lib/python3.10/dist-packages/huggingface_hub/utils/_token.py:88: UserWarning: \n",
      "The secret `HF_TOKEN` does not exist in your Colab secrets.\n",
      "To authenticate with the Hugging Face Hub, create a token in your settings tab (https://huggingface.co/settings/tokens), set it as secret in your Google Colab and restart your session.\n",
      "You will be able to reuse this secret in all of your notebooks.\n",
      "Please note that authentication is recommended but still optional to access public models or datasets.\n",
      "  warnings.warn(\n",
      "WARNING:sentence_transformers.SentenceTransformer:No sentence-transformers model found with name albert-base-v2. Creating a new one with MEAN pooling.\n"
     ]
    },
    {
     "data": {
      "application/vnd.jupyter.widget-view+json": {
       "model_id": "411fb96dae184b5795dd4144a9affca9",
       "version_major": 2,
       "version_minor": 0
      },
      "text/plain": [
       "config.json:   0%|          | 0.00/684 [00:00<?, ?B/s]"
      ]
     },
     "metadata": {},
     "output_type": "display_data"
    },
    {
     "data": {
      "application/vnd.jupyter.widget-view+json": {
       "model_id": "dcd7f33deec040deb955f91cacc50ed0",
       "version_major": 2,
       "version_minor": 0
      },
      "text/plain": [
       "model.safetensors:   0%|          | 0.00/47.4M [00:00<?, ?B/s]"
      ]
     },
     "metadata": {},
     "output_type": "display_data"
    },
    {
     "data": {
      "application/vnd.jupyter.widget-view+json": {
       "model_id": "a329fef6703740c196c0676e0743e562",
       "version_major": 2,
       "version_minor": 0
      },
      "text/plain": [
       "tokenizer_config.json:   0%|          | 0.00/25.0 [00:00<?, ?B/s]"
      ]
     },
     "metadata": {},
     "output_type": "display_data"
    },
    {
     "data": {
      "application/vnd.jupyter.widget-view+json": {
       "model_id": "113fdfc81053483aa33365f27afda0d1",
       "version_major": 2,
       "version_minor": 0
      },
      "text/plain": [
       "spiece.model:   0%|          | 0.00/760k [00:00<?, ?B/s]"
      ]
     },
     "metadata": {},
     "output_type": "display_data"
    },
    {
     "data": {
      "application/vnd.jupyter.widget-view+json": {
       "model_id": "2200229fd662459290676379943186b1",
       "version_major": 2,
       "version_minor": 0
      },
      "text/plain": [
       "tokenizer.json:   0%|          | 0.00/1.31M [00:00<?, ?B/s]"
      ]
     },
     "metadata": {},
     "output_type": "display_data"
    }
   ],
   "source": [
    "from sentence_transformers import SentenceTransformer\n",
    "\n",
    "# Load a pre-trained Albert model\n",
    "model = SentenceTransformer('albert-base-v2')\n",
    "\n",
    "review_embeddings = model.encode(list(cleaned_texts))"
   ]
  },
  {
   "cell_type": "code",
   "execution_count": null,
   "metadata": {
    "colab": {
     "base_uri": "https://localhost:8080/"
    },
    "id": "bDeM-41KsimY",
    "outputId": "7d24944e-ac5a-4498-9463-af968f149e6d"
   },
   "outputs": [
    {
     "name": "stdout",
     "output_type": "stream",
     "text": [
      "Mounted at /content/drive\n"
     ]
    }
   ],
   "source": [
    "from google.colab import drive\n",
    "import numpy as np\n",
    "\n",
    "# Mount your Google Drive\n",
    "drive.mount('/content/drive')\n",
    "\n",
    "# Save the embeddings to a file\n",
    "np.save('/content/drive/MyDrive/100000_albert_embeddings.npy', review_embeddings)"
   ]
  },
  {
   "cell_type": "code",
   "execution_count": null,
   "metadata": {
    "colab": {
     "base_uri": "https://localhost:8080/"
    },
    "id": "4ntTuHbUYqBn",
    "outputId": "9f5ff95b-879e-40f7-9946-c90a4c49421b"
   },
   "outputs": [
    {
     "name": "stdout",
     "output_type": "stream",
     "text": [
      "Mounted at /content/drive\n"
     ]
    }
   ],
   "source": [
    "from google.colab import drive\n",
    "import numpy as np\n",
    "\n",
    "# Mount your Google Drive\n",
    "drive.mount('/content/drive')\n",
    "\n",
    "review_embeddings = np.load('/content/drive/MyDrive/100000_albert_embeddings.npy')"
   ]
  },
  {
   "cell_type": "markdown",
   "metadata": {
    "id": "pb_AhYWkZUlQ"
   },
   "source": [
    "# Split"
   ]
  },
  {
   "cell_type": "code",
   "execution_count": null,
   "metadata": {
    "colab": {
     "base_uri": "https://localhost:8080/"
    },
    "id": "g_WtGRBXfjYW",
    "outputId": "630be877-9903-4ae2-afbf-353d8abda816"
   },
   "outputs": [
    {
     "name": "stdout",
     "output_type": "stream",
     "text": [
      "Shape of X_train: (80000, 768)\n",
      "Shape of y_train: (80000,)\n",
      "Shape of X_test: (20000, 768)\n",
      "Shape of y_test: (20000,)\n"
     ]
    }
   ],
   "source": [
    "# Assume 'labels' is already defined\n",
    "labels = df_balanced['Score']\n",
    "\n",
    "# Convert 'review_embeddings' to a numpy array\n",
    "review_embeddings = np.array(review_embeddings)\n",
    "\n",
    "# Split the data into training and testing sets\n",
    "X_train, X_test, y_train, y_test = train_test_split(review_embeddings, labels, test_size=0.2, random_state=42)\n",
    "\n",
    "# Print the shape of the training and testing sets\n",
    "print(\"Shape of X_train:\", X_train.shape)\n",
    "print(\"Shape of y_train:\", y_train.shape)\n",
    "print(\"Shape of X_test:\", X_test.shape)\n",
    "print(\"Shape of y_test:\", y_test.shape)"
   ]
  },
  {
   "cell_type": "markdown",
   "metadata": {
    "id": "r2WmhnpIZNsV"
   },
   "source": [
    "### Neural Network"
   ]
  },
  {
   "cell_type": "code",
   "execution_count": null,
   "metadata": {
    "colab": {
     "base_uri": "https://localhost:8080/"
    },
    "id": "CQM98RdUbwU6",
    "outputId": "33e6c0e8-0730-43aa-b3b2-e3c13ecc7930"
   },
   "outputs": [
    {
     "name": "stdout",
     "output_type": "stream",
     "text": [
      "Epoch 1/20\n",
      "2500/2500 [==============================] - 14s 4ms/step - loss: 0.4911 - accuracy: 0.7634 - val_loss: 0.4531 - val_accuracy: 0.7887\n",
      "Epoch 2/20\n",
      "2500/2500 [==============================] - 9s 4ms/step - loss: 0.4556 - accuracy: 0.7876 - val_loss: 0.4407 - val_accuracy: 0.7931\n",
      "Epoch 3/20\n",
      "2500/2500 [==============================] - 10s 4ms/step - loss: 0.4458 - accuracy: 0.7932 - val_loss: 0.4381 - val_accuracy: 0.7972\n",
      "Epoch 4/20\n",
      "2500/2500 [==============================] - 9s 3ms/step - loss: 0.4402 - accuracy: 0.7953 - val_loss: 0.4290 - val_accuracy: 0.8009\n",
      "Epoch 5/20\n",
      "2500/2500 [==============================] - 10s 4ms/step - loss: 0.4352 - accuracy: 0.8000 - val_loss: 0.4275 - val_accuracy: 0.8004\n",
      "Epoch 6/20\n",
      "2500/2500 [==============================] - 10s 4ms/step - loss: 0.4303 - accuracy: 0.8011 - val_loss: 0.4241 - val_accuracy: 0.8041\n",
      "Epoch 7/20\n",
      "2500/2500 [==============================] - 9s 4ms/step - loss: 0.4259 - accuracy: 0.8045 - val_loss: 0.4270 - val_accuracy: 0.8014\n",
      "Epoch 8/20\n",
      "2500/2500 [==============================] - 10s 4ms/step - loss: 0.4225 - accuracy: 0.8067 - val_loss: 0.4236 - val_accuracy: 0.8041\n",
      "Epoch 9/20\n",
      "2500/2500 [==============================] - 15s 6ms/step - loss: 0.4201 - accuracy: 0.8078 - val_loss: 0.4209 - val_accuracy: 0.8038\n",
      "Epoch 10/20\n",
      "2500/2500 [==============================] - 9s 3ms/step - loss: 0.4159 - accuracy: 0.8101 - val_loss: 0.4177 - val_accuracy: 0.8059\n",
      "Epoch 11/20\n",
      "2500/2500 [==============================] - 10s 4ms/step - loss: 0.4148 - accuracy: 0.8106 - val_loss: 0.4201 - val_accuracy: 0.8067\n",
      "Epoch 12/20\n",
      "2500/2500 [==============================] - 10s 4ms/step - loss: 0.4114 - accuracy: 0.8112 - val_loss: 0.4151 - val_accuracy: 0.8088\n",
      "Epoch 13/20\n",
      "2500/2500 [==============================] - 12s 5ms/step - loss: 0.4082 - accuracy: 0.8141 - val_loss: 0.4238 - val_accuracy: 0.8049\n",
      "Epoch 14/20\n",
      "2500/2500 [==============================] - 10s 4ms/step - loss: 0.4062 - accuracy: 0.8159 - val_loss: 0.4178 - val_accuracy: 0.8069\n",
      "Epoch 15/20\n",
      "2500/2500 [==============================] - 9s 3ms/step - loss: 0.4034 - accuracy: 0.8181 - val_loss: 0.4127 - val_accuracy: 0.8105\n",
      "Epoch 16/20\n",
      "2500/2500 [==============================] - 10s 4ms/step - loss: 0.4019 - accuracy: 0.8175 - val_loss: 0.4123 - val_accuracy: 0.8128\n",
      "Epoch 17/20\n",
      "2500/2500 [==============================] - 10s 4ms/step - loss: 0.4003 - accuracy: 0.8192 - val_loss: 0.4154 - val_accuracy: 0.8087\n",
      "Epoch 18/20\n",
      "2500/2500 [==============================] - 9s 4ms/step - loss: 0.3979 - accuracy: 0.8208 - val_loss: 0.4145 - val_accuracy: 0.8098\n",
      "Epoch 19/20\n",
      "2500/2500 [==============================] - 11s 4ms/step - loss: 0.3963 - accuracy: 0.8212 - val_loss: 0.4133 - val_accuracy: 0.8130\n",
      "Epoch 20/20\n",
      "2500/2500 [==============================] - 9s 3ms/step - loss: 0.3946 - accuracy: 0.8228 - val_loss: 0.4145 - val_accuracy: 0.8105\n"
     ]
    },
    {
     "data": {
      "text/plain": [
       "<keras.src.callbacks.History at 0x7f92c10d3b50>"
      ]
     },
     "execution_count": 17,
     "metadata": {},
     "output_type": "execute_result"
    }
   ],
   "source": [
    "import tensorflow as tf\n",
    "import numpy as np\n",
    "from tensorflow.keras.models import Sequential, load_model\n",
    "from tensorflow.keras.layers import Dense, Dropout\n",
    "from sklearn.model_selection import train_test_split\n",
    "\n",
    "# Define the neural network model\n",
    "nn_model = Sequential([\n",
    "    Dense(256, activation='relu', input_dim=review_embeddings.shape[1]),\n",
    "    Dropout(0.3),\n",
    "    Dense(64, activation='relu'),\n",
    "    Dropout(0.3),\n",
    "    Dense(1, activation='sigmoid')\n",
    "])\n",
    "\n",
    "optimizer = tf.keras.optimizers.Adam(learning_rate=0.0003)\n",
    "nn_model.compile(optimizer=optimizer, loss='binary_crossentropy', metrics=['accuracy'])\n",
    "\n",
    "# Train the model\n",
    "nn_model.fit(X_train, y_train, epochs=20, batch_size=32, validation_data=(X_test, y_test))"
   ]
  },
  {
   "cell_type": "markdown",
   "metadata": {
    "id": "gjf5ArWJtj97"
   },
   "source": [
    "### Evaluation of the model"
   ]
  },
  {
   "cell_type": "code",
   "execution_count": null,
   "metadata": {
    "colab": {
     "base_uri": "https://localhost:8080/"
    },
    "id": "LmTQ8yU9L7Yn",
    "outputId": "bf6bfc85-5907-4960-9871-199a71474067"
   },
   "outputs": [
    {
     "name": "stdout",
     "output_type": "stream",
     "text": [
      "625/625 [==============================] - 1s 2ms/step\n",
      "              precision    recall  f1-score   support\n",
      "\n",
      "           0       0.82      0.80      0.81      9965\n",
      "           1       0.81      0.82      0.81     10035\n",
      "\n",
      "    accuracy                           0.81     20000\n",
      "   macro avg       0.81      0.81      0.81     20000\n",
      "weighted avg       0.81      0.81      0.81     20000\n",
      "\n"
     ]
    }
   ],
   "source": [
    "from sklearn.metrics import classification_report\n",
    "\n",
    "# Predict on test data\n",
    "y_pred = nn_model.predict(X_test)\n",
    "y_pred = (y_pred >= 0.5).astype(int)  # Convert probabilities to binary predictions\n",
    "\n",
    "# Convert y_test to binary (0 or 1)\n",
    "y_test_binary = (y_test >= 0.5).astype(int)\n",
    "\n",
    "# Generate classification report\n",
    "print(classification_report(y_test_binary, y_pred))"
   ]
  },
  {
   "cell_type": "code",
   "execution_count": null,
   "metadata": {
    "colab": {
     "base_uri": "https://localhost:8080/",
     "height": 655
    },
    "id": "g5n9-NUytK1p",
    "outputId": "92514ee8-16e2-4a4c-911f-244057871297"
   },
   "outputs": [
    {
     "data": {
      "text/plain": [
       "<Figure size 800x600 with 0 Axes>"
      ]
     },
     "execution_count": 32,
     "metadata": {},
     "output_type": "execute_result"
    },
    {
     "data": {
      "text/plain": [
       "<Axes: >"
      ]
     },
     "execution_count": 32,
     "metadata": {},
     "output_type": "execute_result"
    },
    {
     "data": {
      "text/plain": [
       "Text(0.5, 1.0, 'Confusion Matrix')"
      ]
     },
     "execution_count": 32,
     "metadata": {},
     "output_type": "execute_result"
    },
    {
     "data": {
      "text/plain": [
       "Text(0.5, 36.72222222222221, 'Predicted Labels')"
      ]
     },
     "execution_count": 32,
     "metadata": {},
     "output_type": "execute_result"
    },
    {
     "data": {
      "text/plain": [
       "Text(70.72222222222221, 0.5, 'True Labels')"
      ]
     },
     "execution_count": 32,
     "metadata": {},
     "output_type": "execute_result"
    },
    {
     "data": {
      "image/png": "[encoded data removed]",
      "text/plain": [
       "<Figure size 800x600 with 2 Axes>"
      ]
     },
     "metadata": {},
     "output_type": "display_data"
    }
   ],
   "source": [
    "from sklearn.metrics import confusion_matrix\n",
    "import matplotlib.pyplot as plt\n",
    "import seaborn as sns\n",
    "\n",
    "# Compute the confusion matrix\n",
    "cm = confusion_matrix(y_test, y_pred)\n",
    "\n",
    "# Plot the confusion matrix\n",
    "plt.figure(figsize=(8, 6))\n",
    "sns.heatmap(cm, annot=True, cmap='Blues', fmt='g')\n",
    "plt.title('Confusion Matrix')\n",
    "plt.xlabel('Predicted Labels')\n",
    "plt.ylabel('True Labels')\n",
    "plt.show()"
   ]
  },
  {
   "cell_type": "markdown",
   "metadata": {
    "id": "xpY6_QXddBZq"
   },
   "source": [
    "# HyperParameter Tuning"
   ]
  },
  {
   "cell_type": "code",
   "execution_count": null,
   "metadata": {
    "id": "v_P--CWH6T1t"
   },
   "outputs": [],
   "source": [
    "import kerastuner as kt\n",
    "import tensorflow as tf\n",
    "\n",
    "def build_model(hp):\n",
    "    # Define the hyperparameters to tune\n",
    "    units_1 = hp.Int('units_1', min_value=128, max_value=512, step=32)\n",
    "    dropout_1 = hp.Float('dropout_1', min_value=0.1, max_value=0.5, step=0.1)\n",
    "    units_2 = hp.Int('units_2', min_value=64, max_value=256, step=32)\n",
    "    dropout_2 = hp.Float('dropout_2', min_value=0.1, max_value=0.5, step=0.1)\n",
    "    learning_rate = hp.Float('learning_rate', min_value=1e-4, max_value=1e-2, sampling='log')\n",
    "\n",
    "    # Define the model architecture\n",
    "    model = Sequential([\n",
    "        Dense(units=units_1, activation='relu', input_dim=review_embeddings.shape[1]),\n",
    "        BatchNormalization(),\n",
    "        Dropout(rate=dropout_1),\n",
    "        Dense(units=units_2, activation='relu'),\n",
    "        BatchNormalization(),\n",
    "        Dropout(rate=dropout_2),\n",
    "        Dense(units=1, activation='sigmoid')\n",
    "    ])\n",
    "\n",
    "    # Compile the model\n",
    "    optimizer = tf.keras.optimizers.Adam(learning_rate=learning_rate)\n",
    "    model.compile(optimizer=optimizer, loss='binary_crossentropy', metrics=['accuracy'])\n",
    "\n",
    "    return model\n",
    "\n",
    "# Create the tuner\n",
    "tuner = kt.RandomSearch(\n",
    "    hypermodel=build_model,\n",
    "    objective='val_accuracy',\n",
    "    max_trials=10,  # Number of trial runs\n",
    "    seed=42,  # Set a random seed for reproducibility\n",
    "    directory='tuner_results',\n",
    "    project_name='text_classification'\n",
    ")\n",
    "\n",
    "# Perform the hyperparameter search\n",
    "tuner.search(X_train, y_train, epochs=20, validation_data=(X_test, y_test))\n",
    "\n",
    "# Get the best hyperparameters and the best model\n",
    "best_hyperparameters = tuner.get_best_hyperparameters()[0]\n",
    "print(f\"Best Hyperparameters: {best_hyperparameters.values}\")\n",
    "\n",
    "best_model = tuner.get_best_models(num_models=1)[0]"
   ]
  },
  {
   "cell_type": "code",
   "execution_count": null,
   "metadata": {
    "id": "ta1EL5pR6eSa"
   },
   "outputs": [],
   "source": [
    "#pip install keras-tuner"
   ]
  },
  {
   "cell_type": "markdown",
   "metadata": {
    "id": "_UlM5pqAW4q8"
   },
   "source": [
    "### Topic Modelling"
   ]
  },
  {
   "cell_type": "code",
   "execution_count": null,
   "metadata": {
    "colab": {
     "base_uri": "https://localhost:8080/"
    },
    "id": "c59mgNosfpIr",
    "outputId": "7ce0e1f3-808c-4846-a139-b66af91d7a95"
   },
   "outputs": [
    {
     "name": "stderr",
     "output_type": "stream",
     "text": [
      "/usr/lib/python3.10/multiprocessing/popen_fork.py:66: RuntimeWarning: os.fork() was called. os.fork() is incompatible with multithreaded code, and JAX is multithreaded, so this will likely lead to a deadlock.\n",
      "  self.pid = os.fork()\n"
     ]
    },
    {
     "name": "stdout",
     "output_type": "stream",
     "text": [
      "[(0, '0.026*\"taste\" + 0.024*\"like\" + 0.013*\"flavor\" + 0.012*\"one\" + 0.010*\"tasted\" + 0.010*\"tried\" + 0.008*\"dont\" + 0.008*\"ever\" + 0.007*\"even\" + 0.007*\"ive\"'), (1, '0.020*\"box\" + 0.016*\"bag\" + 0.015*\"product\" + 0.011*\"like\" + 0.011*\"would\" + 0.010*\"one\" + 0.010*\"good\" + 0.010*\"bar\" + 0.008*\"candy\" + 0.008*\"package\"'), (2, '0.037*\"coffee\" + 0.029*\"tea\" + 0.024*\"taste\" + 0.020*\"like\" + 0.018*\"flavor\" + 0.013*\"drink\" + 0.012*\"cup\" + 0.010*\"good\" + 0.009*\"water\" + 0.008*\"one\"'), (3, '0.025*\"juice\" + 0.016*\"sugar\" + 0.015*\"bottle\" + 0.014*\"vitamin\" + 0.014*\"price\" + 0.013*\"syrup\" + 0.012*\"per\" + 0.011*\"soda\" + 0.010*\"ounce\" + 0.009*\"fruit\"'), (4, '0.018*\"oil\" + 0.016*\"use\" + 0.014*\"water\" + 0.011*\"hair\" + 0.010*\"noodle\" + 0.009*\"coconut\" + 0.008*\"make\" + 0.008*\"soup\" + 0.007*\"pasta\" + 0.007*\"used\"'), (5, '0.024*\"taste\" + 0.022*\"like\" + 0.017*\"chocolate\" + 0.014*\"flavor\" + 0.012*\"good\" + 0.009*\"would\" + 0.007*\"sugar\" + 0.007*\"really\" + 0.007*\"one\" + 0.007*\"sweet\"'), (6, '0.020*\"food\" + 0.015*\"dog\" + 0.014*\"product\" + 0.009*\"like\" + 0.008*\"cat\" + 0.008*\"one\" + 0.008*\"would\" + 0.007*\"ingredient\" + 0.006*\"treat\" + 0.006*\"eat\"'), (7, '0.020*\"amazon\" + 0.019*\"product\" + 0.011*\"price\" + 0.011*\"store\" + 0.010*\"one\" + 0.010*\"order\" + 0.009*\"item\" + 0.008*\"get\" + 0.008*\"time\" + 0.008*\"buy\"')]\n"
     ]
    }
   ],
   "source": [
    "import gensim\n",
    "from gensim import corpora\n",
    "import nltk\n",
    "\n",
    "# Assuming cleaned_texts is a list of strings\n",
    "cleaned_texts = list(cleaned_texts)\n",
    "\n",
    "# Tokenize each document\n",
    "tokenized_texts = [nltk.word_tokenize(text) for text in cleaned_texts]\n",
    "\n",
    "# Create a dictionary from the tokenized texts\n",
    "dictionary = corpora.Dictionary(tokenized_texts)\n",
    "\n",
    "# Create a corpus\n",
    "corpus = [dictionary.doc2bow(text) for text in tokenized_texts]\n",
    "\n",
    "# Build the LDA model\n",
    "lda_model = gensim.models.LdaMulticore(corpus=corpus, id2word=dictionary, num_topics=8)\n",
    "\n",
    "# Print the topics and their associated words\n",
    "print(lda_model.print_topics())\n",
    "\n",
    "# Assign topic labels to each document\n",
    "doc_lda = lda_model[corpus]"
   ]
  },
  {
   "cell_type": "code",
   "execution_count": null,
   "metadata": {
    "colab": {
     "base_uri": "https://localhost:8080/"
    },
    "id": "AExTroUswLSO",
    "outputId": "72c5c835-c40e-4edf-b0bb-8338becf1635"
   },
   "outputs": [
    {
     "name": "stdout",
     "output_type": "stream",
     "text": [
      "Collecting pyLDAvis\n",
      "  Downloading pyLDAvis-3.4.1-py3-none-any.whl (2.6 MB)\n",
      "\u001b[2K     \u001b[90m━━━━━━━━━━━━━━━━━━━━━━━━━━━━━━━━━━━━━━━━\u001b[0m \u001b[32m2.6/2.6 MB\u001b[0m \u001b[31m10.9 MB/s\u001b[0m eta \u001b[36m0:00:00\u001b[0m\n",
      "\u001b[?25hRequirement already satisfied: numpy>=1.24.2 in /usr/local/lib/python3.10/dist-packages (from pyLDAvis) (1.25.2)\n",
      "Requirement already satisfied: scipy in /usr/local/lib/python3.10/dist-packages (from pyLDAvis) (1.11.4)\n",
      "Requirement already satisfied: pandas>=2.0.0 in /usr/local/lib/python3.10/dist-packages (from pyLDAvis) (2.0.3)\n",
      "Requirement already satisfied: joblib>=1.2.0 in /usr/local/lib/python3.10/dist-packages (from pyLDAvis) (1.4.0)\n",
      "Requirement already satisfied: jinja2 in /usr/local/lib/python3.10/dist-packages (from pyLDAvis) (3.1.3)\n",
      "Requirement already satisfied: numexpr in /usr/local/lib/python3.10/dist-packages (from pyLDAvis) (2.10.0)\n",
      "Collecting funcy (from pyLDAvis)\n",
      "  Downloading funcy-2.0-py2.py3-none-any.whl (30 kB)\n",
      "Requirement already satisfied: scikit-learn>=1.0.0 in /usr/local/lib/python3.10/dist-packages (from pyLDAvis) (1.2.2)\n",
      "Requirement already satisfied: gensim in /usr/local/lib/python3.10/dist-packages (from pyLDAvis) (4.3.2)\n",
      "Requirement already satisfied: setuptools in /usr/local/lib/python3.10/dist-packages (from pyLDAvis) (67.7.2)\n",
      "Requirement already satisfied: python-dateutil>=2.8.2 in /usr/local/lib/python3.10/dist-packages (from pandas>=2.0.0->pyLDAvis) (2.8.2)\n",
      "Requirement already satisfied: pytz>=2020.1 in /usr/local/lib/python3.10/dist-packages (from pandas>=2.0.0->pyLDAvis) (2023.4)\n",
      "Requirement already satisfied: tzdata>=2022.1 in /usr/local/lib/python3.10/dist-packages (from pandas>=2.0.0->pyLDAvis) (2024.1)\n",
      "Requirement already satisfied: threadpoolctl>=2.0.0 in /usr/local/lib/python3.10/dist-packages (from scikit-learn>=1.0.0->pyLDAvis) (3.4.0)\n",
      "Requirement already satisfied: smart-open>=1.8.1 in /usr/local/lib/python3.10/dist-packages (from gensim->pyLDAvis) (6.4.0)\n",
      "Requirement already satisfied: MarkupSafe>=2.0 in /usr/local/lib/python3.10/dist-packages (from jinja2->pyLDAvis) (2.1.5)\n",
      "Requirement already satisfied: six>=1.5 in /usr/local/lib/python3.10/dist-packages (from python-dateutil>=2.8.2->pandas>=2.0.0->pyLDAvis) (1.16.0)\n",
      "Installing collected packages: funcy, pyLDAvis\n",
      "Successfully installed funcy-2.0 pyLDAvis-3.4.1\n"
     ]
    }
   ],
   "source": [
    "pip install pyLDAvis"
   ]
  },
  {
   "cell_type": "code",
   "execution_count": null,
   "metadata": {
    "colab": {
     "base_uri": "https://localhost:8080/",
     "height": 917
    },
    "id": "qbs8aCmXwyfB",
    "outputId": "fb8fd2ce-e21b-4071-ee57-7ea007862a7a"
   },
   "outputs": [
    {
     "name": "stderr",
     "output_type": "stream",
     "text": [
      "/usr/local/lib/python3.10/dist-packages/joblib/externals/loky/backend/fork_exec.py:38: RuntimeWarning: os.fork() was called. os.fork() is incompatible with multithreaded code, and JAX is multithreaded, so this will likely lead to a deadlock.\n",
      "  pid = os.fork()\n"
     ]
    },
    {
     "data": {
      "text/html": [
       "\n",
       "<link rel=\"stylesheet\" type=\"text/css\" href=\"https://cdn.jsdelivr.net/gh/bmabey/pyLDAvis@3.4.0/pyLDAvis/js/ldavis.v1.0.0.css\">\n",
       "\n",
       "\n",
       "<div id=\"ldavis_el3721380877809973128525891915\" style=\"background-color:white;\"></div>\n",
       "<script type=\"text/javascript\">\n",
       "\n",
       "var ldavis_el3721380877809973128525891915_data = {\"mdsDat\": {\"x\": [-0.051434157812293976, -0.02667363732492798, -0.021741704153732524, -0.04281684982776898, -0.057402462030921836, -0.02553796250816049, -0.05677543614055202, 0.2823822097983579], \"y\": [0.02931612381859886, -0.06287631856709927, -0.05769669600304888, 0.16060269226763646, 0.08459437775905566, -0.19105648825288346, 0.014894154394043832, 0.022222154583696842], \"topics\": [1, 2, 3, 4, 5, 6, 7, 8], \"cluster\": [1, 1, 1, 1, 1, 1, 1, 1], \"Freq\": [20.556625502504726, 19.61252277194413, 17.361530383798478, 14.211101399225488, 10.247103912872705, 7.73958282751105, 6.616871919161237, 3.654661282982187]}, \"tinfo\": {\"Term\": [\"coffee\", \"tea\", \"taste\", \"chocolate\", \"dog\", \"sugar\", \"amazon\", \"drink\", \"food\", \"box\", \"flavor\", \"water\", \"oil\", \"like\", \"price\", \"juice\", \"cup\", \"bottle\", \"cat\", \"use\", \"bag\", \"bar\", \"hair\", \"syrup\", \"product\", \"tasted\", \"per\", \"order\", \"noodle\", \"store\", \"feeding\", \"litter\", \"diarrhea\", \"byproduct\", \"human\", \"cat\", \"feed\", \"kibble\", \"stool\", \"purina\", \"wellness\", \"liver\", \"poop\", \"pill\", \"vomiting\", \"beneful\", \"vomit\", \"arsenic\", \"fda\", \"kitten\", \"xylitol\", \"aloe\", \"evo\", \"dangerous\", \"training\", \"sulfate\", \"pamelas\", \"squirrel\", \"formula\", \"shelter\", \"dog\", \"vet\", \"puppy\", \"rope\", \"science\", \"pet\", \"animal\", \"yeast\", \"fed\", \"study\", \"treat\", \"food\", \"kitty\", \"reaction\", \"blood\", \"china\", \"research\", \"odor\", \"sick\", \"baby\", \"cause\", \"switched\", \"chew\", \"ingredient\", \"stomach\", \"allergy\", \"started\", \"toy\", \"eat\", \"health\", \"product\", \"hour\", \"teeth\", \"day\", \"problem\", \"chicken\", \"made\", \"would\", \"diet\", \"one\", \"give\", \"smell\", \"like\", \"get\", \"dont\", \"time\", \"also\", \"first\", \"know\", \"even\", \"thing\", \"good\", \"two\", \"im\", \"really\", \"much\", \"make\", \"well\", \"think\", \"fudge\", \"truffle\", \"oreo\", \"ahoy\", \"gmos\", \"hummus\", \"waxy\", \"swiss\", \"hydrogenated\", \"chipotle\", \"slimy\", \"nonexistent\", \"lousy\", \"hotter\", \"habanero\", \"ghirardelli\", \"fondant\", \"defeat\", \"lindt\", \"chile\", \"ovaltine\", \"frosting\", \"krave\", \"frosted\", \"godiva\", \"cluster\", \"tabasco\", \"contacting\", \"nabisco\", \"ghost\", \"chocolate\", \"taco\", \"graham\", \"trans\", \"chocolatey\", \"cacao\", \"butter\", \"kellogg\", \"brownie\", \"jalapeno\", \"cereal\", \"bacon\", \"peanut\", \"cookie\", \"sandwich\", \"saturated\", \"cake\", \"cracker\", \"cocoa\", \"bell\", \"fat\", \"crunch\", \"spicy\", \"popcorn\", \"fiber\", \"cooky\", \"texture\", \"sauce\", \"crunchy\", \"snack\", \"calorie\", \"gram\", \"sweet\", \"milk\", \"almond\", \"filling\", \"taste\", \"cheese\", \"sugar\", \"like\", \"hot\", \"flavor\", \"good\", \"mix\", \"bit\", \"serving\", \"really\", \"would\", \"little\", \"much\", \"make\", \"better\", \"dont\", \"one\", \"eat\", \"product\", \"im\", \"great\", \"starbucks\", \"coffee\", \"chai\", \"kcup\", \"brewed\", \"brew\", \"drinker\", \"decaf\", \"keurig\", \"latte\", \"kona\", \"donut\", \"timothy\", \"iced\", \"cappuccino\", \"folgers\", \"drinkable\", \"matcha\", \"brewing\", \"tassimo\", \"creamer\", \"kcups\", \"kahlua\", \"sip\", \"undrinkable\", \"rooibos\", \"maxwell\", \"sumatra\", \"decaffeinated\", \"twinings\", \"tea\", \"roast\", \"espresso\", \"mio\", \"weak\", \"filter\", \"caffeine\", \"mountain\", \"mocha\", \"drinking\", \"drink\", \"cup\", \"french\", \"bitter\", \"blend\", \"green\", \"vanilla\", \"strong\", \"aroma\", \"water\", \"flavor\", \"taste\", \"flavored\", \"like\", \"bean\", \"aftertaste\", \"good\", \"tried\", \"one\", \"would\", \"try\", \"really\", \"dont\", \"better\", \"much\", \"get\", \"im\", \"make\", \"brand\", \"even\", \"product\", \"little\", \"use\", \"trap\", \"refunded\", \"moth\", \"bulb\", \"accept\", \"chowder\", \"ripoff\", \"mole\", \"issued\", \"bait\", \"rep\", \"clam\", \"ribbon\", \"eligible\", \"gopher\", \"frontier\", \"unacceptable\", \"ashamed\", \"gumballs\", \"chick\", \"merchandise\", \"fruitcake\", \"cigarette\", \"fly\", \"contamination\", \"angry\", \"nylabone\", \"evidently\", \"garage\", \"computer\", \"service\", \"arrival\", \"email\", \"emailed\", \"sending\", \"refund\", \"contacted\", \"dented\", \"amazon\", \"customer\", \"send\", \"ups\", \"christmas\", \"sam\", \"online\", \"shipping\", \"sent\", \"amazoncom\", \"return\", \"contact\", \"item\", \"store\", \"local\", \"basket\", \"grocery\", \"seller\", \"order\", \"ship\", \"business\", \"price\", \"ordered\", \"gift\", \"paid\", \"purchased\", \"year\", \"company\", \"product\", \"can\", \"received\", \"month\", \"back\", \"find\", \"bought\", \"time\", \"buy\", \"get\", \"one\", \"purchase\", \"box\", \"never\", \"would\", \"day\", \"got\", \"money\", \"leaked\", \"expiration\", \"taffy\", \"expire\", \"altoids\", \"torn\", \"shea\", \"embarrassed\", \"worm\", \"musty\", \"ugly\", \"transit\", \"usable\", \"fairness\", \"mud\", \"usps\", \"mar\", \"repurchase\", \"mailed\", \"44\", \"faulty\", \"brachs\", \"counted\", \"hive\", \"eggnog\", \"panel\", \"2013\", \"intrigued\", \"jims\", \"glued\", \"wrapper\", \"pistachio\", \"date\", \"gummies\", \"seam\", \"individually\", \"wrapping\", \"apricot\", \"pictured\", \"weed\", \"expired\", \"wrapped\", \"candy\", \"stale\", \"emerald\", \"bar\", \"haribo\", \"box\", \"packaging\", \"picture\", \"gum\", \"broken\", \"july\", \"sealed\", \"bag\", \"arrived\", \"gummy\", \"package\", \"description\", \"opened\", \"inside\", \"received\", \"plant\", \"licorice\", \"mango\", \"melted\", \"piece\", \"pack\", \"nut\", \"ordered\", \"product\", \"would\", \"good\", \"one\", \"disappointed\", \"order\", \"like\", \"got\", \"fresh\", \"flavor\", \"really\", \"dont\", \"taste\", \"buy\", \"get\", \"time\", \"didnt\", \"jasmine\", \"deceptive\", \"rotten\", \"deodorant\", \"conditioner\", \"scalp\", \"rinsed\", \"device\", \"anchovy\", \"darjeeling\", \"marzano\", \"steamer\", \"cilantro\", \"styrofoam\", \"unused\", \"tower\", \"stamped\", \"acrid\", \"couscous\", \"mosquito\", \"nourishing\", \"tahini\", \"mccanns\", \"virgin\", \"crabmeat\", \"simmer\", \"78\", \"advertized\", \"sliver\", \"tank\", \"noodle\", \"hair\", \"olive\", \"shampoo\", \"mushroom\", \"sardine\", \"narrow\", \"thai\", \"curry\", \"tomato\", \"broth\", \"basil\", \"rinse\", \"pad\", \"drain\", \"boil\", \"stir\", \"cook\", \"oil\", \"pasta\", \"lid\", \"cooking\", \"coconut\", \"direction\", \"soup\", \"instruction\", \"dish\", \"cooked\", \"garlic\", \"use\", \"wash\", \"water\", \"chicken\", \"using\", \"container\", \"plastic\", \"add\", \"bottle\", \"make\", \"used\", \"minute\", \"sauce\", \"rice\", \"easy\", \"product\", \"time\", \"work\", \"put\", \"like\", \"one\", \"good\", \"also\", \"get\", \"lacked\", \"cotton\", \"campbell\", \"biscotti\", \"monosodium\", \"expires\", \"himalayan\", \"november\", \"dud\", \"cheated\", \"amys\", \"sorely\", \"handed\", \"spam\", \"sleeve\", \"postage\", \"crab\", \"engineered\", \"crappy\", \"recieve\", \"polenta\", \"constipated\", \"jamaica\", \"mallomars\", \"popchips\", \"oyster\", \"mat\", \"applesauce\", \"butterscotch\", \"pringles\", \"route\", \"joes\", \"miso\", \"trader\", \"starter\", \"september\", \"mac\", \"wolfgang\", \"libby\", \"harvest\", \"pumpkin\", \"disgusting\", \"sour\", \"wasabi\", \"disapointed\", \"cough\", \"annies\", \"pea\", \"potato\", \"pear\", \"glutamate\", \"chip\", \"nasty\", \"awful\", \"tasted\", \"ever\", \"apple\", \"salt\", \"lime\", \"yuck\", \"worst\", \"waste\", \"horrible\", \"taste\", \"jelly\", \"tried\", \"like\", \"soup\", \"bean\", \"ive\", \"cheese\", \"stuff\", \"flavor\", \"bad\", \"one\", \"bought\", \"love\", \"even\", \"try\", \"dont\", \"money\", \"buy\", \"brand\", \"good\", \"thought\", \"eat\", \"never\", \"really\", \"would\", \"much\", \"product\", \"nespresso\", \"crema\", \"coke\", \"goji\", \"izze\", \"ascorbic\", \"bummed\", \"33\", \"83\", \"b6\", \"pepsi\", \"sorbate\", \"slightest\", \"inc\", \"casing\", \"pasteurized\", \"bent\", \"bump\", \"corporation\", \"chipped\", \"exploded\", \"listened\", \"cocacola\", \"robbery\", \"hydrochloride\", \"dop\", \"thiamine\", \"devil\", \"citrate\", \"disodium\", \"juice\", \"manuka\", \"b12\", \"soda\", \"potassium\", \"zevia\", \"cola\", \"hfc\", \"carbonated\", \"fructose\", \"roland\", \"saffron\", \"chloride\", \"concentrate\", \"vitamin\", \"citric\", \"carbonation\", \"pulp\", \"agave\", \"grape\", \"c\", \"e\", \"cherry\", \"ounce\", \"sparkling\", \"syrup\", \"cent\", \"honey\", \"capsule\", \"switch\", \"tuna\", \"per\", \"acid\", \"oz\", \"bottle\", \"fruit\", \"sugar\", \"natural\", \"100\", \"can\", \"price\", \"corn\", \"high\", \"berry\", \"calorie\", \"drink\", \"apple\", \"save\", \"product\", \"taste\", \"cost\", \"buy\", \"much\", \"get\", \"flavor\", \"ingredient\"], \"Freq\": [26994.0, 21288.0, 50380.0, 14102.0, 13276.0, 11711.0, 14274.0, 10632.0, 19945.0, 14703.0, 32891.0, 12612.0, 7135.0, 54848.0, 12080.0, 3905.0, 10007.0, 6571.0, 7228.0, 13123.0, 13408.0, 6043.0, 3768.0, 3478.0, 41696.0, 7068.0, 4332.0, 8784.0, 3298.0, 8741.0, 1042.4850195937722, 706.2318941964638, 531.5805746223062, 501.3126725165634, 574.3305442093941, 7215.589550269148, 1373.1645582971005, 436.03239533033326, 370.7737487197799, 353.12224872259094, 323.2846825438094, 347.57296829399536, 347.11184943216915, 695.3555406172654, 270.608229223861, 262.23344547006985, 258.4701754183372, 246.4695070264182, 501.15498186891284, 276.3228272660972, 416.2736271462011, 219.65044392204996, 201.15842726630876, 258.43031514362184, 299.8494916944479, 188.2158910907301, 191.35841363343118, 214.26305522401094, 2082.989328623145, 169.62107293602105, 13021.557344731284, 1023.4477123794095, 605.5149325562395, 372.3600826263781, 303.63636783108103, 1809.293578534272, 855.2456552206764, 545.3002611226049, 469.8649662947164, 360.5685681477082, 5269.232641152831, 16816.79243603796, 326.1749025509142, 651.8134168379362, 655.0494509849648, 1422.9793989840184, 869.5846513593692, 654.829144196858, 973.4128149688435, 2084.417096656487, 1157.94698202782, 601.7232051691078, 1699.9495931207748, 6107.917227454886, 1202.7096204171285, 756.1433097773282, 1487.2023536260112, 1110.6152814157037, 4800.970337973866, 1681.77310779901, 11756.038334044251, 1387.6613951221188, 995.3357660107171, 3474.7656844516996, 2684.012253282134, 2075.710852462701, 3677.9108488358625, 6645.126502977869, 1679.53833174458, 6946.0888815392755, 3044.1098750347896, 2709.214349583715, 7841.271631277008, 4428.739588685523, 4241.080416099177, 3775.9205126205147, 3305.1539639264333, 3277.5138391783994, 2911.4206719641684, 3643.8188610020334, 2523.963397760346, 3824.7959111490222, 2510.0778184981523, 2858.7825035128453, 3016.4447438408865, 3028.107150039534, 2800.6039069147646, 2486.867635648721, 2497.336334147361, 621.7171102500823, 946.6275363997386, 452.710115088773, 373.37938469240635, 281.14871795287644, 283.33644668596605, 253.43910967614565, 329.07171056040414, 456.6750244945911, 274.0742314583028, 208.45062432549696, 180.60327202119205, 179.07723233854924, 182.3561294868343, 191.7021339281185, 161.42385660682734, 163.11102113405695, 160.00792148593297, 159.58252183517337, 167.02557828037988, 154.49768322343664, 400.72138926655424, 148.28617552740772, 188.33427038530257, 143.82293263653645, 262.8979623464808, 146.97151751694068, 151.43267283486443, 154.37158188841576, 123.26582643767668, 13661.300297764654, 838.7938722906152, 468.54966429579565, 385.400941913166, 233.25788589772938, 230.75916844039463, 3852.11690900032, 507.7157297608758, 392.55005615836785, 306.54018979673054, 4944.992410133375, 948.3174445942707, 3385.680488834845, 2539.996146622737, 502.21207629990545, 377.65237214933114, 2115.1512415337115, 2502.850613191129, 1745.6904340566757, 502.1861188214261, 2846.201442002726, 841.0151453387251, 1609.9269048313715, 1718.61277586263, 1459.2684591223099, 3728.0985661954956, 3999.3271136435906, 4339.129211592194, 1135.6043736672882, 2893.4203857224534, 3405.206238565704, 1505.6785220053055, 5353.726882549702, 3763.2136903913415, 1476.8527421539616, 1097.278729283931, 19453.29782769159, 2238.5838232984393, 5799.064453442943, 17831.61199424525, 3376.2365473998498, 11116.681811334465, 9650.956143144693, 3611.9796948561434, 3748.6874273611347, 2055.3671604556557, 5655.111148893585, 7041.170643536789, 4335.180239314707, 5103.698342194386, 4707.820456177842, 4163.25088060658, 4754.872966653202, 5501.31232544805, 3601.9975174703254, 4829.819078120397, 3317.944830470546, 3162.9288684936655, 2032.3678658358222, 26977.474414554465, 1251.531192106232, 1499.260858508767, 1040.4321590011007, 1774.3249334030334, 763.5661496172304, 1293.2674754152708, 1379.3023709130562, 619.9043669474809, 547.228074350483, 589.1157015712951, 493.07660602216885, 1030.8138162297066, 564.4558099106165, 389.56290373578764, 459.14541082513114, 403.39919245802207, 1002.4780795848912, 305.20119691597193, 642.7766010491109, 2087.352464869081, 239.44385122944198, 828.5589614485838, 233.61052127360483, 261.63408734070293, 226.85679393079008, 210.60633116293778, 213.36211667561307, 315.56610066102985, 21171.49787495684, 2418.516766873011, 1493.852689631343, 519.573617625565, 2079.4602790328054, 729.5025760167604, 1314.2146893005574, 1162.2579677387805, 658.0399492352755, 2596.043048664808, 9433.814542193135, 8405.336904883987, 1490.37232877327, 3354.395753220767, 2549.5125889710994, 4056.8802096688655, 2876.2290779943614, 3752.413936760972, 1268.846743461112, 6717.0880081928235, 13283.7468419144, 17358.222650422114, 2193.730127872729, 14555.30670905428, 2728.163115684961, 1977.092321543201, 7079.528080789398, 3864.801934091734, 5939.428838540001, 5672.657379368589, 3511.1439478430852, 3918.526784080972, 4110.4012966018945, 3496.753477674447, 3886.1538018075507, 3822.271211404344, 3289.9093077902894, 3415.6179347657176, 2819.071682192579, 3059.3830047912893, 2896.6050456996813, 2699.7714540222314, 2680.543554282862, 929.0348633658887, 329.8224856199981, 311.1786550290042, 275.44104486949544, 233.04751935352488, 238.90947957404148, 303.01571681069584, 220.88021351116512, 173.38749657001208, 163.00922177929297, 140.01483616740333, 334.16157049843514, 133.6289921004075, 148.86424555671823, 125.99629082180152, 125.84128399082078, 221.22955584546045, 119.96367009434888, 115.31598911488717, 115.51297822312624, 112.24359001384785, 112.34120291421397, 112.68121873478441, 571.266961757714, 104.11994589321631, 104.1371294977437, 100.74870074442545, 98.04913745711073, 96.57296383296958, 105.13807446146431, 1694.8211964640811, 217.9377200401269, 924.1845921837544, 359.89514195455774, 401.23166834415173, 1378.9659387550375, 709.4517699739426, 1029.2846345225223, 11909.247794064544, 2237.930280966373, 1193.4850742466533, 314.80608974247684, 853.4225087399521, 323.4581556333184, 1581.8547281654091, 3885.4402082892207, 1818.4661167255183, 535.6787486910881, 2761.5387057279777, 618.4839803839748, 5426.078626147413, 6415.133434476152, 3399.546510872828, 714.5184785088767, 2670.1531851321747, 1671.9734333288507, 5652.39271376349, 850.1877038313348, 622.030302952133, 6472.946133336327, 4507.951375570864, 1676.2064777342787, 1187.8477455726447, 2956.8163684457095, 3297.9166577075116, 2876.82665479604, 11497.314819909352, 2226.8377629114148, 2718.496576934076, 2436.97810258166, 3135.465280731533, 3810.0143493631244, 4135.331722601787, 4905.394249277339, 4635.717733244944, 5010.799931583959, 5967.053624521237, 2401.570334649901, 3406.053737916875, 2689.6745896670604, 4098.029540063861, 2561.6247198056076, 2547.6872606743273, 2357.304816192826, 358.98662846310015, 1163.5746338595868, 186.0505886364574, 176.7108441755954, 151.07748618679415, 164.23249722546865, 149.26615948450865, 117.27247817397472, 153.11154212668507, 91.42782158954726, 94.0923703007657, 86.95407773523465, 78.47119513876676, 80.93676716231585, 77.89077531054764, 94.15035868297636, 75.60163655479947, 74.5201881292941, 73.58703888331588, 73.48938604878485, 73.47683353354708, 73.92247898763426, 69.03139828112622, 69.9919150019848, 67.74849258152416, 67.56962858832965, 67.27195198442125, 67.00654170195574, 67.50600590930918, 66.72649720609485, 504.1728839333533, 172.83199231453773, 2425.958279899995, 137.16536028167266, 104.0665527872479, 314.10102785828946, 123.61416593435636, 213.83993772309984, 354.74901399920384, 91.01644936350999, 419.4206943774946, 476.7958357345011, 3638.5215788288087, 1614.7400035452422, 102.73147998112142, 4246.394991933536, 159.10490070553297, 8770.80952342673, 2437.5419952526886, 1455.044187263893, 1184.0856681327678, 1173.2284280413035, 161.76162123445812, 640.5342350463699, 6720.220661976573, 1854.127413626569, 403.7612633373778, 3565.2226681614447, 1386.9666243251077, 1855.1226398595225, 1179.2053698748007, 2623.3888267748694, 801.2301140809429, 617.0067578165261, 503.1682838260614, 615.7719991776053, 1736.7104631074048, 2067.556571223407, 1341.6892157173636, 2355.308785120117, 6225.777510579284, 4509.555145669552, 4345.551834685554, 4477.60618970626, 1866.6529041840733, 2043.0049982220887, 4569.33094621684, 1887.9780694157546, 1216.9601446038791, 2921.9951893789535, 2133.8342505671444, 2189.970793985634, 2621.2793061604507, 1984.7790780468013, 2049.314413428398, 1904.3009763010016, 1620.5486145289171, 469.2646770689691, 312.0866838591497, 280.93323976336546, 218.70600199025503, 826.6129465903845, 818.4031162245134, 208.8527368200893, 152.4305364064945, 202.4280361518689, 119.53548789491913, 112.90813057689898, 112.06795988631458, 112.79136645281925, 111.41171010880046, 110.45255336756942, 107.49010386763504, 107.25435369290865, 106.03733107565598, 113.57162044564171, 98.11309359317755, 127.33022283533042, 94.28089165150101, 100.21395340702024, 157.9208416337846, 91.31354638116495, 95.42851672331005, 87.95570693163755, 87.34077933930212, 86.36161584402579, 86.0507250085769, 3245.5550306847385, 3699.8523961415062, 1738.0269633793773, 966.6539733850731, 514.0984100579014, 590.4436562578414, 129.780395867332, 802.123700484893, 628.4297505055079, 1365.3576063445817, 819.6880676560892, 253.5734151725155, 285.8064519614117, 233.05358438915033, 401.0692315578213, 275.93245508658356, 361.0273279989505, 1362.320872943745, 5912.240194640036, 2241.389438523465, 1102.4435131629548, 1346.6408501403778, 2976.1195453694586, 1034.897698724336, 2508.269783606343, 992.3461479380263, 1011.8851676110761, 860.5739267126626, 724.4929756165648, 5016.884832005321, 569.3789262287708, 4470.711480882725, 1756.902794461863, 1963.7899171254558, 1262.493402950164, 1373.4225219065634, 1711.9282892439967, 1905.7150835081768, 2745.4856766714456, 2191.700532367428, 1212.1205200092418, 1469.0144726268013, 1225.3354094360532, 1085.7032924492207, 1966.6000893360122, 1581.2368281646868, 1295.1316212294566, 1210.7808112687121, 1523.486621784811, 1379.9515213142254, 1327.1151620267294, 1242.1813787904634, 1249.9809435966747, 181.24802273816135, 151.62677900870608, 173.0917493480717, 137.27495365968818, 135.9209811426165, 112.80541711036173, 116.57378828126448, 105.36486274313002, 103.8978391714233, 102.74945134544696, 109.10504560550078, 107.98059610892882, 97.02080949874481, 91.05963422966089, 91.28150245820918, 88.40887878207376, 162.21017684240095, 77.72639526076352, 93.17306513811216, 77.10783011682656, 76.80198455449349, 75.42289047519212, 91.5040146229889, 68.67694207162947, 71.05914391388774, 87.71938406224189, 66.35009459766778, 112.84980846431776, 67.88115762759283, 64.22908536469254, 70.16948161650765, 498.6900394826709, 219.1794889122417, 519.9094769369823, 183.93966008724306, 156.0520536769261, 534.3983963096772, 122.39151065638572, 161.34625589587336, 190.8512369387392, 942.6096320434608, 937.6900236287576, 1111.1582019993327, 254.59274586277732, 174.841066514446, 264.77695152818666, 222.02233858687515, 552.4426164034888, 940.4999037683405, 277.95649096783825, 166.0371864563807, 1964.148202210727, 818.9733604548584, 1339.631670835401, 2848.42513209989, 2107.3133854651983, 938.4654516386772, 1996.7585496313852, 479.92374149571566, 468.90795658100365, 1029.246680038668, 1295.2648508497982, 1066.05034019857, 7317.875242457549, 407.9590059119222, 2704.7657921813993, 6692.3751628822965, 1202.0143845766652, 1251.599148633005, 2003.4491758634629, 1039.1411465967335, 1480.0141480592572, 3512.5412947521013, 1952.1561777723155, 3444.747688304378, 1956.2019003273094, 1968.5430669904165, 2013.167461468602, 1798.4035237874853, 2142.24744117069, 1360.241493859393, 1804.3634111841063, 1526.192875812932, 1817.680656386855, 1386.531092019322, 1404.8513353787473, 1289.5191366437596, 1451.5555150972905, 1568.612432634611, 1409.3304270175115, 1392.8868714110422, 381.5541596770219, 230.21522933971366, 404.9322745024622, 157.2217371487429, 155.19069466940417, 119.70108508580992, 106.86024349259168, 167.8772234836284, 141.15819031235225, 105.07667941012643, 158.28011563962235, 90.66244320474436, 86.39924036948575, 85.88043644965046, 81.52803362598115, 77.81495073519724, 82.4287561166104, 78.1574086253127, 76.4669923776352, 74.84861543479256, 73.47976639015208, 78.31850565382398, 74.73212729203254, 69.45198946130738, 78.77730053041925, 75.83370091286606, 65.69404872148719, 66.0021674613592, 65.09473185357983, 70.54060809977304, 3765.932745799375, 135.82740623621368, 186.9406445315367, 1709.4827807664753, 409.0552132012396, 160.92963626827049, 504.665650539831, 229.85138728172262, 475.9794250802824, 704.2431557102269, 175.46886093428745, 96.63849565797156, 190.5542221322185, 666.4027280907545, 2167.3138849191896, 285.9822227321525, 317.2715549507814, 222.82591012433144, 372.31452754414664, 669.7391206397303, 588.1947532439415, 282.20472059136506, 1204.5576393512679, 1579.4155402491776, 226.23539118055757, 1938.5038221433215, 517.7224944574573, 1380.183027059477, 433.89716101033525, 608.8209346151241, 644.8250090441574, 1840.9043815543791, 882.9692033026645, 1272.58109526612, 2238.372558940489, 1399.7528216460605, 2464.0712919770554, 1384.7632401805017, 825.0656781303979, 1202.082659768523, 2085.28347005864, 1157.4362872597876, 1023.3433104234277, 580.5455697082551, 895.6952817130261, 1104.098606470381, 647.617025587306, 707.7512617935116, 1131.7448411559592, 960.8352448605699, 690.8839992321975, 780.7376940970423, 749.2744254576309, 733.9609783244216, 732.525740552362, 693.9703615106281], \"Total\": [26994.0, 21288.0, 50380.0, 14102.0, 13276.0, 11711.0, 14274.0, 10632.0, 19945.0, 14703.0, 32891.0, 12612.0, 7135.0, 54848.0, 12080.0, 3905.0, 10007.0, 6571.0, 7228.0, 13123.0, 13408.0, 6043.0, 3768.0, 3478.0, 41696.0, 7068.0, 4332.0, 8784.0, 3298.0, 8741.0, 1043.5932141274632, 707.3300259444761, 532.4708350426197, 502.19206663629603, 575.3723123920261, 7228.895153776384, 1375.9725463409072, 436.98944360233145, 371.6683936938693, 354.04812363818394, 324.19819805202843, 348.59199913858356, 348.15739627841225, 697.5178281094963, 271.49471667067223, 263.10696598632, 259.35053961212293, 247.34253015915812, 502.9884330555663, 277.3709300667544, 417.87624052673124, 220.55156940414886, 202.03815676716232, 259.56861160331727, 301.2139306123476, 189.0896074988757, 192.2523524183308, 215.32445195029825, 2093.771713249317, 170.5411902116668, 13276.855579970106, 1029.9508624331759, 611.4840637008866, 374.95797965642276, 305.6643391525404, 1865.084642144104, 871.6049049960025, 554.5071744368623, 478.81737116815947, 364.6222689994318, 5950.486793142897, 19945.160359981583, 329.73329490017784, 692.5495493432373, 698.6294044052679, 1626.5763872306015, 964.5185526688997, 704.7733638127925, 1125.8902764614693, 2746.805230800684, 1414.3463988524852, 656.0614243170555, 2257.431566930628, 10621.828058843219, 1537.73163248362, 865.7507024502487, 2082.3132929216645, 1430.9650948918882, 10643.695135816022, 2586.518406530517, 41696.78659025598, 2045.300669325866, 1289.0801335370893, 8136.246793564608, 5588.449346520503, 3971.586354577738, 10560.39230133732, 30830.648196509534, 3055.1567699908674, 33905.1618327992, 8537.239607144505, 7126.863300062724, 54848.0017912666, 21366.57433955024, 20459.251457326332, 16299.793453813147, 12357.565415341161, 12213.152927476094, 9565.667079800283, 15922.316584495677, 8764.680873049281, 30870.33474673587, 9142.312086930335, 13936.858874558968, 17620.369093417008, 18572.645727650804, 16472.176708840903, 10123.78419414152, 10848.187624257183, 622.6834083996971, 948.0992714160576, 453.61818558167056, 374.2295868384111, 282.00802215326166, 284.2494541422825, 254.28895620800913, 330.194176639492, 458.3455704992698, 275.179944551593, 209.30185052216424, 181.45374502457898, 179.93065135785406, 183.23957975661756, 192.63217583237366, 162.27565982969298, 163.9901136911791, 160.87245000768831, 160.44851354846782, 167.94319822977226, 155.34776212605846, 403.0006759622657, 149.13740261373218, 189.42286223079952, 144.686273151361, 264.4948392920744, 147.8819964258663, 152.37797893161502, 155.43546029184603, 124.11535916555988, 14102.987233188232, 845.2652077668249, 473.3831309646605, 388.7603299687402, 234.93014669902627, 232.9358628901583, 4062.216012467698, 519.3823922896154, 399.84129354324295, 311.50187278535344, 5364.170534990754, 994.6844447062417, 3740.155926063836, 2780.6279323091208, 521.6918657394564, 389.96739849596946, 2354.708941557691, 2812.178950147283, 1982.061109219684, 530.3637523556707, 3435.812372830901, 926.4582123154003, 1882.268254413584, 2031.4237945258851, 1703.4037686019165, 4843.054710192142, 5346.3519136106415, 5882.402160210171, 1348.6392173524966, 3972.3251264612313, 4904.542347579527, 1912.1987910723367, 8952.372672967853, 5887.466649064893, 1939.03384099292, 1346.342204120528, 50380.32715037419, 3394.9760739272842, 11711.686823047863, 54848.0017912666, 5962.4236818929585, 32891.34346261874, 30870.33474673587, 7531.402870110555, 8798.236514130625, 3329.821799475465, 17620.369093417008, 30830.648196509534, 12909.869183985262, 18572.645727650804, 16472.176708840903, 13833.517469231323, 20459.251457326332, 33905.1618327992, 10643.695135816022, 41696.78659025598, 13936.858874558968, 12433.250412694993, 2033.6082150619482, 26994.826141660753, 1252.4593001849614, 1500.6148588508981, 1041.6909469933792, 1777.032203241499, 764.7509975379533, 1295.3312595440293, 1381.5111897621898, 620.9425977818632, 548.1653868220933, 590.1484876171106, 493.976286282245, 1032.7391010034253, 565.7231635108355, 390.4473566099627, 460.21517587794483, 404.35765908692764, 1004.9169886178024, 306.0710720692281, 644.751021896463, 2094.273007231781, 240.3148843933312, 831.6376354708764, 234.48174157266044, 262.64170509317955, 227.76321492879364, 211.4991159384105, 214.31195265797885, 317.0345199993565, 21288.987668296384, 2440.3897201393956, 1509.4880652765146, 522.1748887549653, 2127.845771258743, 739.994336080017, 1350.2264673376915, 1194.7359237137084, 669.4156845065013, 2759.446657422493, 10632.873530618805, 10007.521780508621, 1643.0532250966223, 4041.758600209664, 2986.1966386846766, 5264.412009903329, 3690.34450530752, 5043.03298776213, 1462.6654430332717, 12612.158070500023, 32891.34346261874, 50380.32715037419, 3164.907549307275, 54848.0017912666, 4501.244407207823, 3006.048503878382, 30870.33474673587, 12730.400558392179, 33905.1618327992, 30830.648196509534, 12576.949444170816, 17620.369093417008, 20459.251457326332, 13833.517469231323, 18572.645727650804, 21366.57433955024, 13936.858874558968, 16472.176708840903, 10276.496410852385, 15922.316584495677, 41696.78659025598, 12909.869183985262, 13123.531009994826, 929.9175458819307, 330.68141680273243, 312.03693918734103, 276.30056651071817, 233.9073280552588, 239.79698296726664, 304.162845942007, 221.86878740826774, 174.2490368765854, 163.86892518354807, 140.90147250143374, 336.2923718736611, 134.4895767234901, 149.8426866635414, 126.85551171381611, 126.70246295106006, 222.78950750175147, 120.83408937976424, 116.17511368510071, 116.37399836545539, 113.10226891798321, 113.20128999188428, 113.54407892464208, 575.8614972426432, 104.98517405806636, 105.00489520452358, 101.61123273919397, 98.91079316559942, 97.44743732133804, 106.09551515934385, 1720.14546400536, 220.2292120087998, 960.2639744651663, 369.02582436936916, 414.2743146214597, 1464.7201368318804, 745.0714935456401, 1100.9774938321666, 14274.174970695803, 2510.508239729532, 1307.1395932653415, 327.6836813036875, 941.2450043126056, 340.08056529895714, 1809.9371700294398, 4707.131347469142, 2102.9392631441865, 580.6785205485479, 3333.4456403304307, 677.8394297488633, 7211.823689550541, 8741.803196798257, 4404.919237558458, 798.9668774237423, 3451.007193987816, 2068.2203637245, 8784.657982411016, 998.4714905762615, 709.7994394412308, 12080.385771032903, 7855.949132468265, 2447.3017259430876, 1651.7321610006736, 5837.842206655816, 6983.464443005089, 5847.6057250567255, 41696.78659025598, 4130.715164555653, 5634.9509617393405, 4889.296939066066, 7167.58889289751, 9843.281332207187, 11823.339889302497, 16299.793453813147, 15942.808545087915, 21366.57433955024, 33905.1618327992, 5161.893510845577, 14703.877447657562, 7736.633762968901, 30830.648196509534, 8136.246793564608, 9139.164337971844, 6462.178355736331, 360.01231190603005, 1168.8002739179788, 186.95479769863007, 177.60237617316926, 151.99404494715782, 165.26660027709278, 150.3256051700682, 118.16598778872317, 154.29177161791273, 92.31789981121713, 95.01495233063221, 87.92128384024355, 79.36379410084004, 81.8656644164697, 78.8084954378134, 95.26397749154323, 76.5000894290953, 75.4117450545352, 74.47686993085624, 74.38229756334994, 74.36994389608385, 74.82668678367584, 69.92097802721024, 70.89487900698383, 68.63753625315792, 68.46296032200497, 68.16225338714806, 67.89827225693149, 68.40661298726485, 67.61779749484454, 514.029166323593, 175.6214897944074, 2531.815365001896, 139.19671539491029, 105.49989360022924, 322.3051533870999, 125.79977614677148, 219.60101633637666, 374.2101814329755, 92.61856618358463, 447.97989041668404, 515.05801473847, 4473.458987281873, 1974.1122273117207, 106.04964032885574, 6043.158634820819, 170.2557875904639, 14703.877447657562, 3592.220133973331, 2042.4669650184383, 1637.2873624023007, 1630.366071665332, 175.80590880632283, 841.2860425618961, 13408.585276411444, 3080.0525946582243, 515.4534635560074, 7530.1326224709155, 2394.6989933133464, 3495.8269427206474, 2013.068450452537, 5634.9509617393405, 1303.1041393661126, 924.7124296193625, 715.075133163142, 956.8620106443725, 4083.6338508460617, 5278.283051009316, 2919.663209817691, 7855.949132468265, 41696.78659025598, 30830.648196509534, 30870.33474673587, 33905.1618327992, 7022.37853756771, 8784.657982411016, 54848.0017912666, 9139.164337971844, 3604.501372086649, 32891.34346261874, 17620.369093417008, 20459.251457326332, 50380.32715037419, 15942.808545087915, 21366.57433955024, 16299.793453813147, 10885.3745428641, 470.3200565997271, 312.9335485060648, 281.7712529339148, 219.5433158561931, 830.5762041830915, 822.4312472150898, 209.8979674641686, 153.26865340405365, 203.6164458210541, 120.37737540831296, 113.74684661887245, 112.90437262313613, 113.63330175904858, 112.25066701052457, 111.28954931533008, 108.32716186388555, 108.0928553326336, 106.87740697089868, 114.49255642846508, 98.95283791607955, 128.46315293356508, 95.12696850292127, 101.11511466982262, 159.3472823570689, 92.1538838515587, 96.32216274308212, 88.7959500683692, 88.1817733993578, 87.20132667833822, 86.93125594114815, 3298.965975143373, 3768.0387212625296, 1773.6999017679163, 982.3963932270373, 519.5081228023038, 599.5754937157819, 131.20578551799937, 833.7441002879759, 650.456190764975, 1463.7374255987793, 873.0277100899157, 261.1140000488364, 296.35874667094384, 240.3376478423296, 423.1407285893359, 287.1330960717458, 379.97380613447024, 1520.764117137662, 7135.725555134247, 2570.6216371072096, 1265.6453121995805, 1569.5290818783878, 3871.684350552773, 1343.1040245463678, 3785.673763392068, 1324.3483985430762, 1380.109776611415, 1198.278525075741, 995.9958610563616, 13123.531009994826, 736.0817044027218, 12612.158070500023, 3971.586354577738, 5573.059672267599, 2795.820824146811, 3244.7696748495678, 5098.744325010937, 6571.542558570687, 16472.176708840903, 10323.958324086645, 2949.195137120063, 5882.402160210171, 3906.229770375687, 2643.084403009999, 41696.78659025598, 16299.793453813147, 6574.838190770508, 5631.6308705038255, 54848.0017912666, 33905.1618327992, 30870.33474673587, 12357.565415341161, 21366.57433955024, 182.1101696900048, 152.48990843791634, 174.08030846188652, 138.14447173109028, 136.84236691139685, 113.66859907971453, 117.49010399552732, 106.23092379156716, 104.76051848210182, 103.61208336730691, 110.03313299528733, 108.92278546986176, 97.88369731154049, 91.92081990013145, 92.15546894839693, 89.27053900015439, 163.9896397948567, 78.58947079802314, 94.21270938643333, 77.96955656816331, 77.67182171268642, 76.28455072021295, 92.59266447322804, 69.53933716348998, 71.9529391040259, 88.85967384298414, 67.21675928426345, 114.32469737771716, 68.78382368543323, 65.09053851265293, 71.15184207477826, 518.3159754834977, 225.8839379642558, 545.4659531663882, 189.08912341191402, 161.4367575314625, 586.3707969012085, 126.95250395176446, 170.4205672159694, 205.18877133136337, 1146.6520490184087, 1180.2704626432608, 1466.444937431171, 286.0438035409286, 188.85018998254859, 300.89803157925945, 250.14527520186786, 769.5789816229818, 1463.3792687895857, 343.0669957368433, 184.22667572423475, 4099.7509833916765, 1417.6695722843472, 2672.5986727944032, 7068.662788232572, 4986.784532237968, 1795.5422017655612, 4929.85566638211, 760.1647029606917, 778.5423097792504, 2430.3678191132362, 3418.0503900590525, 2728.8060765850623, 50380.32715037419, 658.9179419960019, 12730.400558392179, 54848.0017912666, 3785.673763392068, 4501.244407207823, 10021.850675000456, 3394.9760739272842, 6769.010742271976, 32891.34346261874, 11426.142286129467, 33905.1618327992, 11823.339889302497, 13107.698938576923, 15922.316584495677, 12576.949444170816, 20459.251457326332, 6462.178355736331, 15942.808545087915, 10276.496410852385, 30870.33474673587, 9037.484738736675, 10643.695135816022, 7736.633762968901, 17620.369093417008, 30830.648196509534, 18572.645727650804, 41696.78659025598, 382.4223248313136, 231.0938617706044, 406.50762039043116, 158.09726840625675, 156.1787067272823, 120.59330706385263, 107.72840239827062, 169.25607178633018, 142.4310780951823, 106.04715621754129, 159.77104852296026, 91.53218980938091, 87.26881650324972, 86.75143022598398, 82.41739483061754, 78.68276627434618, 83.34816454413647, 79.0327804403103, 77.33614067782274, 75.71789345958081, 74.34822872181266, 79.25107371772843, 75.64322130727199, 70.32197542212609, 79.77850427704702, 76.83412739127982, 66.56172812448649, 66.8753071279513, 65.96173085589197, 71.48871189536446, 3905.4718127467568, 137.67054858656292, 191.29382167667413, 1832.1635404242418, 426.329377766682, 165.13249212045028, 530.6573520687616, 238.5163459446002, 507.4843106615036, 760.4253316069655, 181.79794652971106, 98.36315395157392, 198.9074129321846, 733.4765486349409, 2568.2349135755394, 305.6073474457799, 345.4949613987381, 237.84395528402572, 412.62048082006567, 772.2855147011221, 688.9448810135477, 311.59742421199724, 1615.3366587745293, 2276.313952325167, 248.21419648998813, 3478.466148031671, 706.9170808646355, 2679.2461225169045, 592.8484561795611, 945.8659413703442, 1030.6381578630417, 4332.909347824032, 1630.6912498202087, 2823.17792028083, 6571.542558570687, 4062.45617129209, 11711.686823047863, 4796.922657437124, 2005.5188393561434, 4130.715164555653, 12080.385771032903, 4113.66570926792, 5082.5286521576545, 1152.9629274799888, 4904.542347579527, 10632.873530618805, 1795.5422017655612, 2628.3510756750397, 41696.78659025598, 50380.32715037419, 3564.117470724249, 15942.808545087915, 18572.645727650804, 21366.57433955024, 32891.34346261874, 10621.828058843219], \"Category\": [\"Default\", \"Default\", \"Default\", \"Default\", \"Default\", \"Default\", \"Default\", \"Default\", \"Default\", \"Default\", \"Default\", \"Default\", \"Default\", \"Default\", \"Default\", \"Default\", \"Default\", \"Default\", \"Default\", \"Default\", \"Default\", \"Default\", \"Default\", \"Default\", \"Default\", \"Default\", \"Default\", \"Default\", \"Default\", \"Default\", \"Topic1\", \"Topic1\", \"Topic1\", \"Topic1\", \"Topic1\", \"Topic1\", \"Topic1\", \"Topic1\", \"Topic1\", \"Topic1\", \"Topic1\", \"Topic1\", \"Topic1\", \"Topic1\", \"Topic1\", \"Topic1\", \"Topic1\", \"Topic1\", \"Topic1\", \"Topic1\", \"Topic1\", \"Topic1\", \"Topic1\", \"Topic1\", \"Topic1\", \"Topic1\", \"Topic1\", \"Topic1\", \"Topic1\", \"Topic1\", \"Topic1\", \"Topic1\", \"Topic1\", \"Topic1\", \"Topic1\", \"Topic1\", \"Topic1\", \"Topic1\", \"Topic1\", \"Topic1\", \"Topic1\", \"Topic1\", \"Topic1\", \"Topic1\", \"Topic1\", \"Topic1\", \"Topic1\", \"Topic1\", \"Topic1\", \"Topic1\", \"Topic1\", \"Topic1\", \"Topic1\", \"Topic1\", \"Topic1\", \"Topic1\", \"Topic1\", \"Topic1\", \"Topic1\", \"Topic1\", \"Topic1\", \"Topic1\", \"Topic1\", \"Topic1\", \"Topic1\", \"Topic1\", \"Topic1\", \"Topic1\", \"Topic1\", \"Topic1\", \"Topic1\", \"Topic1\", \"Topic1\", \"Topic1\", \"Topic1\", \"Topic1\", \"Topic1\", \"Topic1\", \"Topic1\", \"Topic1\", \"Topic1\", \"Topic1\", \"Topic1\", \"Topic1\", \"Topic1\", \"Topic1\", \"Topic1\", \"Topic1\", \"Topic1\", \"Topic2\", \"Topic2\", \"Topic2\", \"Topic2\", \"Topic2\", \"Topic2\", \"Topic2\", \"Topic2\", \"Topic2\", \"Topic2\", \"Topic2\", \"Topic2\", \"Topic2\", \"Topic2\", \"Topic2\", \"Topic2\", \"Topic2\", \"Topic2\", \"Topic2\", \"Topic2\", \"Topic2\", \"Topic2\", \"Topic2\", \"Topic2\", \"Topic2\", \"Topic2\", \"Topic2\", \"Topic2\", \"Topic2\", \"Topic2\", \"Topic2\", \"Topic2\", \"Topic2\", \"Topic2\", \"Topic2\", \"Topic2\", \"Topic2\", \"Topic2\", \"Topic2\", \"Topic2\", \"Topic2\", \"Topic2\", \"Topic2\", \"Topic2\", \"Topic2\", \"Topic2\", \"Topic2\", \"Topic2\", \"Topic2\", \"Topic2\", \"Topic2\", \"Topic2\", \"Topic2\", \"Topic2\", \"Topic2\", \"Topic2\", \"Topic2\", \"Topic2\", \"Topic2\", \"Topic2\", \"Topic2\", \"Topic2\", \"Topic2\", \"Topic2\", \"Topic2\", \"Topic2\", \"Topic2\", \"Topic2\", \"Topic2\", \"Topic2\", \"Topic2\", \"Topic2\", \"Topic2\", \"Topic2\", \"Topic2\", \"Topic2\", \"Topic2\", \"Topic2\", \"Topic2\", \"Topic2\", \"Topic2\", \"Topic2\", \"Topic2\", \"Topic2\", \"Topic2\", \"Topic2\", \"Topic2\", \"Topic2\", \"Topic3\", \"Topic3\", \"Topic3\", \"Topic3\", \"Topic3\", \"Topic3\", \"Topic3\", \"Topic3\", \"Topic3\", \"Topic3\", \"Topic3\", \"Topic3\", \"Topic3\", \"Topic3\", \"Topic3\", \"Topic3\", \"Topic3\", \"Topic3\", \"Topic3\", \"Topic3\", \"Topic3\", \"Topic3\", \"Topic3\", \"Topic3\", \"Topic3\", \"Topic3\", \"Topic3\", \"Topic3\", \"Topic3\", \"Topic3\", \"Topic3\", \"Topic3\", \"Topic3\", \"Topic3\", \"Topic3\", \"Topic3\", \"Topic3\", \"Topic3\", \"Topic3\", \"Topic3\", \"Topic3\", \"Topic3\", \"Topic3\", \"Topic3\", \"Topic3\", \"Topic3\", \"Topic3\", \"Topic3\", \"Topic3\", \"Topic3\", \"Topic3\", \"Topic3\", \"Topic3\", \"Topic3\", \"Topic3\", \"Topic3\", \"Topic3\", \"Topic3\", \"Topic3\", \"Topic3\", \"Topic3\", \"Topic3\", \"Topic3\", \"Topic3\", \"Topic3\", \"Topic3\", \"Topic3\", \"Topic3\", \"Topic3\", \"Topic3\", \"Topic3\", \"Topic3\", \"Topic3\", \"Topic4\", \"Topic4\", \"Topic4\", \"Topic4\", \"Topic4\", \"Topic4\", \"Topic4\", \"Topic4\", \"Topic4\", \"Topic4\", \"Topic4\", \"Topic4\", \"Topic4\", \"Topic4\", \"Topic4\", \"Topic4\", \"Topic4\", \"Topic4\", \"Topic4\", \"Topic4\", \"Topic4\", \"Topic4\", \"Topic4\", \"Topic4\", \"Topic4\", \"Topic4\", \"Topic4\", \"Topic4\", \"Topic4\", \"Topic4\", \"Topic4\", \"Topic4\", \"Topic4\", \"Topic4\", \"Topic4\", \"Topic4\", \"Topic4\", \"Topic4\", \"Topic4\", \"Topic4\", \"Topic4\", \"Topic4\", \"Topic4\", \"Topic4\", \"Topic4\", \"Topic4\", \"Topic4\", \"Topic4\", \"Topic4\", \"Topic4\", \"Topic4\", \"Topic4\", \"Topic4\", \"Topic4\", \"Topic4\", \"Topic4\", \"Topic4\", \"Topic4\", \"Topic4\", \"Topic4\", \"Topic4\", \"Topic4\", \"Topic4\", \"Topic4\", \"Topic4\", \"Topic4\", \"Topic4\", \"Topic4\", \"Topic4\", \"Topic4\", \"Topic4\", \"Topic4\", \"Topic4\", \"Topic4\", \"Topic4\", \"Topic4\", \"Topic4\", \"Topic4\", \"Topic4\", \"Topic4\", \"Topic4\", \"Topic4\", \"Topic4\", \"Topic4\", \"Topic5\", \"Topic5\", \"Topic5\", \"Topic5\", \"Topic5\", \"Topic5\", \"Topic5\", \"Topic5\", \"Topic5\", \"Topic5\", \"Topic5\", \"Topic5\", \"Topic5\", \"Topic5\", \"Topic5\", \"Topic5\", \"Topic5\", \"Topic5\", \"Topic5\", \"Topic5\", \"Topic5\", \"Topic5\", \"Topic5\", \"Topic5\", \"Topic5\", \"Topic5\", \"Topic5\", \"Topic5\", \"Topic5\", \"Topic5\", \"Topic5\", \"Topic5\", \"Topic5\", \"Topic5\", \"Topic5\", \"Topic5\", \"Topic5\", \"Topic5\", \"Topic5\", \"Topic5\", \"Topic5\", \"Topic5\", \"Topic5\", \"Topic5\", \"Topic5\", \"Topic5\", \"Topic5\", \"Topic5\", \"Topic5\", \"Topic5\", \"Topic5\", \"Topic5\", \"Topic5\", \"Topic5\", \"Topic5\", \"Topic5\", \"Topic5\", \"Topic5\", \"Topic5\", \"Topic5\", \"Topic5\", \"Topic5\", \"Topic5\", \"Topic5\", \"Topic5\", \"Topic5\", \"Topic5\", \"Topic5\", \"Topic5\", \"Topic5\", \"Topic5\", \"Topic5\", \"Topic5\", \"Topic5\", \"Topic5\", \"Topic5\", \"Topic5\", \"Topic5\", \"Topic5\", \"Topic5\", \"Topic5\", \"Topic5\", \"Topic5\", \"Topic5\", \"Topic5\", \"Topic5\", \"Topic5\", \"Topic6\", \"Topic6\", \"Topic6\", \"Topic6\", \"Topic6\", \"Topic6\", \"Topic6\", \"Topic6\", \"Topic6\", \"Topic6\", \"Topic6\", \"Topic6\", \"Topic6\", \"Topic6\", \"Topic6\", \"Topic6\", \"Topic6\", \"Topic6\", \"Topic6\", \"Topic6\", \"Topic6\", \"Topic6\", \"Topic6\", \"Topic6\", \"Topic6\", \"Topic6\", \"Topic6\", \"Topic6\", \"Topic6\", \"Topic6\", \"Topic6\", \"Topic6\", \"Topic6\", \"Topic6\", \"Topic6\", \"Topic6\", \"Topic6\", \"Topic6\", \"Topic6\", \"Topic6\", \"Topic6\", \"Topic6\", \"Topic6\", \"Topic6\", \"Topic6\", \"Topic6\", \"Topic6\", \"Topic6\", \"Topic6\", \"Topic6\", \"Topic6\", \"Topic6\", \"Topic6\", \"Topic6\", \"Topic6\", \"Topic6\", \"Topic6\", \"Topic6\", \"Topic6\", \"Topic6\", \"Topic6\", \"Topic6\", \"Topic6\", \"Topic6\", \"Topic6\", \"Topic6\", \"Topic6\", \"Topic6\", \"Topic6\", \"Topic6\", \"Topic6\", \"Topic6\", \"Topic6\", \"Topic6\", \"Topic6\", \"Topic6\", \"Topic6\", \"Topic6\", \"Topic6\", \"Topic6\", \"Topic6\", \"Topic6\", \"Topic6\", \"Topic7\", \"Topic7\", \"Topic7\", \"Topic7\", \"Topic7\", \"Topic7\", \"Topic7\", \"Topic7\", \"Topic7\", \"Topic7\", \"Topic7\", \"Topic7\", \"Topic7\", \"Topic7\", \"Topic7\", \"Topic7\", \"Topic7\", \"Topic7\", \"Topic7\", \"Topic7\", \"Topic7\", \"Topic7\", \"Topic7\", \"Topic7\", \"Topic7\", \"Topic7\", \"Topic7\", \"Topic7\", \"Topic7\", \"Topic7\", \"Topic7\", \"Topic7\", \"Topic7\", \"Topic7\", \"Topic7\", \"Topic7\", \"Topic7\", \"Topic7\", \"Topic7\", \"Topic7\", \"Topic7\", \"Topic7\", \"Topic7\", \"Topic7\", \"Topic7\", \"Topic7\", \"Topic7\", \"Topic7\", \"Topic7\", \"Topic7\", \"Topic7\", \"Topic7\", \"Topic7\", \"Topic7\", \"Topic7\", \"Topic7\", \"Topic7\", \"Topic7\", \"Topic7\", \"Topic7\", \"Topic7\", \"Topic7\", \"Topic7\", \"Topic7\", \"Topic7\", \"Topic7\", \"Topic7\", \"Topic7\", \"Topic7\", \"Topic7\", \"Topic7\", \"Topic7\", \"Topic7\", \"Topic7\", \"Topic7\", \"Topic7\", \"Topic7\", \"Topic7\", \"Topic7\", \"Topic7\", \"Topic7\", \"Topic7\", \"Topic7\", \"Topic7\", \"Topic7\", \"Topic7\", \"Topic7\", \"Topic7\", \"Topic7\", \"Topic7\", \"Topic7\", \"Topic8\", \"Topic8\", \"Topic8\", \"Topic8\", \"Topic8\", \"Topic8\", \"Topic8\", \"Topic8\", \"Topic8\", \"Topic8\", \"Topic8\", \"Topic8\", \"Topic8\", \"Topic8\", \"Topic8\", \"Topic8\", \"Topic8\", \"Topic8\", \"Topic8\", \"Topic8\", \"Topic8\", \"Topic8\", \"Topic8\", \"Topic8\", \"Topic8\", \"Topic8\", \"Topic8\", \"Topic8\", \"Topic8\", \"Topic8\", \"Topic8\", \"Topic8\", \"Topic8\", \"Topic8\", \"Topic8\", \"Topic8\", \"Topic8\", \"Topic8\", \"Topic8\", \"Topic8\", \"Topic8\", \"Topic8\", \"Topic8\", \"Topic8\", \"Topic8\", \"Topic8\", \"Topic8\", \"Topic8\", \"Topic8\", \"Topic8\", \"Topic8\", \"Topic8\", \"Topic8\", \"Topic8\", \"Topic8\", \"Topic8\", \"Topic8\", \"Topic8\", \"Topic8\", \"Topic8\", \"Topic8\", \"Topic8\", \"Topic8\", \"Topic8\", \"Topic8\", \"Topic8\", \"Topic8\", \"Topic8\", \"Topic8\", \"Topic8\", \"Topic8\", \"Topic8\", \"Topic8\", \"Topic8\", \"Topic8\", \"Topic8\", \"Topic8\", \"Topic8\", \"Topic8\", \"Topic8\", \"Topic8\", \"Topic8\", \"Topic8\", \"Topic8\", \"Topic8\", \"Topic8\"], \"logprob\": [30.0, 29.0, 28.0, 27.0, 26.0, 25.0, 24.0, 23.0, 22.0, 21.0, 20.0, 19.0, 18.0, 17.0, 16.0, 15.0, 14.0, 13.0, 12.0, 11.0, 10.0, 9.0, 8.0, 7.0, 6.0, 5.0, 4.0, 3.0, 2.0, 1.0, -6.7144, -7.1038, -7.3879, -7.4465, -7.3106, -4.7798, -6.4389, -7.5861, -7.7482, -7.797, -7.8852, -7.8128, -7.8141, -7.1194, -8.0631, -8.0945, -8.109, -8.1565, -7.4469, -8.0422, -7.6324, -8.2717, -8.3597, -8.1091, -7.9605, -8.4262, -8.4096, -8.2966, -6.0222, -8.5302, -4.1894, -6.7328, -7.2577, -7.7439, -7.9479, -6.1631, -6.9124, -7.3624, -7.5113, -7.7761, -5.0941, -3.9336, -7.8763, -7.184, -7.1791, -6.4033, -6.8958, -7.1794, -6.783, -6.0215, -6.6094, -7.264, -6.2254, -4.9464, -6.5714, -7.0355, -6.3591, -6.6511, -5.1872, -6.2362, -4.2917, -6.4284, -6.7607, -5.5105, -5.7687, -6.0257, -5.4537, -4.8621, -6.2375, -4.8178, -5.6428, -5.7594, -4.6966, -5.2679, -5.3112, -5.4274, -5.5605, -5.5689, -5.6874, -5.463, -5.8302, -5.4145, -5.8357, -5.7056, -5.6519, -5.6481, -5.7262, -5.845, -5.8408, -7.1843, -6.7639, -7.5015, -7.6942, -7.9779, -7.9701, -8.0816, -7.8205, -7.4928, -8.0034, -8.2771, -8.4205, -8.4289, -8.4108, -8.3608, -8.5327, -8.5223, -8.5415, -8.5442, -8.4986, -8.5766, -7.6235, -8.6176, -8.3785, -8.6482, -8.045, -8.6265, -8.5966, -8.5774, -8.8024, -4.0944, -6.8848, -7.4671, -7.6625, -8.1646, -8.1754, -5.3604, -7.3868, -7.6441, -7.8914, -5.1106, -6.7621, -5.4894, -5.7768, -7.3977, -7.6828, -5.9599, -5.7916, -6.1519, -7.3978, -5.663, -6.8821, -6.2328, -6.1675, -6.3311, -5.3931, -5.3229, -5.2413, -6.5818, -5.6466, -5.4837, -6.2998, -5.0312, -5.3837, -6.3191, -6.6162, -3.741, -5.9032, -4.9513, -3.828, -5.4922, -4.3006, -4.4419, -5.4247, -5.3876, -5.9885, -4.9764, -4.7572, -5.2422, -5.079, -5.1598, -5.2827, -5.1498, -5.004, -5.4275, -5.1342, -5.5097, -5.5575, -5.8779, -3.2921, -6.3627, -6.1821, -6.5475, -6.0137, -6.8568, -6.3299, -6.2655, -7.0653, -7.19, -7.1162, -7.2942, -6.5567, -7.159, -7.5298, -7.3655, -7.4949, -6.5846, -7.7739, -7.0291, -5.8512, -8.0165, -6.7752, -8.0412, -7.9279, -8.0705, -8.1449, -8.1319, -7.7405, -3.5344, -5.7039, -6.1857, -7.2418, -5.855, -6.9025, -6.3139, -6.4367, -7.0056, -5.6331, -4.3428, -4.4582, -6.1881, -5.3768, -5.6512, -5.1867, -5.5306, -5.2647, -6.349, -4.6824, -4.0006, -3.733, -5.8015, -3.9091, -5.5835, -5.9055, -4.6299, -5.2352, -4.8055, -4.8514, -5.3312, -5.2214, -5.1736, -5.3353, -5.2297, -5.2462, -5.3962, -5.3587, -5.5507, -5.4689, -5.5236, -5.5939, -5.6011, -6.4605, -7.4961, -7.5542, -7.6762, -7.8434, -7.8185, -7.5808, -7.897, -8.1391, -8.2008, -8.3529, -7.483, -8.3995, -8.2916, -8.4584, -8.4596, -7.8954, -8.5074, -8.5469, -8.5452, -8.5739, -8.5731, -8.5701, -6.9468, -8.6491, -8.6489, -8.682, -8.7091, -8.7243, -8.6393, -5.8593, -7.9104, -6.4657, -7.4088, -7.3001, -6.0655, -6.7301, -6.358, -3.9095, -5.5813, -6.21, -7.5427, -6.5454, -7.5155, -5.9283, -5.0296, -5.7889, -7.0111, -5.3711, -6.8673, -4.6956, -4.5282, -5.1632, -6.723, -5.4047, -5.8729, -4.6548, -6.5492, -6.8616, -4.5192, -4.881, -5.8703, -6.2147, -5.3027, -5.1936, -5.3302, -3.9447, -5.5863, -5.3868, -5.4961, -5.2441, -5.0492, -4.9673, -4.7965, -4.8531, -4.7753, -4.6006, -5.5107, -5.1613, -5.3974, -4.9764, -5.4462, -5.4517, -5.5293, -7.0843, -5.9083, -7.7416, -7.7931, -7.9498, -7.8663, -7.9619, -8.2031, -7.9364, -8.452, -8.4233, -8.5022, -8.6049, -8.5739, -8.6123, -8.4227, -8.6421, -8.6565, -8.6691, -8.6704, -8.6706, -8.6646, -8.733, -8.7192, -8.7518, -8.7544, -8.7588, -8.7628, -8.7554, -8.767, -6.7447, -7.8153, -5.1736, -8.0464, -8.3226, -7.2179, -8.1504, -7.6024, -7.0962, -8.4565, -6.9287, -6.8005, -4.7683, -5.5807, -8.3355, -4.6138, -7.898, -3.8884, -5.1688, -5.6848, -5.8909, -5.9001, -7.8815, -6.5053, -4.1547, -5.4424, -6.9668, -4.7886, -5.7327, -5.4419, -5.895, -5.0954, -6.2814, -6.5427, -6.7467, -6.5447, -5.5078, -5.3335, -5.7659, -5.2032, -4.2311, -4.5536, -4.5907, -4.5607, -5.4357, -5.3454, -4.5405, -5.4243, -5.8635, -4.9876, -5.3019, -5.2759, -5.0962, -5.3743, -5.3423, -5.4157, -5.5771, -6.5358, -6.9437, -7.0488, -7.2992, -5.9696, -5.9796, -7.3453, -7.6602, -7.3766, -7.9033, -7.9604, -7.9678, -7.9614, -7.9737, -7.9824, -8.0095, -8.0117, -8.0231, -7.9545, -8.1008, -7.8402, -8.1407, -8.0796, -7.6248, -8.1726, -8.1286, -8.2101, -8.2171, -8.2284, -8.232, -4.6019, -4.4709, -5.2264, -5.8131, -6.4445, -6.3061, -7.8211, -5.9997, -6.2437, -5.4678, -5.978, -7.1513, -7.0316, -7.2357, -6.6928, -7.0668, -6.798, -5.47, -4.0022, -4.9721, -5.6817, -5.4816, -4.6886, -5.7449, -4.8596, -5.7869, -5.7674, -5.9293, -6.1015, -4.1664, -6.3424, -4.2816, -5.2156, -5.1043, -5.5461, -5.4619, -5.2416, -5.1343, -4.7692, -4.9945, -5.5868, -5.3946, -5.576, -5.697, -5.1029, -5.321, -5.5206, -5.5879, -5.3582, -5.4571, -5.4962, -5.5623, -5.5561, -7.3303, -7.5088, -7.3764, -7.6082, -7.6181, -7.8045, -7.7717, -7.8728, -7.8868, -7.8979, -7.8379, -7.8483, -7.9553, -8.0187, -8.0163, -8.0482, -7.4413, -8.177, -7.9958, -8.185, -8.189, -8.2071, -8.0138, -8.3008, -8.2667, -8.0561, -8.3353, -7.8042, -8.3125, -8.3678, -8.2793, -6.3182, -7.1403, -6.2766, -7.3156, -7.48, -6.2491, -7.723, -7.4467, -7.2787, -5.6816, -5.6868, -5.5171, -6.9905, -7.3663, -6.9513, -7.1274, -6.2159, -5.6838, -6.9027, -7.418, -4.9474, -5.8222, -5.3301, -4.5757, -4.877, -5.686, -4.9309, -6.3566, -6.3798, -5.5936, -5.3637, -5.5585, -3.6321, -6.519, -4.6274, -3.7215, -5.4385, -5.398, -4.9276, -5.5841, -5.2304, -4.3661, -4.9535, -4.3856, -4.9515, -4.9452, -4.9227, -5.0356, -4.8606, -5.3148, -5.0323, -5.1997, -5.0249, -5.2957, -5.2825, -5.3682, -5.2498, -5.1723, -5.2793, -5.2911, -5.9923, -6.4976, -5.9329, -6.8789, -6.8919, -7.1516, -7.2651, -6.8134, -6.9867, -7.2819, -6.8722, -7.4295, -7.4776, -7.4836, -7.5356, -7.5823, -7.5247, -7.5779, -7.5997, -7.6211, -7.6396, -7.5758, -7.6227, -7.696, -7.57, -7.6081, -7.7516, -7.7469, -7.7608, -7.6804, -3.7028, -7.0252, -6.7058, -4.4926, -5.9227, -6.8556, -5.7127, -6.4992, -5.7712, -5.3795, -6.7691, -7.3656, -6.6867, -5.4347, -4.2554, -6.2807, -6.1768, -6.5302, -6.0169, -5.4297, -5.5595, -6.294, -4.8427, -4.5718, -6.515, -4.3669, -5.6872, -4.7066, -5.8638, -5.5251, -5.4676, -4.4186, -5.1533, -4.7878, -4.2231, -4.6925, -4.127, -4.7033, -5.2211, -4.8448, -4.2939, -4.8826, -5.0058, -5.5726, -5.139, -4.9298, -5.4633, -5.3745, -4.9051, -5.0688, -5.3986, -5.2764, -5.3175, -5.3381, -5.3401, -5.3942], \"loglift\": [30.0, 29.0, 28.0, 27.0, 26.0, 25.0, 24.0, 23.0, 22.0, 21.0, 20.0, 19.0, 18.0, 17.0, 16.0, 15.0, 14.0, 13.0, 12.0, 11.0, 10.0, 9.0, 8.0, 7.0, 6.0, 5.0, 4.0, 3.0, 2.0, 1.0, 1.5809, 1.5804, 1.5803, 1.5802, 1.5802, 1.5801, 1.5799, 1.5798, 1.5796, 1.5794, 1.5792, 1.5791, 1.579, 1.5789, 1.5787, 1.5787, 1.5786, 1.5785, 1.5783, 1.5782, 1.5781, 1.5779, 1.5776, 1.5776, 1.5774, 1.5774, 1.5773, 1.577, 1.5768, 1.5766, 1.5626, 1.5757, 1.5722, 1.575, 1.5753, 1.5516, 1.563, 1.5652, 1.5631, 1.5708, 1.4604, 1.4114, 1.5711, 1.5214, 1.5176, 1.4483, 1.4784, 1.5085, 1.4365, 1.306, 1.382, 1.4955, 1.2984, 1.0287, 1.3363, 1.4466, 1.2454, 1.3286, 0.7858, 1.1515, 0.3159, 1.1941, 1.3234, 0.7312, 0.8486, 0.9331, 0.5272, 0.0474, 0.9837, -0.0034, 0.5508, 0.6148, -0.3632, 0.0083, 0.0084, 0.1195, 0.2632, 0.2666, 0.3924, 0.1073, 0.3371, -0.5063, 0.2894, -0.0022, -0.183, -0.2318, -0.1899, 0.1781, 0.1132, 1.6274, 1.6274, 1.627, 1.6267, 1.626, 1.6258, 1.6257, 1.6256, 1.6254, 1.625, 1.6249, 1.6243, 1.6242, 1.6242, 1.6242, 1.6237, 1.6236, 1.6236, 1.6236, 1.6235, 1.6235, 1.6233, 1.6233, 1.6232, 1.623, 1.6229, 1.6228, 1.6228, 1.6221, 1.6221, 1.5972, 1.6213, 1.6187, 1.6203, 1.6219, 1.6196, 1.5759, 1.6063, 1.6106, 1.6129, 1.5476, 1.5813, 1.5294, 1.5385, 1.5909, 1.5969, 1.5217, 1.5125, 1.502, 1.5744, 1.4407, 1.5322, 1.4727, 1.4618, 1.4743, 1.3674, 1.3387, 1.3247, 1.4571, 1.3121, 1.2641, 1.39, 1.1149, 1.1814, 1.3567, 1.4244, 0.6774, 1.2125, 0.9261, 0.5054, 1.0603, 0.5442, 0.4663, 0.8942, 0.7759, 1.1465, 0.4925, 0.1523, 0.5378, 0.3373, 0.3766, 0.4282, 0.1697, -0.1896, 0.5455, -0.5266, 0.1938, 0.2601, 1.7503, 1.7503, 1.7502, 1.75, 1.7497, 1.7494, 1.7494, 1.7493, 1.7493, 1.7492, 1.7492, 1.7492, 1.7491, 1.749, 1.7487, 1.7486, 1.7486, 1.7485, 1.7485, 1.7481, 1.7478, 1.7476, 1.7473, 1.7472, 1.7472, 1.7471, 1.7469, 1.7467, 1.7465, 1.7463, 1.7454, 1.7419, 1.7405, 1.7459, 1.7279, 1.7366, 1.7239, 1.7234, 1.7338, 1.6899, 1.6313, 1.5764, 1.6534, 1.5645, 1.5928, 1.4904, 1.5017, 1.4553, 1.6088, 1.1209, 0.8442, 0.6854, 1.3844, 0.4243, 1.2502, 1.3319, 0.2783, 0.5588, 0.009, 0.0581, 0.475, 0.2476, 0.146, 0.3757, 0.1866, 0.0299, 0.3072, 0.1776, 0.4575, 0.1014, -0.916, 0.1861, 0.1625, 1.9502, 1.9485, 1.9484, 1.948, 1.9475, 1.9474, 1.9474, 1.9467, 1.9462, 1.9459, 1.9448, 1.9448, 1.9447, 1.9446, 1.9444, 1.9443, 1.9441, 1.9439, 1.9437, 1.9437, 1.9435, 1.9435, 1.9435, 1.9431, 1.9429, 1.9428, 1.9426, 1.9424, 1.9421, 1.9421, 1.9363, 1.9407, 1.9129, 1.9261, 1.9192, 1.8908, 1.9022, 1.8838, 1.77, 1.8362, 1.8602, 1.9111, 1.8532, 1.901, 1.8165, 1.7593, 1.8058, 1.8705, 1.7629, 1.8595, 1.6666, 1.6417, 1.6921, 1.8394, 1.6946, 1.7385, 1.5102, 1.7904, 1.8192, 1.3272, 1.3957, 1.5727, 1.6215, 1.2709, 1.2009, 1.2418, 0.6628, 1.3333, 1.2222, 1.2549, 1.1244, 1.002, 0.9006, 0.7503, 0.7159, 0.5009, 0.2138, 1.186, 0.4886, 0.8946, -0.0669, 0.7955, 0.6738, 0.9427, 2.2753, 2.2737, 2.2733, 2.2731, 2.2721, 2.2719, 2.2711, 2.2706, 2.2705, 2.2685, 2.2684, 2.2671, 2.2669, 2.2668, 2.2665, 2.2664, 2.2664, 2.2663, 2.2662, 2.2661, 2.2661, 2.266, 2.2654, 2.2654, 2.2651, 2.265, 2.265, 2.265, 2.2649, 2.2649, 2.2588, 2.2622, 2.2355, 2.2635, 2.2645, 2.2524, 2.2606, 2.2516, 2.2248, 2.2607, 2.2123, 2.201, 2.0716, 2.0772, 2.2464, 1.9253, 2.2104, 1.7615, 1.8904, 1.9391, 1.9541, 1.9491, 2.1949, 2.0055, 1.5874, 1.7706, 2.034, 1.5305, 1.732, 1.6446, 1.7434, 1.5137, 1.7918, 1.8736, 1.9267, 1.8374, 1.4232, 1.3409, 1.5006, 1.0736, 0.3764, 0.3559, 0.3175, 0.2537, 0.9532, 0.8196, -0.207, 0.7011, 1.1923, -0.1428, 0.167, 0.0436, -0.6778, 0.1947, -0.0661, 0.1311, 0.3735, 2.5566, 2.5561, 2.5558, 2.555, 2.554, 2.5539, 2.5538, 2.5533, 2.553, 2.5518, 2.5514, 2.5514, 2.5514, 2.5513, 2.5513, 2.5511, 2.551, 2.5509, 2.5507, 2.5503, 2.55, 2.5499, 2.5499, 2.5498, 2.5497, 2.5495, 2.5493, 2.5492, 2.5491, 2.5486, 2.5425, 2.5406, 2.5385, 2.5427, 2.5484, 2.5435, 2.5479, 2.5202, 2.5244, 2.4892, 2.4958, 2.5295, 2.5226, 2.528, 2.5053, 2.519, 2.5077, 2.4488, 2.3707, 2.4218, 2.4208, 2.4057, 2.2958, 2.2981, 2.1472, 2.2702, 2.2485, 2.2278, 2.2406, 1.5972, 2.302, 1.5217, 1.7432, 1.5158, 1.7638, 1.6991, 1.4674, 1.3209, 0.7671, 1.009, 1.6697, 1.1714, 1.3995, 1.6691, -0.4953, 0.2259, 0.9342, 1.0217, -1.0247, -0.6427, -0.588, 0.2614, -0.2799, 2.7108, 2.7099, 2.7099, 2.7092, 2.7088, 2.7079, 2.7077, 2.7074, 2.7073, 2.7072, 2.7071, 2.7069, 2.7067, 2.7061, 2.706, 2.7058, 2.7046, 2.7045, 2.7045, 2.7044, 2.7043, 2.7042, 2.7037, 2.7031, 2.703, 2.7026, 2.7026, 2.7026, 2.7023, 2.7022, 2.7016, 2.6769, 2.6854, 2.6676, 2.6879, 2.6816, 2.6227, 2.679, 2.6608, 2.6431, 2.5196, 2.4855, 2.4381, 2.5991, 2.6385, 2.5877, 2.5963, 2.3841, 2.2735, 2.5051, 2.6116, 1.9797, 2.1668, 2.0249, 1.8066, 1.8542, 2.0667, 1.8118, 2.2556, 2.2085, 1.8563, 1.7452, 1.7756, 0.7863, 2.2361, 1.1666, 0.612, 1.5683, 1.4356, 1.1056, 1.5316, 1.1952, 0.4787, 0.9486, 0.4288, 0.9165, 0.8196, 0.6475, 0.7706, 0.459, 1.1572, 0.5367, 0.8085, -0.1167, 0.841, 0.6905, 0.9239, 0.2191, -0.2628, 0.137, -0.6835, 3.3069, 3.3054, 3.3053, 3.3036, 3.3028, 3.3017, 3.3011, 3.301, 3.3002, 3.3, 3.2998, 3.2996, 3.2992, 3.2991, 3.2983, 3.2981, 3.2981, 3.298, 3.2979, 3.2976, 3.2974, 3.2973, 3.297, 3.2967, 3.2965, 3.2961, 3.296, 3.296, 3.2959, 3.2958, 3.2728, 3.2957, 3.2861, 3.2399, 3.2678, 3.2834, 3.2589, 3.2722, 3.2451, 3.2324, 3.2737, 3.2915, 3.2663, 3.2133, 3.1394, 3.2428, 3.2239, 3.2439, 3.2064, 3.1667, 3.1511, 3.2101, 3.0157, 2.9437, 3.2165, 2.7245, 2.9977, 2.6458, 2.997, 2.8686, 2.8402, 2.4532, 2.6957, 2.5124, 2.2322, 2.2437, 1.7504, 2.0667, 2.421, 2.0748, 1.5525, 2.0411, 1.7064, 2.623, 1.6088, 1.0442, 2.2894, 1.9971, -0.2975, -0.6504, 1.6685, 0.2926, 0.0988, -0.062, -0.4953, 0.5809]}, \"token.table\": {\"Topic\": [1, 2, 3, 4, 5, 6, 7, 8, 5, 7, 8, 5, 6, 7, 8, 4, 1, 2, 3, 6, 7, 8, 6, 1, 2, 3, 4, 5, 6, 7, 8, 6, 1, 2, 3, 5, 6, 7, 8, 1, 2, 3, 6, 8, 2, 1, 2, 4, 5, 7, 1, 2, 3, 4, 5, 6, 7, 1, 1, 2, 3, 4, 5, 6, 7, 8, 5, 1, 2, 3, 4, 5, 6, 7, 8, 1, 2, 3, 4, 5, 6, 7, 8, 7, 6, 4, 1, 2, 4, 5, 1, 2, 5, 7, 1, 2, 3, 5, 6, 7, 8, 1, 7, 2, 5, 1, 2, 3, 4, 5, 6, 7, 8, 3, 4, 1, 2, 3, 4, 5, 6, 7, 8, 1, 8, 4, 1, 2, 3, 4, 5, 6, 7, 8, 1, 8, 8, 1, 2, 4, 5, 6, 7, 8, 1, 2, 3, 4, 5, 6, 7, 8, 1, 2, 4, 6, 1, 2, 3, 4, 5, 6, 7, 8, 1, 2, 3, 4, 5, 6, 7, 8, 4, 1, 2, 5, 7, 8, 2, 6, 2, 3, 4, 5, 6, 1, 2, 3, 4, 5, 6, 7, 8, 2, 6, 7, 1, 8, 1, 2, 3, 5, 6, 7, 8, 1, 2, 3, 4, 5, 6, 7, 8, 7, 1, 2, 3, 4, 5, 6, 7, 8, 1, 2, 3, 5, 6, 7, 8, 1, 2, 3, 4, 5, 6, 7, 8, 1, 2, 3, 5, 6, 8, 1, 3, 6, 1, 2, 3, 4, 5, 6, 7, 8, 1, 2, 3, 4, 5, 6, 7, 8, 1, 2, 3, 4, 5, 6, 7, 8, 5, 1, 2, 3, 4, 5, 6, 7, 8, 3, 6, 3, 6, 3, 6, 1, 2, 3, 4, 5, 6, 7, 1, 4, 6, 7, 1, 2, 4, 8, 8, 1, 2, 3, 4, 5, 6, 7, 8, 1, 2, 4, 5, 6, 7, 7, 1, 2, 3, 4, 5, 6, 7, 8, 1, 1, 2, 3, 4, 5, 6, 7, 8, 1, 2, 5, 1, 3, 5, 8, 1, 2, 3, 4, 5, 6, 7, 1, 2, 3, 4, 5, 6, 7, 8, 7, 1, 2, 3, 4, 5, 6, 7, 8, 1, 2, 4, 5, 7, 8, 3, 1, 3, 8, 3, 8, 3, 7, 8, 8, 1, 4, 8, 1, 2, 3, 4, 5, 6, 7, 8, 1, 3, 4, 5, 6, 7, 8, 1, 2, 4, 5, 6, 7, 8, 3, 7, 1, 2, 4, 5, 6, 7, 2, 3, 5, 7, 8, 1, 2, 4, 5, 7, 4, 1, 2, 4, 6, 7, 8, 2, 1, 3, 4, 5, 6, 7, 8, 1, 2, 4, 5, 7, 2, 8, 1, 7, 8, 1, 2, 3, 4, 5, 7, 2, 5, 4, 2, 3, 4, 5, 7, 4, 6, 8, 1, 2, 3, 6, 8, 2, 4, 2, 5, 8, 2, 3, 5, 6, 1, 2, 3, 4, 5, 6, 7, 8, 2, 3, 4, 5, 6, 7, 8, 3, 8, 3, 5, 8, 1, 2, 3, 4, 5, 6, 7, 8, 4, 1, 2, 3, 6, 8, 1, 5, 6, 7, 1, 2, 3, 4, 5, 4, 5, 2, 1, 2, 3, 4, 5, 6, 7, 8, 4, 1, 2, 4, 6, 7, 1, 2, 4, 6, 7, 1, 2, 4, 5, 7, 1, 2, 3, 4, 5, 6, 7, 8, 1, 2, 4, 5, 7, 1, 2, 4, 5, 6, 7, 8, 8, 1, 2, 3, 4, 5, 6, 7, 8, 7, 1, 7, 5, 6, 1, 7, 6, 1, 2, 4, 5, 7, 7, 2, 3, 8, 1, 2, 4, 5, 7, 1, 2, 4, 5, 7, 1, 2, 3, 4, 5, 6, 7, 8, 2, 6, 1, 2, 3, 4, 5, 6, 7, 8, 1, 6, 1, 2, 3, 4, 5, 6, 7, 8, 1, 2, 3, 4, 5, 6, 7, 8, 3, 4, 3, 6, 2, 4, 5, 6, 7, 8, 6, 1, 2, 3, 4, 5, 6, 7, 8, 6, 8, 1, 1, 2, 3, 4, 5, 6, 7, 8, 1, 2, 3, 4, 5, 6, 7, 8, 1, 2, 3, 4, 5, 6, 7, 1, 2, 7, 1, 2, 3, 4, 5, 6, 7, 8, 1, 2, 3, 5, 7, 1, 2, 3, 4, 6, 7, 8, 1, 4, 1, 2, 3, 4, 5, 6, 7, 8, 3, 8, 1, 2, 3, 6, 1, 2, 3, 4, 5, 6, 7, 8, 3, 3, 1, 2, 3, 4, 5, 6, 7, 8, 7, 1, 2, 6, 8, 1, 2, 3, 4, 5, 6, 7, 8, 1, 2, 4, 5, 6, 7, 8, 5, 4, 1, 2, 4, 5, 1, 4, 5, 5, 1, 5, 7, 3, 8, 1, 2, 3, 4, 5, 6, 7, 8, 1, 2, 3, 4, 5, 6, 7, 8, 4, 1, 1, 2, 4, 5, 6, 7, 8, 5, 4, 5, 6, 7, 7, 8, 5, 1, 2, 5, 6, 7, 8, 5, 1, 7, 1, 4, 1, 4, 7, 1, 1, 2, 5, 6, 7, 8, 1, 2, 3, 4, 5, 6, 7, 8, 3, 6, 1, 2, 3, 4, 5, 6, 7, 8, 1, 2, 3, 4, 5, 6, 7, 8, 1, 2, 3, 4, 5, 6, 7, 8, 1, 2, 3, 4, 5, 6, 7, 8, 4, 5, 3, 2, 1, 2, 3, 4, 5, 6, 7, 8, 1, 3, 4, 7, 8, 1, 2, 3, 4, 6, 7, 8, 1, 2, 3, 4, 5, 6, 7, 8, 4, 2, 1, 2, 1, 2, 8, 1, 2, 3, 4, 5, 6, 7, 8, 4, 2, 4, 1, 2, 4, 6, 7, 8, 1, 2, 3, 4, 5, 6, 7, 8, 2, 2, 2, 3, 4, 5, 6, 7, 1, 2, 3, 4, 5, 6, 7, 8, 5, 1, 7, 2, 2, 8, 1, 2, 3, 4, 5, 6, 7, 8, 4, 1, 2, 3, 4, 5, 6, 7, 8, 2, 5, 1, 2, 3, 5, 6, 8, 2, 3, 4, 5, 6, 7, 8, 1, 2, 3, 4, 5, 6, 7, 8, 1, 2, 3, 4, 5, 6, 7, 8, 1, 2, 3, 4, 5, 6, 7, 8, 1, 2, 4, 5, 6, 7, 8, 4, 4, 5, 8, 1, 2, 4, 5, 7, 2, 1, 5, 6, 7, 4, 5, 3, 7, 8, 1, 2, 3, 4, 5, 6, 7, 8, 1, 2, 5, 8, 1, 2, 3, 4, 5, 6, 7, 8, 7, 5, 1, 2, 3, 4, 5, 6, 7, 8, 1, 2, 3, 4, 5, 6, 7, 8, 1, 2, 3, 4, 5, 6, 7, 8, 2, 1, 2, 3, 4, 5, 6, 7, 8, 1, 2, 8, 1, 2, 3, 6, 1, 2, 3, 4, 5, 6, 7, 8, 8, 2, 3, 4, 5, 6, 1, 2, 3, 4, 5, 6, 7, 8, 1, 2, 3, 4, 5, 6, 7, 8, 1, 2, 3, 4, 5, 6, 7, 5, 4, 1, 2, 3, 4, 5, 6, 7, 8, 1, 2, 3, 4, 5, 6, 7, 8, 8, 2, 7, 7, 6, 1, 2, 4, 5, 6, 7, 5, 1, 2, 3, 4, 7, 1, 2, 3, 5, 6, 7, 8, 1, 5, 3, 3, 6, 3, 4, 5, 6, 1, 2, 4, 5, 8, 3, 6, 1, 1, 1, 4, 1, 2, 3, 4, 5, 6, 7, 8, 3, 2, 7, 3, 5, 4, 6, 7, 2, 3, 4, 5, 7, 1, 2, 3, 4, 5, 6, 8, 1, 2, 3, 4, 5, 6, 7, 8, 2, 3, 5, 6, 7, 8, 2, 8, 1, 1, 2, 3, 4, 5, 6, 7, 8, 1, 1, 2, 3, 4, 5, 6, 7, 8, 2, 1, 2, 3, 4, 5, 6, 7, 8, 1, 2, 4, 7, 1, 2, 3, 4, 5, 6, 7, 8, 5, 1, 2, 3, 4, 5, 6, 7, 8, 7, 1, 2, 3, 5, 6, 7, 8, 1, 8, 5, 6, 7, 3, 3, 6, 2, 4, 5, 4, 1, 2, 3, 4, 5, 6, 7, 8, 1, 2, 3, 4, 5, 6, 7, 1, 3, 5, 5, 7, 1, 2, 3, 4, 5, 6, 7, 8, 2, 3, 4, 1, 2, 3, 4, 5, 6, 7, 8, 7, 1, 2, 3, 4, 5, 6, 7, 8, 6, 4, 1, 3, 4, 7, 8, 1, 2, 3, 4, 5, 6, 7, 8, 5, 2, 6, 7, 5, 2, 1, 6, 1, 2, 3, 4, 5, 6, 7, 1, 2, 3, 4, 5, 6, 7, 8, 8, 1, 2, 3, 4, 5, 6, 7, 8, 2, 1, 2, 4, 6, 7, 6, 7, 1, 2, 3, 4, 5, 6, 7, 8, 4, 1, 4, 5, 6, 1, 2, 4, 5, 6, 7, 8, 2, 4, 6, 8, 1, 2, 3, 4, 5, 6, 7, 8, 1, 2, 3, 4, 5, 6, 7, 8, 1, 2, 3, 4, 5, 6, 7, 8, 1, 2, 3, 4, 5, 6, 7, 8, 1, 2, 3, 4, 5, 6, 7, 8, 2, 1, 2, 3, 4, 5, 6, 7, 8, 2, 7, 1, 2, 3, 4, 5, 6, 7, 8, 1, 2, 3, 4, 5, 6, 7, 8, 1, 2, 3, 4, 5, 6, 7, 8, 1, 2, 3, 4, 5, 6, 7, 8, 1, 2, 6, 1, 2, 3, 4, 5, 6, 7, 8, 1, 5, 1, 2, 4, 6, 7, 8, 1, 2, 6, 7, 1, 2, 4, 5, 6, 7, 2, 5, 7, 8, 8, 1, 2, 3, 4, 5, 6, 7, 8, 1, 4, 1, 2, 3, 4, 5, 6, 7, 8, 2, 4, 5, 1, 2, 4, 5, 6, 7, 8, 1, 4, 7, 4, 5, 1, 2, 3, 4, 5, 6, 7, 8, 1, 2, 3, 4, 5, 6, 7, 8, 7, 1, 7, 2, 4, 6, 7, 7, 1, 2, 8, 1, 2, 4, 6, 7, 8, 1, 2, 3, 4, 5, 6, 7, 8, 7, 1, 2, 3, 4, 5, 6, 7, 8, 1, 2, 3, 4, 5, 6, 7, 8, 1, 3, 8, 1, 2, 3, 4, 5, 6, 7, 1, 4, 1, 2, 3, 4, 5, 6, 7, 8, 1, 2, 3, 4, 5, 6, 7, 8, 1, 1, 2, 3, 4, 5, 6, 7, 8, 1, 2, 3, 4, 1, 2, 3, 4, 5, 6, 7, 8, 1, 2, 3, 4, 5, 6, 7, 8, 7, 4, 5, 4, 4, 5, 1, 3, 4, 5, 6, 8, 1, 2, 3, 4, 5, 6, 7, 8, 4, 1, 2, 4, 5, 6, 7, 8, 1, 6, 6, 4, 2, 3, 6, 7, 8, 8, 2, 8, 3, 1, 4, 6, 7, 4, 8, 1, 2, 4, 5, 6, 7, 8, 1, 4, 1, 2, 4, 5, 6, 7, 1, 4, 6, 7, 1, 2, 5, 6, 1, 2, 4, 6, 7, 8, 1, 2, 3, 4, 5, 6, 7, 8, 1, 5, 6, 1, 8, 1, 2, 3, 4, 5, 6, 1, 5, 1, 2, 3, 4, 5, 7, 8, 1, 2, 3, 4, 5, 6, 7, 1, 2, 4, 5, 1, 2, 3, 4, 5, 6, 7, 8, 2, 7, 1, 2, 3, 4, 5, 6, 7, 8, 1, 2, 3, 4, 5, 6, 7, 8, 1, 5, 6, 5, 1, 1, 2, 3, 4, 5, 7, 8, 1, 2, 3, 4, 5, 6, 7, 8, 1, 2, 3, 4, 5, 7, 6, 3, 7, 7, 8, 2, 6, 1, 2, 3, 4, 5, 6, 7, 8, 1, 2, 4, 5, 6, 7, 8, 1, 2, 3, 5, 7, 8, 8, 7, 1, 2, 4, 6, 7, 1, 2, 3, 5, 6, 7, 8, 7, 3, 7, 8, 1, 2, 3, 4, 5, 6, 7, 1, 1, 2, 3, 4, 5, 6, 7, 6, 3, 1, 2, 3, 4, 5, 6, 7, 8, 4, 6, 7, 6, 1, 2, 3, 6, 1, 2, 3, 4, 5, 7, 8, 1, 1, 2, 3, 4, 5, 6, 7, 8, 1, 2, 3, 4, 5, 6, 7, 8, 1, 2, 3, 5, 1, 2, 3, 4, 5, 6, 7, 8, 6, 1, 2, 3, 4, 5, 6, 7, 8, 1, 3, 1, 2, 3, 4, 5, 6, 7, 8, 2, 1, 2, 3, 4, 5, 7, 8, 1, 3, 4, 5, 7, 8, 1, 2, 3, 4, 5, 6, 7, 8, 2, 2, 4, 7, 5, 6, 6, 3, 1, 2, 3, 4, 5, 6, 7, 8, 1, 2, 3, 4, 5, 6, 7, 8, 3, 4, 5, 6, 8, 1, 2, 4, 5, 7, 1, 2, 3, 4, 5, 6, 7, 8, 2, 3, 6, 8, 1, 2, 3, 4, 5, 6, 7, 8, 1, 2, 3, 4, 5, 6, 7, 8, 1, 2, 3, 4, 5, 6, 7, 8, 1, 2, 3, 4, 5, 6, 7, 8, 3, 1, 2, 4, 6, 7, 8, 5, 6, 1, 4, 1, 2, 3, 4, 7, 1, 4, 1, 2, 5, 5, 4, 1, 2, 3, 4, 5, 7, 8, 1, 2, 3, 4, 5, 6, 7, 8, 2, 5, 1, 2, 3, 4, 5, 6, 7, 8, 1, 2, 4, 6, 7, 8, 3, 1, 2, 3, 4, 5, 6, 7, 8, 5, 2, 4, 3, 6, 4, 8, 5, 1, 2, 3, 4, 5, 6, 7, 8, 1, 2, 3, 4, 5, 6, 7, 8, 1, 2, 3, 4, 5, 6, 7, 8, 5, 1, 2, 3, 4, 5, 6, 7, 8, 1, 4, 6, 1, 2, 3, 5, 6, 7, 8, 1, 1, 2, 7, 1, 2, 3, 5, 6, 1, 2, 3, 4, 5, 6, 7, 8, 1, 2, 3, 4, 5, 6, 7, 8, 2, 1, 2, 3, 4, 5, 6, 7, 5, 6, 1, 2, 3, 4, 5, 6, 7, 8, 1, 6, 7, 1, 2, 3, 4, 5, 6, 7, 8, 5, 1, 2, 3, 4, 5, 6, 7, 8, 1, 2, 3, 4, 5, 6, 7, 8, 1, 2, 4, 5, 6, 2, 5, 4, 5, 1, 5, 1, 2, 3, 4, 5, 6, 7, 8, 1, 2, 4, 1, 2, 3, 7, 3, 8], \"Freq\": [0.11318766772237185, 0.16953218954011642, 0.13313263119767965, 0.043380295558794496, 0.10072206555030447, 0.013462850345832774, 0.015457346693363556, 0.41136487167822366, 0.9829487241193937, 0.005908207542843164, 0.9925788671976515, 0.9814163099469647, 0.9910361895136395, 0.007020939624789829, 0.9899524870953659, 0.9961209934600918, 0.17661221891743967, 0.01349121116730442, 0.2630786177624362, 0.0024529474849644397, 0.0024529474849644397, 0.5414881573059, 0.9917905290204357, 0.04765879293221449, 0.36008865771006504, 0.22515347442873349, 0.004510914557370096, 0.0029419007982848452, 0.33576894444424366, 0.011375349753368067, 0.012355983352796349, 0.9865984391807843, 0.01862910725750074, 0.23652312964433975, 0.6576740187156958, 0.009979878887946825, 0.00033266262959822746, 0.06520187540125258, 0.011310529406339734, 0.024235345710725324, 0.03635301856608799, 0.03150594942394292, 0.0048470691421450655, 0.9015548604389821, 0.9967143516128724, 0.8732305938191767, 0.10742122384283523, 0.009240535384329911, 0.009240535384329911, 0.0011550669230412389, 0.013408739677635638, 0.7617195578410707, 0.00154716227049642, 0.0005157207568321399, 0.22175992543782017, 0.0010314415136642799, 0.0005157207568321399, 0.9974991363442164, 0.26744750190818695, 0.24398009629445797, 0.16589028106256679, 0.06926930760466203, 0.0930604015716838, 0.10050523369741851, 0.032935289947543744, 0.026866133323303495, 0.9934599743858162, 0.013520921552119106, 0.005954810010000642, 0.02669156016247347, 0.8343039106952665, 0.07278879529871374, 0.004273451889529873, 0.01555256261435462, 0.026971786515885263, 0.013776986261593873, 0.0017221232826992341, 0.012054862978894638, 0.9230580795267895, 0.027553972523187746, 0.0034442465653984683, 0.013776986261593873, 0.005166369848097702, 0.9906107100001271, 0.99206131992661, 0.9904300156429251, 0.9809490459486588, 0.004589235302683784, 0.012620397082380405, 0.002294617651341892, 0.007995353893396527, 0.09994192366745659, 0.0039976769466982635, 0.8874842821670146, 0.0033416090104148957, 0.04845333065101599, 0.0005569348350691493, 0.05903509251732982, 0.005012413515622344, 0.522404875294862, 0.36089377312480875, 0.008747016374739238, 0.9884128503455339, 0.0227685649338762, 0.9744945791699013, 0.008887883460923665, 0.0396536339025825, 0.8675941624547793, 0.0020510500294439226, 0.00820420011777569, 0.07110306768738932, 0.0006836833431479742, 0.0013673666862959483, 0.009081447378198333, 0.9898777642236184, 0.0019480186833192002, 0.0029220280249788, 0.0009740093416596001, 0.38927906688328684, 0.6019377731456328, 0.0019480186833192002, 0.0006493395611064, 0.0003246697805532, 0.9945721823161822, 0.9950800995652397, 0.9930972345300438, 0.18296798729182698, 0.07296269431882671, 0.17922631066009226, 0.007483353263469406, 0.046396790233510316, 0.0007483353263469406, 0.5013846686524502, 0.008980023916163288, 0.01568268109082277, 0.9775537879946192, 0.990125560600671, 0.7586995891195829, 0.0043687116456022045, 0.04113870132942076, 0.0014562372152007348, 0.008009304683604042, 0.18457806702669316, 0.0014562372152007348, 0.2537812962183809, 0.08538436134450199, 0.10045218981706117, 0.4373855764951205, 0.03836715583290531, 0.025950149036074135, 0.05552773825998659, 0.0030693724666324244, 0.0432297903408946, 0.9530660754225135, 0.0010053439614161536, 0.0020106879228323072, 0.19254092456652191, 0.21695861454563992, 0.23306203732756722, 0.05531175651183721, 0.10397209926592184, 0.011464936871915623, 0.17083631125175036, 0.015840866975700214, 0.1528871210303138, 0.026177258283726898, 0.13774756709414127, 0.1232046458254041, 0.5011714406457115, 0.029011263454044908, 0.028787526203756644, 0.0010441071680118992, 0.9946974377077606, 0.0004964291327243887, 0.29636819223646005, 0.7026126991825847, 0.00033095275514959246, 0.00016547637757479623, 0.02297846917008592, 0.9727551948669706, 0.01877424512060787, 0.001251616341373858, 0.8949056840823085, 0.058825968044571325, 0.02503232682747716, 0.001555125509023889, 0.006220502036095556, 0.6060546269453099, 0.0011108039350170636, 0.00821994911912627, 0.07864491859920811, 0.27814530532827275, 0.02021663161731056, 0.9465201906621825, 0.03959546614323871, 0.013198488714412903, 0.9957927150192688, 0.9838249042254247, 0.025152586704053702, 0.2194346357284685, 0.14484420619230925, 0.09453903278420185, 0.0008673305760018518, 0.011275297488024074, 0.5039190646570759, 0.13373315963310073, 0.30093575327167477, 0.2527918158037585, 0.05277038190927758, 0.06932437842602356, 0.05284267010367385, 0.09231202424403763, 0.04525240969206543, 0.9917153997061997, 0.14502906326178533, 0.42610811768685986, 0.20231327006738078, 0.016253257089682838, 0.08297117255572357, 0.0795613983411048, 0.03989435831103969, 0.00795613983411048, 0.0017319193678803277, 0.12939911848591593, 0.8298367942672313, 0.0019793364204346606, 0.005938009261303981, 0.030432297464182904, 0.00024741705255433257, 0.009376475626981181, 0.04453825922816061, 0.8539290303143576, 0.0036836154248854644, 0.0013394965181401687, 0.07702104979305971, 0.008371853238376055, 0.002009244777210253, 0.9375500027193833, 0.03149022909897165, 0.021470610749298853, 0.0014313740499532568, 0.0042941221498597705, 0.0028627480999065136, 0.027861643639996988, 0.006965410909999247, 0.9612267055798961, 0.06558581887868693, 0.039412359836612336, 0.13512809086838515, 0.11154154347581792, 0.0130867295210373, 0.29003844729182665, 0.004412966931512578, 0.34055931009397067, 0.12822096076013548, 0.08880739366632075, 0.12356914490142344, 0.34973197410498696, 0.11595708258716737, 0.021736666830708982, 0.1654354876298318, 0.006427963732038454, 0.021626948478862613, 0.07821066273802518, 0.045226165844162385, 0.23163958024844675, 0.5965093242393207, 0.010677455695539089, 0.015234076915928383, 0.000884120535299415, 0.9889519793109938, 0.19880316387232047, 0.1311731105726324, 0.2743152809378715, 0.12406952224043495, 0.04505426572338932, 0.04349731485605837, 0.1484941889716892, 0.03454484736890542, 0.998293670066323, 0.0011254720068391466, 0.9983767287233707, 0.0009599776237724718, 0.997097284003712, 0.001990214139727968, 0.013493902002958252, 0.006746951001479126, 0.0006133591819526479, 0.25699749723815946, 0.7194703204304559, 0.0006133591819526479, 0.0018400775458579436, 0.04925387762957868, 0.0022908780292827296, 0.939259992005919, 0.009163512117130918, 0.015005953854416235, 0.9828899774642634, 0.995292928541036, 0.993238529653696, 0.9869322522305752, 0.05917164436346032, 0.012679638077884355, 0.009861940727243387, 0.876303876049341, 0.02535927615576871, 0.007044243376602419, 0.0028176973506409677, 0.007044243376602419, 0.003446394765081766, 0.948250902506783, 0.0022155394918382783, 0.030771381831087196, 0.01403175011497576, 0.0009846842185947903, 0.9886045345629829, 0.10782290931603988, 0.14834274609216655, 0.142572119182873, 0.2907894168639679, 0.12450754798856263, 0.02383519810360393, 0.11315446678658286, 0.048987604523459655, 0.997626273460908, 0.03483587825588046, 0.031932888401223755, 0.018869434055268582, 0.0014514949273283526, 0.0014514949273283526, 0.04499634274717893, 0.013063454345955173, 0.8534790172690714, 0.004293027220422273, 0.9916892879175452, 0.004293027220422273, 0.0022218494990068212, 0.9731700805649878, 0.0007406164996689405, 0.022959111489737154, 0.023782132480014616, 0.8982001820576948, 0.00042468093714311813, 0.0445914984000274, 0.011041704365721071, 0.00042468093714311813, 0.021234046857155905, 0.06014832355267304, 0.6942543786333957, 0.03588510150939137, 0.000203892622212451, 0.017534765510270785, 0.001631140977699608, 0.007951812266285588, 0.1826877895023561, 0.9937941949239879, 0.07335291539826957, 0.0004841776593945186, 0.0002420888296972593, 0.5391318237357965, 0.005325954253339705, 0.05229118721460801, 0.03800794626246971, 0.2909907732961057, 0.000447081331400609, 0.033754640520745983, 0.044708133140060904, 0.8134644824834081, 0.10640535687334494, 0.001341243994201827, 0.996954051695282, 0.07084441152239265, 0.19566551753803688, 0.7320589190647241, 0.06108563230179793, 0.9379600314727682, 0.07814875183907274, 0.0028943982162619535, 0.9175242345550392, 0.9949355978616485, 0.9982161653334192, 0.0005533349031781703, 0.0012450035321508832, 0.8187527475161184, 0.03181681661332066, 0.04807874510457344, 0.02616049365984143, 0.03747313956679989, 0.024746412921471624, 0.011312645906958458, 0.0014140807383698072, 0.004243779194485834, 0.029706454361400837, 0.1372155272883753, 0.05799831565797306, 0.0028291861296572225, 0.03536482662071528, 0.7327592075812206, 0.012676703612689525, 0.9218573435992603, 0.021438542874401403, 0.039707909845630426, 0.00018642211195131654, 0.001304954783659216, 0.0029827537912210647, 0.9996332813490278, 0.9940925484034805, 0.005007399059615321, 0.6595039114399238, 0.019440490466741837, 0.0005891057717194497, 0.009425692347511195, 0.30604044840825406, 0.022286375910834155, 0.0018571979925695128, 0.2284353530860501, 0.000619065997523171, 0.745974527015421, 0.7530682324565199, 0.00044298131320971755, 0.12447774901193064, 0.1209338985062529, 0.0008859626264194351, 0.9967862377274268, 0.5227130457851323, 0.020898450289097294, 0.006042925384799218, 0.4423924958788428, 0.007301868173299055, 0.0007553656730999022, 0.9943838259619076, 0.8748436354856907, 0.02090279944238474, 0.06332318654604788, 0.03688729313362012, 0.0018443646566810063, 0.0012295764377873377, 0.0006147882188936688, 0.00024391725352370343, 0.5168606602167276, 0.0012195862676185171, 0.0024391725352370342, 0.4790534859205535, 0.995712098301656, 0.990518840041898, 0.01005492942931131, 0.03016478828793393, 0.9602457604992302, 0.00014181392686036376, 0.9686600274197147, 0.006452533672146552, 0.00035453481715090943, 0.024250181493122205, 0.00014181392686036376, 0.9917841676509103, 0.004256584410518928, 0.9966764262110194, 0.0361223696744402, 0.030810256487022524, 0.9062465097734556, 0.011686649012318888, 0.01381149428728596, 0.9952082140275833, 0.9944267943530194, 0.9854198662859062, 0.029449553733641033, 0.013088690548284904, 0.01636086318535613, 0.006544345274142452, 0.9358413742023706, 0.002973602982513328, 0.9931833961594516, 0.9943483234074609, 0.003780792104210878, 0.9914966431075278, 0.8809011951641497, 0.1155362965020563, 0.003027151873416322, 0.0005045253122360537, 0.005423995888766542, 0.06327995203560965, 0.09298278666456929, 0.0010331420740507698, 0.009814849703482315, 0.7686577030937728, 0.00025828551851269244, 0.0583725271838685, 0.00011113240678998633, 0.9993396459911538, 0.00011113240678998633, 3.704413559666211e-05, 0.00014817654238664845, 0.00018522067798331054, 7.408827119332423e-05, 0.002459978484633444, 0.9962912862765447, 0.04522692450493011, 0.0018844551877054212, 0.9516498697912378, 0.24591261237710252, 0.05386820090319005, 0.0530131500952029, 0.49199623491580247, 0.10876246277596467, 0.011799701150222582, 0.01881111777571716, 0.015732934866963443, 0.9896742557147821, 0.012270330955706392, 0.0027267402123791985, 0.06816850530947996, 0.008180220637137595, 0.9080044907222731, 0.0012039834454245465, 0.002407966890849093, 0.9956943093660998, 0.9831610633072447, 0.07376378210769591, 0.0029505512843078364, 0.0014752756421539182, 0.9117203468511215, 0.010326929495077427, 0.9515865338318295, 0.045633204725362767, 0.9909568367996702, 0.08906150131276253, 0.027898783543756935, 0.03147555066475141, 0.13305573690099462, 0.21245996698707204, 0.45138801066950324, 0.0075112109540884054, 0.046855649285027674, 0.9906160649167332, 0.025645002772293618, 0.05589295476012712, 0.005918077562836989, 0.895602404509331, 0.017096668514862412, 0.05424448376548471, 0.14103565779026025, 0.00751077467522096, 0.7185307772628051, 0.07844586883008559, 0.0010788929957661418, 0.9134627364153335, 0.00035963099858871394, 0.08451328466834777, 0.00035963099858871394, 0.029308153975043216, 0.09493293352785737, 0.0006371337820661569, 0.008282739166860039, 0.0006371337820661569, 0.8582192044431133, 0.007008471602727725, 0.0019114013461984706, 0.004336106291718281, 0.769762107405988, 0.0057814750556243735, 0.21474050206604817, 0.0053685125516512045, 0.3276882700903507, 0.38214092031307956, 0.002430921884943254, 0.0004861843769886508, 0.003646382827414881, 0.002430921884943254, 0.2812576620879345, 0.9827229460105978, 0.09511471010272657, 0.02946030843889761, 0.09343126390621814, 0.48988284318395453, 0.06705727349425265, 0.015431590134660653, 0.01599273886683013, 0.19387688696455474, 0.9967872730534441, 0.11631847445562521, 0.8806970208783051, 0.9868283017029333, 0.9956979174556835, 0.006097946194960564, 0.9878672835836114, 0.9874787279349249, 0.00035559614723224735, 0.8900571565223151, 0.0014223845889289894, 0.09778894048886802, 0.010312288269735173, 0.987127964004738, 0.0015509862970959113, 0.9972841890326709, 0.9952665909763962, 0.017270071965807147, 0.9077581577027382, 0.0021587589957258934, 0.06152463137818796, 0.010793794978629466, 0.029659526050654004, 0.8423305398385736, 0.00222446445379905, 0.0993594122696909, 0.026693573445588602, 0.009792634195498024, 0.04106910871785396, 0.83986826952205, 0.0006994738711070018, 0.0013989477422140036, 0.1062201035695347, 0.0004996241936478584, 0.0004996241936478584, 0.03228503363970256, 0.9654762440825336, 0.03943424619497194, 0.003186605753129046, 0.014738051608221838, 0.8914529594378505, 0.04620578342037116, 0.001194977157423392, 0.0019916285957056537, 0.0019916285957056537, 0.9939568517409397, 0.9968650636630603, 0.005134655622879619, 0.00236984105671367, 0.00039497350945227834, 0.02843809268056404, 0.9582057339312272, 0.0015798940378091134, 0.0031597880756182267, 0.0007899470189045567, 0.42710110548128444, 0.03908436015627294, 0.11258262233693714, 0.31488720352318006, 0.054816429653137516, 0.021877409144077303, 0.02703949444773599, 0.0028268562377178536, 0.9982002599513812, 0.0007720032946259715, 0.993878303838365, 0.9970167835614892, 0.9945767593665253, 0.9346240098136476, 0.011807689142446471, 0.00635798646131733, 0.0009082837801881901, 0.046322472789597696, 0.9975252452844022, 0.05637451737231146, 0.019209094808343163, 0.10899073358646881, 0.16912355211693436, 0.5791959673733036, 0.03674783354639562, 0.002923123123008742, 0.027143286142224034, 0.9917226818669231, 0.986911355393455, 0.9991157543068401, 0.22736930091417798, 0.20798549384634302, 0.21267067944093818, 0.07955628872391035, 0.1489154088007606, 0.012953160173292564, 0.10693247121781946, 0.003674655368309947, 0.5498899488568706, 0.18755175041368266, 0.03338617546631, 0.0016365772287406863, 0.002618523565985098, 0.0019638926744888234, 0.03698664536953951, 0.1862424886306901, 0.08413346839472516, 0.040949918245220214, 0.06626441316044725, 0.03201539062808126, 0.0007445439680949129, 0.7706030069782349, 0.0052118077766643905, 0.06354243011939202, 0.005295202509949335, 0.9266604392411336, 0.024635527560142145, 0.17543913268263076, 0.19295456557221158, 0.2433648358397857, 0.26586433499875944, 0.024208321879908467, 0.07347937700019275, 0.00028480378682245255, 0.15843826132970096, 0.00762537086613534, 0.03304327375325314, 0.005930844006994154, 0.7947330969372166, 0.061589303576053626, 0.1775221103074487, 0.0007245800420712192, 0.010868700631068286, 0.7332750025760738, 0.01594076092556682, 0.9931637893255124, 0.980804522694772, 0.019131035844299808, 0.207290086289121, 0.2324131950730418, 0.2008871149842696, 0.08744210430823803, 0.10704203937118015, 0.04521182028234778, 0.1046959124808529, 0.01495655892583613, 0.9980539006009352, 0.9891437904014708, 0.03544919925341839, 0.004726559900455785, 0.00945311980091157, 0.947675260041385, 0.004138109973122131, 0.0018809590786918776, 0.8872483974189588, 9.404795393459389e-05, 0.00037619181573837556, 0.00037619181573837556, 0.001975007032626472, 0.10382894114379165, 0.9973595484424722, 0.9990179842322913, 0.027904145127386926, 0.0010871744854826075, 0.9407683214376164, 0.0007247829903217383, 0.0007247829903217383, 0.0010871744854826075, 0.005073480932252169, 0.02246827269997389, 0.9927404093343453, 0.057766844657077744, 0.01604634573807715, 0.01604634573807715, 0.9050138996275513, 0.1263675119945598, 0.2394929194387915, 0.09420811522947722, 0.07793924392478839, 0.01967398390334464, 0.41088358690446697, 0.024970825723475892, 0.0060535335087214285, 0.4510651553561169, 0.3384163069345414, 0.01493842110010885, 0.058532304058917066, 0.004321807362295642, 0.132003029217943, 0.0006576663377406412, 0.990711551026446, 0.9943761909085788, 0.028117268499047946, 0.002082760629559107, 0.9622354108563075, 0.0062482818886773215, 0.0054196749059982835, 0.9755414830796911, 0.018968862170993993, 0.9901326277506526, 0.02828863908163308, 0.971243275136069, 0.9924993667467479, 0.9897395245230525, 0.009274667565811736, 0.2288611698343153, 0.18219710584230206, 0.19212028499538158, 0.11719400189649624, 0.08629397567298276, 0.05847139108555092, 0.12642632680474114, 0.008415860800713021, 0.12152119187873543, 0.1042756101929743, 0.149194334583794, 0.1451837341917565, 0.03469169339112414, 0.021657242117002352, 0.42251675130114774, 0.0008021200784074946, 0.9907917716919473, 0.9948615806846886, 0.0017111563409338757, 0.0008555781704669378, 0.0008555781704669378, 0.9958929904235155, 0.0008555781704669378, 0.0008555781704669378, 0.0008555781704669378, 0.9966082876471094, 0.029019159739309235, 0.9353098408285053, 0.002232243056869941, 0.03348364585304912, 0.9941179966575849, 0.9818660276782477, 0.9894257937971912, 0.1513470305049142, 0.828333940032665, 0.004365779726103294, 0.011642079269608785, 0.0026194678356619766, 0.001455259908701098, 0.9815793340116263, 0.9960467618639122, 0.0019881172891495253, 0.981585105931625, 0.01670783159032553, 0.9978396761266698, 0.0007267586861811142, 0.0007267586861811142, 0.9984733379770055, 0.11447667522776937, 0.8565203546529001, 0.008218838221480878, 0.0005870598729629199, 0.0017611796188887596, 0.018198856061850517, 0.04530794608778313, 0.8148002763655425, 0.0022282596436614655, 0.003713766072769109, 0.07947459395725893, 0.03936592037135256, 0.013369557861968794, 0.0014855064291076437, 0.9864940370584995, 0.013513616946006843, 0.10169373059822348, 0.1900788910582179, 0.1785989794122646, 0.38706604753169976, 0.05719637395284697, 0.023163007568826128, 0.04652919941457178, 0.015645189322803614, 0.268399161090126, 0.13207072813861295, 0.19257926384502022, 0.1521310681224692, 0.11667748766120487, 0.04585220567738577, 0.08900240637735417, 0.0031932786096750803, 0.02106937348994576, 0.3379916667932569, 0.40387526326181744, 0.003040313634912808, 0.08883796441215225, 0.01614406540138701, 0.10680621799448695, 0.022285498943910884, 0.01074280985156796, 0.19084285736314843, 0.6932272004217677, 0.002211754969440462, 0.02401333966821073, 0.0028436849607091654, 0.07140808901336348, 0.005055439930149628, 0.9915578706582726, 0.006946114680618372, 0.9988542460273087, 0.993962357431841, 0.8431619348492182, 0.06979136667123219, 0.00010027495211383934, 0.041263142794844894, 0.007169659076139513, 0.002506873802845984, 0.03253922196094087, 0.0035096233239843774, 0.9948553544872375, 0.0004776069872718375, 0.0033432489109028623, 0.0004776069872718375, 0.0004776069872718375, 0.0012172460206712943, 0.06877440016792813, 0.9068482854001143, 0.009737968165370354, 0.009737968165370354, 0.0024344920413425885, 0.0012172460206712943, 0.03884032368087403, 0.12123729606101392, 0.13899287260084206, 0.11790812545979615, 0.3376333851401692, 0.19087244780315235, 0.0363434457299607, 0.018033007423262942, 0.9944558066615375, 0.9924884345319106, 0.004962770832144378, 0.9950355518449477, 0.003945160524387402, 0.06838278242271496, 0.9257976697229103, 0.039385040294258974, 0.20898687006141167, 0.03593884926851131, 0.0004923130036782372, 0.23557177226003648, 0.004923130036782372, 0.12997063297105463, 0.344619102574766, 0.9893880185290256, 0.9989024785461147, 0.9954084239294811, 0.0030120607095878637, 0.25200907936885125, 0.0030120607095878637, 0.7269106512472044, 0.012048242838351455, 0.002008040473058576, 0.20728638712111064, 0.14171668101212984, 0.17887752801465, 0.23452519436980931, 0.09589745026217109, 0.05850259288809851, 0.0488145635058294, 0.03435272254389145, 0.9921389330289473, 0.9910135282767697, 0.02778570344602509, 0.0032689062877676576, 0.6848358672873243, 0.27867426103219284, 0.0004086132859709572, 0.004903359431651487, 0.3565555308360547, 0.17113259873570166, 0.19619924906386058, 0.08363359034722176, 0.09206722970996681, 0.01616447544526135, 0.07660555754493421, 0.007613702202478171, 0.9908633892594381, 0.09227762447088261, 0.9010638624803832, 0.996425555040722, 0.9952568192101882, 0.9930595359596148, 0.1239053619398942, 0.31263023479265856, 0.2293463954338434, 0.06903067354089269, 0.1407824060106615, 0.04298625236450709, 0.05889148967496148, 0.02244873616322789, 0.9932560146401354, 0.18076050926627832, 0.0804231079362679, 0.13064651819850867, 0.27880010751239537, 0.20658343916146094, 0.012802045753120196, 0.10383881555308604, 0.006127474890382316, 0.9907408382809744, 0.008449815251863321, 0.033992281714365497, 0.7875750194128375, 0.0020918327208840305, 0.018303536307735267, 0.0010459163604420152, 0.1574104122465233, 0.0129485790030259, 0.00129485790030259, 0.00129485790030259, 0.08028118981876058, 0.00517943160121036, 0.03237144750756475, 0.8675547932027353, 0.12989362768331292, 0.2543984794813119, 0.17694487981627763, 0.17557757847224276, 0.11807049253195254, 0.04825769449534845, 0.05927653473845301, 0.037560572215546206, 0.03742108323387431, 0.007978098963567111, 0.7706463689331373, 0.005128777905150286, 0.03172244111704066, 0.09573718756280533, 0.04995809589090834, 0.0015196378978223068, 0.008693114303634198, 0.0440451124717466, 0.02955658863235627, 0.7736871730234436, 0.022312326712661108, 0.004636327628604905, 0.08490274969882733, 0.032454293400234334, 0.23942040291866676, 0.0018322990019285722, 0.012215326679523814, 0.7231473394278098, 0.0006107663339761908, 0.0012215326679523816, 0.021987588023142865, 0.9898849792539397, 0.007184077563633121, 0.9842186262177376, 0.007184077563633121, 0.05238106232468118, 0.038800786907171245, 0.06984141643290824, 0.7837758955248592, 0.05432110167003974, 0.9967182230609087, 0.01671957340684945, 0.001326950270384877, 0.981943200084809, 0.9909719663660855, 0.058735154566693294, 0.9338889576104233, 0.06335629340557844, 0.9308501569588833, 0.004873561031198342, 0.6502950049584946, 0.16933960295589812, 0.041368350493792456, 0.020490865197859816, 0.03131622794389897, 0.006572541667238054, 0.012758463236403282, 0.06727189706467185, 0.004192584772501371, 0.020962923862506855, 0.004192584772501371, 0.9642944976753154, 0.2532204121374973, 0.32975711790399803, 0.09444117935198035, 0.044859560192190666, 0.04938486670280639, 0.01574019655866339, 0.011214890048047666, 0.20127776349390814, 0.9958285508407927, 0.9873773815610056, 0.004478871836054803, 0.3109083532861376, 0.12167601821282215, 0.003359153877041102, 0.023514077139287715, 0.014183094147506877, 0.006718307754082204, 0.5150702611463024, 0.19935458392147215, 0.06816167759079747, 0.19605643823159485, 0.06339768937208581, 0.08025487845368089, 0.001465842528834354, 0.3906470339343554, 0.0003664606322085885, 0.005702379068306268, 0.5662126980765283, 0.2911567665464612, 0.005534662036885496, 0.0060378131311478135, 0.11606018574317464, 0.009056719696721722, 0.0001677170314207726, 0.993235196466484, 0.678628829891053, 0.008800662059105875, 0.04791471565513199, 0.11685323511812801, 0.012712067418708485, 0.1300542282067868, 0.004889256699503264, 0.0004889256699503264, 0.9976149140956734, 0.9956043745235933, 0.990241678706541, 0.00218175993041825, 0.9970642882011402, 0.9983160306395531, 0.00096829876880655, 0.2051394812656789, 0.23807373166824855, 0.23606467064151226, 0.1040406603131285, 0.10813053454612735, 0.02037761898546793, 0.0816539803009243, 0.006529448336892892, 0.9913381229101752, 0.01241059895556761, 0.0031026497388919024, 0.006205299477783805, 0.9742320180120573, 0.0031026497388919024, 0.5750422588430788, 0.28149580123457857, 0.021841814677733183, 0.0015063320467402195, 0.01543990347908725, 0.025325207535819943, 0.014027717185268296, 0.06533715252735703, 0.10680213082256, 0.08891898333599181, 0.00397403277479293, 0.16045157328226456, 0.5856730801851081, 0.05116567197545897, 0.0024837704842455813, 0.0004967540968491163, 0.055876535269274955, 0.017367031232342216, 0.06569268335712056, 0.10495727570850295, 0.006795794830046954, 0.7490476079340642, 0.0007550883144496615, 0.9867703223208336, 0.9928318864828501, 0.022601772729992874, 0.04825409147262282, 0.004159835471777829, 0.7523755756622168, 0.15349792890860192, 0.007210381484414904, 0.005546447295703773, 0.006239753207666744, 0.16783327296980738, 0.13759933616252343, 0.2577368276343713, 0.10497063208337537, 0.06316198679541503, 0.06386046058304205, 0.19986328523098942, 0.00498909848305016, 0.9924528333472465, 0.9855478468071505, 0.012841014290646912, 0.9935992286581254, 0.9971932802328893, 0.0045529189733586025, 0.11230533467617886, 0.012141117262289607, 0.2488929038769369, 0.0015176396577862008, 0.61919698037677, 0.9940559403614889, 0.005787975177113781, 0.005787975177113781, 0.001929325059037927, 0.023151900708455124, 0.9627332044599256, 0.0033286631227423895, 0.005121020188834445, 0.009729938358785446, 0.0007681530283251668, 0.006657326245484779, 0.009985989368227168, 0.9642881015575261, 0.0739451824359413, 0.9214707349709608, 0.9945284937441533, 0.9989238685453676, 0.0006663935080356021, 0.9965271923924597, 0.0004774926652575274, 0.0014324779957725822, 0.0009549853305150548, 0.0019253636912711994, 0.9780847551657693, 0.0019253636912711994, 0.015402909530169595, 0.0019253636912711994, 0.9981822877868821, 0.000723845023775839, 0.9977357723010997, 0.9950574125903372, 0.988677834607791, 0.006065508187777859, 0.30431751133667695, 0.12565772883087795, 0.14384778275481533, 0.15294280971678403, 0.1279576207063183, 0.02195351335647618, 0.1097675667823809, 0.013381189093471194, 0.9978740233329042, 0.9923734583424517, 0.9939038567044631, 0.9984819888581804, 0.9971881186488581, 0.017603509065887455, 0.03520701813177491, 0.9447216532026268, 0.04325669118178191, 0.15247983641578122, 0.007569920956811834, 0.6672344614789859, 0.12868865626580117, 0.0331846525998723, 0.00553077543331205, 0.0007901107761874357, 0.00553077543331205, 0.08296163149968075, 0.8707020753585542, 0.0007901107761874357, 0.14295871761819617, 0.32511667549645124, 0.26536974045821266, 0.023063739036732325, 0.08330294360381818, 0.027767647867939393, 0.12200991433502982, 0.010392356720108636, 0.1433899779553911, 0.09997833325330022, 0.003946513154735535, 0.04604265347191457, 0.6314421047576856, 0.07498374993997516, 0.9972046263405717, 0.9842137947280761, 0.9981196529262275, 0.18334810107419772, 0.3357896147683342, 0.20914232061695556, 0.04965193611684019, 0.08745247406538623, 0.07637567708456229, 0.046321151010718306, 0.011928858287041169, 0.9983017420364022, 0.03087457287307305, 0.021339778309329902, 0.037004083664050794, 0.7718643218268263, 0.01679939994564269, 0.005902491872793378, 0.06379231600980535, 0.05221435118240295, 0.9948277219538146, 0.18973581950990467, 0.2092663260617887, 0.1809623497698005, 0.14968302287029872, 0.08491192887596458, 0.019911961757975518, 0.15021706015882683, 0.0153344992848777, 0.0017054055305698991, 0.08527027652849496, 0.0017054055305698991, 0.9106865533243261, 0.34828251593780607, 0.21949942140941667, 0.12224924635011084, 0.11268520771234074, 0.04497938963307718, 0.07632292219844256, 0.06997846092388219, 0.005965687467123922, 0.9935970734095168, 0.1700443146956197, 0.2858152922481177, 0.20737999964306925, 0.07940662749799021, 0.03162909245141659, 0.1666446425703235, 0.04996303855569262, 0.009166973052138015, 0.9922441428766862, 0.0013984544471243043, 0.0013984544471243043, 0.2265496204341373, 0.703422586903525, 0.004195363341372912, 0.04894590564935065, 0.015382998918367346, 0.007263717696099913, 0.9878656066695882, 0.9934628909217315, 0.9934341334193212, 0.9818979775695864, 0.9966424301446563, 0.9966490860737444, 0.9889718300427798, 0.2675411889616182, 0.08778695262803098, 0.6437709859388938, 0.9902542280669672, 0.08034015786316626, 0.6391543637190161, 0.19210299903433622, 0.008662469452476701, 0.0011889663954379784, 0.07014901733084072, 0.005095570266162765, 0.003057342159697659, 0.41672386629531016, 0.01932730706170275, 0.0542520899977621, 0.07629200155935295, 0.019666382624188763, 0.4109595817330479, 0.0027126044998881053, 0.0019150671959433459, 0.9958349418905399, 0.0019150671959433459, 0.02656231361146824, 0.9695244468185908, 0.1861538977770047, 0.4795919249433245, 0.15349066036392112, 0.031202686146644863, 0.005045540738606404, 0.11896853952082467, 0.024829371529457828, 0.0006638869392903162, 0.014938401103302624, 0.9829467925973127, 0.9960842287983976, 0.1264279558726149, 0.027080651502702092, 0.12054758583202817, 0.3647376890963933, 0.08077771476805996, 0.01779585670177566, 0.21045534882099912, 0.05214959746520346, 0.9938442535713938, 0.36426505123253966, 0.0028633973707218167, 0.022907178965774534, 0.49843567088921903, 0.07567550194050515, 0.004295096056082724, 0.02311170734939752, 0.008181135344919476, 0.990370787375622, 0.9966768704050181, 0.000837005048690264, 0.9725998665780867, 0.000837005048690264, 0.02343614136332739, 0.000837005048690264, 0.1630354686350334, 0.2748127582276125, 0.20923244092329585, 0.09837047595647491, 0.07871791781519777, 0.059603785924366576, 0.07586425868783424, 0.040328126158401596, 0.9897410116343183, 0.0019248977178756164, 0.9893974269880669, 0.005774693153626849, 0.9857243306670523, 0.9907649111139066, 0.007621615129637829, 0.9908099668529178, 0.14319274672228313, 0.08111904370966778, 0.15730040649787755, 0.008464595865356639, 0.029626085528748236, 0.0028215319551188798, 0.5777086678105906, 0.3773252414636674, 0.1661481864345541, 0.11069596862829138, 0.002084669842340704, 0.02126363239187518, 0.012716486038278295, 0.02105516540764111, 0.2887267731641875, 0.9988956585327494, 0.2012503173476455, 0.06966854274269808, 0.1123227525851663, 0.3476964378067864, 0.06087919041152282, 0.03722549222615408, 0.16673918392964848, 0.004265420984246822, 0.9974993901364917, 0.008487507967942325, 0.0027281275611243188, 0.0006062505691387376, 0.983944673712171, 0.004243753983971163, 0.9886103298871876, 0.9884127545197449, 0.013700210306961285, 0.5175254443454625, 0.0003425052576740321, 0.0065075998958066105, 0.4596420557985511, 0.0003425052576740321, 0.0013700210306961285, 0.0006850105153480642, 0.9939845947862593, 0.9293767807234927, 0.009932270939029694, 0.0028377916968656265, 0.05675583393731253, 0.008268255210228585, 0.15569544980616878, 0.0022422387010789385, 0.0002802798376348673, 0.8285072000486677, 0.00014013991881743366, 0.004764757239792744, 0.011275864637566487, 0.007893105246296541, 0.9798726370045278, 0.0005637932318783243, 0.20486556100966827, 0.16224668170374104, 0.17516506864906708, 0.17599090160447603, 0.13207428479719185, 0.04070176708801356, 0.10160694754942516, 0.007344014496315491, 0.06464312791481978, 0.00773507513510664, 0.016022655637006614, 0.8740634902670504, 0.01547015027021328, 0.0016575161003799944, 0.016022655637006614, 0.004420042934346652, 0.09096560133280358, 0.02317048335835563, 0.05892740212125012, 0.22827216938231842, 0.5306326744413542, 0.021454151257736694, 0.04491068996619548, 0.0014302767505157796, 0.01855507639869019, 0.025840505168728052, 0.057258916739516344, 0.643394428253969, 0.23256454651855246, 0.0035288795604870907, 0.01650604955711704, 0.0023905313151686746, 0.013492959057220347, 0.030040927712301903, 0.05142599489733038, 0.5738326361315974, 0.2997728167901313, 0.0038187619973265134, 0.02558570538208764, 0.0020366730652408072, 0.9986372116433607, 0.0399769108769232, 0.041294831015722865, 0.1322313205928998, 0.007907520832797995, 0.04393067129332219, 0.036901763886390646, 0.0039537604163989975, 0.6936652997215574, 0.991324225675264, 0.9903254895521765, 0.02479475328038726, 0.03258739002565183, 0.19304486482587224, 0.0970537485546587, 0.1005958561661426, 0.08926111180939414, 0.011688955117896851, 0.45091029894189977, 0.022355754486761747, 0.08108697390113583, 0.11973590538672392, 0.29422446371136435, 0.39179407015782447, 0.015724810359332413, 0.04698497553149926, 0.028039420881701173, 0.07131348502382558, 0.12310540152157598, 0.03253594754345859, 0.19773888119269326, 0.47343123670379544, 0.08007827089267563, 0.01991996788375016, 0.001991996788375016, 0.09492736727769023, 0.0342406632702519, 0.08490570973517748, 0.06124346275980015, 0.678688919129058, 0.03145686950844281, 0.005845966899799105, 0.008629760661608202, 0.012482438881020052, 0.012482438881020052, 0.9694694197592241, 0.02603327646895801, 0.006659675375779956, 0.03572007701554704, 0.7192449405842353, 0.16346475922368983, 0.0012108500683236283, 0.009686800546589026, 0.038141777152194294, 0.993485892876849, 0.993237798660363, 0.03423296479330532, 0.04862637044503597, 0.0015560438542411511, 0.8717735693386048, 0.04318021695519194, 0.9913225435927665, 0.12864176694537155, 0.006497058936634927, 0.14683353196794935, 0.7172753066044959, 0.0016042111929580535, 0.9053098498926616, 0.001336842660798378, 0.09117266946644938, 0.0002673685321596756, 0.0005347370643193513, 0.011659530207529155, 0.11368041952340925, 0.8103373494232762, 0.06412741614141035, 0.9889150848083359, 0.08377742778816663, 0.1977885829599416, 0.09739414470139482, 0.06969912725076122, 0.08262346872772357, 0.03323402094076031, 0.010847215168164824, 0.4248877260551371, 0.9699291705712461, 0.029489278265018536, 0.04161634016892541, 0.024480200099367886, 0.0014688120059620732, 0.20073764081481668, 0.7123738228916056, 0.016646536067570165, 0.0014688120059620732, 0.0009792080039747156, 0.018706065060000953, 0.032067540102858776, 0.9486647280429055, 0.33009815503432477, 0.15647827972324446, 0.04260910903262056, 0.4253564505152983, 0.03550759086051713, 0.009550317541794263, 0.0002448799369690837, 0.9963903028596122, 0.001433655112028219, 0.001433655112028219, 0.011388127969654025, 0.9850730693750732, 0.21103455333491009, 0.0007673983757633094, 0.0030695935030532378, 0.08211162620667412, 0.6146860989864108, 0.07750723595209426, 0.0007673983757633094, 0.010743577260686333, 0.09430561508628085, 0.010478401676253428, 0.047152807543140426, 0.09954481592440756, 0.3010999540499882, 0.42314251474988107, 0.004931012553531025, 0.018799485360337032, 0.9913505091309492, 0.9966756521883949, 0.9867560781270076, 0.8462045214948357, 0.14078795412886735, 0.002461327869385793, 0.01082984262529749, 0.9857675442045646, 0.0328384594872132, 0.004691208498173315, 0.9593521378764428, 0.2050049542167841, 0.09566897863449925, 0.004783448931724962, 0.05125123855419603, 0.6423488565459234, 0.0006833498473892804, 0.046521693152183796, 0.021025818613264562, 0.10165238290192474, 0.5358272593844942, 0.10239739222286719, 0.011092361000698629, 0.008774554224433243, 0.17259382601833312, 0.9832458213194697, 0.4802763402823218, 0.034893400281316225, 0.08374416067515894, 0.25284294665384527, 0.11899544198500149, 0.01467312216957913, 0.011273252398579087, 0.0033998697710000423, 0.2819401915913403, 0.11583626449354999, 0.06947777603267377, 0.27572868175617893, 0.14931606267843525, 0.04717389901838775, 0.03340785019451659, 0.027148375032442773, 0.00840887462374927, 0.05045324774249562, 0.9375895205480436, 0.0026163124223849334, 0.0078489372671548, 0.15610664120230103, 0.005232624844769867, 0.005232624844769867, 0.0008721041407949777, 0.8223942047696641, 0.9910315508997971, 0.008176827977721098, 0.05928057201433311, 0.06586730223814789, 0.13367187807153544, 0.46533311757656254, 0.21581227850969636, 0.01840409915477662, 0.022666101064303838, 0.018985281233348514, 0.09969436983693267, 0.04796292706931468, 0.12573138738884634, 0.506522769085584, 0.1641017290442981, 0.0183286899872024, 0.03168979109936863, 0.005995365883664335, 0.9970396012061483, 0.26653025287250676, 0.18609174217880553, 0.12784928851979005, 0.10689621067904669, 0.05078457849536105, 0.21503540055203577, 0.0424388610503192, 0.004439211406937154, 0.9414488835034381, 0.04909396018269462, 0.0028878800107467427, 0.005775760021493485, 0.17116554051792146, 0.32093538847110276, 0.2224130481729888, 0.04409669263343003, 0.12110983536646035, 0.02701419008174092, 0.08240463024934415, 0.010896480032971128, 0.011180221518831778, 0.006388698010761016, 0.030701243218379328, 0.4823466998124567, 0.4654876356173929, 0.0005323915008967514, 0.0021295660035870055, 0.0010647830017935028, 0.9875649341763834, 0.9414767813479448, 0.05803156375241139, 0.9979393556211267, 0.9936021073064046, 0.9945400407557544, 0.9020044224060187, 0.008294293539365689, 0.07464864185429121, 0.001036786692420711, 0.002073573384841422, 0.011404653616627822, 0.019499343026201807, 0.0008999696781323911, 0.035098817447163255, 0.8285720836672213, 0.07319753382143447, 0.0035998787125295644, 0.03929867594511441, 0.000299989892710797, 0.9963597422535081, 0.1710088856180506, 0.4792344818517826, 0.033536173676593756, 0.0005120026515510498, 0.31360162407501796, 0.0012800066288776244, 0.0005120026515510498, 0.033742888011006826, 0.9650465971147952, 0.9957218858523635, 0.9961768968251017, 0.0032781649316007766, 0.9912351211927848, 0.0045074767809510675, 0.0004097706164500971, 0.0004097706164500971, 0.9812011051425876, 0.03300367311365327, 0.9626071324815538, 0.9975567281176769, 0.9921111702726445, 0.005333931022971207, 0.9972628402440482, 0.9838114932629894, 0.010166408455063563, 0.9861416201411656, 0.0066939079423836, 0.4645166420623771, 0.0022313026474612, 0.0006085370856712363, 0.11947611448678606, 0.40508285336181965, 0.0016227655617899635, 0.04410719556059853, 0.9497749444048883, 0.00958420157253727, 0.9622538378827419, 0.01916840314507454, 0.0019168403145074539, 0.0019168403145074539, 0.0038336806290149078, 0.0016678466856652953, 0.008339233428326476, 0.9840295445425242, 0.0033356933713305907, 0.017950218472102222, 0.96931179749352, 0.002564316924586032, 0.010257267698344128, 0.0003399971551636555, 0.7376238281275507, 0.008499928879091389, 0.24972791046770498, 0.0033999715516365553, 0.0003399971551636555, 0.09245340253397856, 0.046416934605536565, 0.09397526924235682, 0.3173092086968647, 0.030056867490470398, 0.06658166849154835, 0.08370266896080364, 0.2693704073829499, 0.0024318142176289925, 0.0012159071088144963, 0.9946120150102579, 0.9945550103844145, 0.0032715625341592585, 0.007131938123838017, 0.001188656353973003, 0.058244161344677144, 0.02020715801754105, 0.7619287228966949, 0.15095935695457138, 0.00947868254530474, 0.9857829847116928, 0.000967014944383563, 0.0004835074721917815, 0.001934029888767126, 0.8084244935046586, 0.1851833618494523, 0.0004835074721917815, 0.001934029888767126, 0.004590175395889822, 0.00841532155913134, 0.0007650292326483037, 0.9126798745494262, 0.06502748477510581, 0.0030601169305932148, 0.004590175395889822, 0.0024138595242472203, 0.0048277190484944405, 0.9679576692231353, 0.0241385952424722, 0.0033286743572108817, 0.0023776245408649154, 0.0052307739899028136, 0.8645042830584833, 0.12220990140045665, 0.00047552490817298306, 0.0009510498163459661, 0.0009510498163459661, 0.030971880731843537, 0.9663226788335183, 0.0011626923663438315, 0.0005813461831719157, 0.0017440385495157472, 0.9853817804763971, 0.009882885113922567, 0.0005813461831719157, 0.0005813461831719157, 0.0005813461831719157, 0.0519547322404016, 0.6171501430868513, 0.04985251764107899, 0.0006006327426636023, 0.025226575191871294, 0.060363590637692026, 0.022824044221216887, 0.17208128077312204, 0.011197109512858155, 0.004071676186493875, 0.9843277180848942, 0.9911817739328672, 0.9968266304990888, 0.001001530849341383, 0.001001530849341383, 0.001001530849341383, 0.8513012219401757, 0.1241898253183315, 0.001001530849341383, 0.020030616986827662, 0.0029742106107846986, 0.0029742106107846986, 0.002549323380672599, 0.8253434444927539, 0.14573631992845024, 0.0010622180752802495, 0.0012746616903362995, 0.018057707279764242, 0.8642049943428022, 0.002664558050388907, 0.03108651058787058, 0.022204650419907556, 0.013322790251944534, 0.06661395125972268, 0.9862735355454103, 0.996828383711395, 0.0012024467837290652, 0.9874617430567909, 0.9854608260534566, 0.9937800333875864, 0.9862235275069887, 0.38011112125248114, 0.043216768307775634, 0.324967647405222, 0.009962306980039188, 0.05360001783626718, 0.16346602298233315, 0.024414667810236882, 0.00014031418281745334, 0.026936365124604383, 0.7282888252848643, 0.007803993634231176, 0.16765999227090203, 0.00025174173013648956, 0.06671155848616973, 0.0022656755712284057, 0.004366422441823933, 0.0032748168313679496, 0.05458028052279916, 0.0005458028052279917, 0.0038206196365959413, 0.9327769941346377, 0.9941857633856547, 0.99152807683093, 0.010037843294228015, 0.0029056914799081095, 0.006867998043419168, 0.662497657419049, 0.31751283262268615, 0.0006819212740109691, 0.10774356129373312, 0.010910740384175506, 0.09342321453950277, 0.0034096063700548456, 0.7576145354261867, 0.026594929686427796, 0.9899824664191216, 0.07654679010580435, 0.008057556853242564, 0.9105039244164096, 0.0010625478038586455, 0.8553509821062097, 0.08447255040676233, 0.0010625478038586455, 0.002125095607717291, 0.04728337727170973, 0.008500382430869164, 0.9938490406532929, 0.001519670441475001, 0.03900487466452502, 0.03849831785070002, 0.06939828349402505, 0.8180892543273754, 0.001519670441475001, 0.03191307927097502, 0.989889661723982, 0.999209181468664, 0.7141096419327042, 0.023051286356940013, 0.0830806779114713, 0.13734724787676758, 0.018729170165013763, 0.009124467516288755, 0.01392681884065126, 0.0009604702648725006, 0.015865534441474795, 0.010577022960983198, 0.9730861124104542, 0.9919899238432968, 0.005263520715667999, 0.026317603578339992, 0.015790562147003993, 0.9500654891780737, 0.7823211635810675, 0.002601234126620341, 0.18728885711666454, 0.0013006170633101705, 0.0039018511899305114, 0.02146018154461781, 0.0006503085316550852, 0.9982016396734025, 0.029170183114325364, 0.04106704210997179, 0.030886076238697446, 0.7338302928564596, 0.04712986448275314, 0.009952180121358066, 0.07332583284816689, 0.03466104111231602, 0.055125556520177324, 0.09557740375081104, 0.7439967196536162, 0.004362454113107558, 0.03133035226686337, 0.052349449357290696, 0.01645834960854215, 0.00039658673755523253, 0.9900656945354113, 0.002742564250790613, 0.005485128501581226, 0.002742564250790613, 0.2799522813822504, 0.23371214202993149, 0.14625475386196723, 0.05466086760497766, 0.01743238480374963, 0.017580116878357678, 0.21864347041991064, 0.03176239604073026, 0.9888582665579412, 0.11168331426229211, 0.495146436855529, 0.1583887981319204, 0.0005976935778563033, 0.019040809694565092, 0.003159237482954746, 0.0016223111398956805, 0.21038813940541878, 0.99423761298525, 0.9976401039021087, 0.028148962203162844, 0.5980537445862455, 0.23423957833346223, 0.001340426771579183, 0.05730324448501007, 0.00290425800508823, 0.03574471390877821, 0.042223443304744264, 0.9963834109624659, 0.2653653007490239, 0.003171696821701481, 0.07823518826863653, 0.0010572322739004936, 0.0010572322739004936, 0.006343393643402962, 0.6438544548054006, 0.9175970079732516, 0.07316388103441208, 0.0015242475215502518, 0.0015242475215502518, 0.0030484950431005037, 0.0030484950431005037, 0.017823948074091045, 0.271958949646615, 0.14747879616143075, 0.0002874830334530814, 0.0011499321338123256, 0.0002874830334530814, 0.003737279434890058, 0.5574296018655248, 0.9940358093129447, 0.9925878792723796, 0.0035491819282683417, 0.0035491819282683417, 0.9948928954464747, 0.9881530072842943, 0.9892874440721459, 0.9965005772613956, 0.03451744159599178, 0.38612293925637037, 0.3445392473969093, 0.003672068254892742, 0.05202427511391285, 0.014787518107541043, 0.14525511075300046, 0.019074905907848244, 0.0072149431268529775, 0.21234567908639843, 0.25379623469753415, 0.018956909392123508, 0.09634071116444859, 0.007073473653777429, 0.4029050593191624, 0.0014146947307554858, 0.9944578074761117, 0.0006576169904428493, 0.0036168934474356713, 0.001174316054362231, 4.6972642174489234e-05, 0.7718682292231385, 0.06050826319538171, 0.036460107310037695, 0.12644675513906692, 0.0038787348202167764, 0.06827085195622644, 0.7479866766382178, 0.0001870434300170587, 0.0007481737200682348, 0.056674159295168794, 0.04956650895452056, 0.0761266760169429, 0.0003740868600341174, 0.025187584527130786, 0.010794679083056051, 0.9619258471789948, 0.9915607941633378, 0.2879739760703787, 0.25956449903332474, 0.11261105958061166, 0.10051706533993807, 0.07849686827908897, 0.03936252842483386, 0.10998689101895606, 0.011409428528937351, 0.23017669738828647, 0.28225912991707375, 0.19855851268496957, 0.058442941988055115, 0.12315421213886693, 0.019450253563847997, 0.06692362126707889, 0.021017335604537172, 0.18224097164342537, 0.1983959090204382, 0.17858951319519645, 0.11275261087106889, 0.15811921583391308, 0.011839577392742268, 0.15347190508162173, 0.004647310752291358, 0.23165937720006194, 0.0701849384313747, 0.12754762849547902, 0.30092405857158466, 0.1168112961305397, 0.09699509410839458, 0.0513503439397383, 0.004417233887289316, 0.99802361710601, 0.0013663652817935217, 0.035525497326631565, 0.0013663652817935217, 0.9325443048240786, 0.018445931304212543, 0.010247739613451412, 0.9923360178344013, 0.987748577170764, 0.7763990917499899, 0.2236253009540925, 0.0036665899830963834, 0.007333179966192767, 0.0018332949915481917, 0.032999309847867454, 0.9533133956050597, 0.9959698722768905, 0.0033198995742563017, 0.005144557831198512, 0.9903273825057135, 0.002572278915599256, 0.9895214924077137, 0.9990133040440048, 0.8854737743593994, 0.051256310719228856, 0.0008402673888398172, 0.05007993637485311, 0.010587369099381698, 0.0010083208666077808, 0.0006722139110718538, 0.17744924754239677, 0.18326210469960677, 0.3036039582786027, 0.05600766423095569, 0.029928359147256826, 0.03440583020078344, 0.21248349473314887, 0.0028278764548589127, 0.9988405524092263, 0.0010547418716042518, 0.17245835404111381, 0.2508557431994993, 0.2791614942546568, 0.05351059118011507, 0.07132095139459617, 0.027113093005080594, 0.1429599449358795, 0.0026238477101690897, 0.2978736985990735, 0.009702726338732036, 0.007762181070985629, 0.0533649948630262, 0.004851363169366018, 0.6258258488482163, 0.9967368853102854, 0.2745476172912808, 0.08991161012487363, 0.14383669989563116, 0.23024810135384305, 0.15400918133311686, 0.07109798854156674, 0.025923420437463564, 0.010281862958318882, 0.9893179725323611, 0.0044885417235914415, 0.9919677209137087, 0.9979455049701124, 0.9884126647716378, 0.9612929113429588, 0.03662068233687462, 0.9828159160446992, 0.1579605365675756, 0.12885251680452017, 0.2042895313736952, 0.0864096712337823, 0.009753472590762025, 0.3822904061551022, 0.013563422821528441, 0.016992378029218214, 0.19876097283466507, 0.1731893856863456, 0.17938855832836242, 0.15982241967699676, 0.02373120777022073, 0.21232166298907693, 0.04746241554044146, 0.005424276061764739, 0.26341006311218834, 0.07572142141235932, 0.20329945606683203, 0.07625972535604908, 0.002870954366345377, 0.35240964846889505, 0.01812289943755519, 0.007895124507449787, 0.986731842141953, 0.0016258644664124695, 0.21461410956644597, 0.7793310342337104, 0.0002709774110687449, 0.002167819288549959, 0.0005419548221374898, 0.0010839096442749796, 0.0008129322332062347, 0.9932512679131555, 0.005825520632921734, 0.991544993192605, 0.12654605631364524, 0.017911134124392863, 0.007398077138336183, 0.00038937248096506224, 0.00038937248096506224, 0.003114979847720498, 0.8437701662512899, 0.9947926092070495, 0.9981778036908455, 0.10837500975812735, 0.8914718544620154, 0.17525228412608673, 0.021736717410987504, 0.001358544838186719, 0.027170896763734378, 0.7730120129282431, 0.18197508199674434, 0.019309253073609527, 0.14247888252799756, 0.0804552211400397, 0.12638783829998962, 0.049443390446060755, 0.3788709504594597, 0.020772075276155703, 0.04907962590857847, 0.006818817169850967, 0.5325813363940575, 0.000792885717424531, 0.0010307514326518903, 0.35449920426050785, 0.003964428587122655, 0.051299705917367155, 0.9949311357157219, 0.00375967098182475, 0.005639506472737125, 0.9770444964017069, 0.0023497943636404685, 0.00046995887272809376, 0.008929218581833782, 0.0009399177454561875, 0.9825243873849615, 0.010796971289944631, 0.245659128277269, 0.21108707564476228, 0.16100698797424545, 0.12396550301084543, 0.10905013173224967, 0.10480270812311314, 0.030522183609841623, 0.01392759834623841, 0.9963041187174145, 0.031507846442475826, 0.9609893164955127, 0.33384852011738514, 0.09201747365422233, 0.18205771233736218, 0.13110588808254486, 0.02296634466411169, 0.19696302211936845, 0.03574232447725991, 0.00517122992436952, 0.9916277348793968, 0.1415423613227049, 0.09957340534911217, 0.23905846490840565, 0.07447432383549299, 0.00740628634828107, 0.004114603526822817, 0.42339270291006786, 0.00987504846437476, 0.21553228325417784, 0.22837664505532976, 0.18400521337862316, 0.13291968348767808, 0.14628300940200784, 0.02293172675104646, 0.05089091834850339, 0.01910436641635978, 0.001941528859632964, 0.015532230877063713, 0.036889048333026316, 0.9261092660449238, 0.01941528859632964, 0.017508734113998302, 0.9804891103839048, 0.0079491397411812, 0.9856933279064689, 0.9955100569384701, 0.0023930530214867065, 0.2719280688687565, 0.03952193102041958, 0.07703912640936861, 0.4722584366135644, 0.03651482757321375, 0.010453264364096484, 0.08806517238245667, 0.004152666665189014, 0.9828547314171048, 0.010820419061472714, 0.003606806353824238, 0.05137806834331417, 0.19909001483034242, 0.14642749477844538, 0.6024078513253587, 0.018167230213008305, 0.9749746880981123], \"Term\": [\"100\", \"100\", \"100\", \"100\", \"100\", \"100\", \"100\", \"100\", \"2013\", \"33\", \"33\", \"44\", \"78\", \"83\", \"83\", \"accept\", \"acid\", \"acid\", \"acid\", \"acid\", \"acid\", \"acid\", \"acrid\", \"add\", \"add\", \"add\", \"add\", \"add\", \"add\", \"add\", \"add\", \"advertized\", \"aftertaste\", \"aftertaste\", \"aftertaste\", \"aftertaste\", \"aftertaste\", \"aftertaste\", \"aftertaste\", \"agave\", \"agave\", \"agave\", \"agave\", \"agave\", \"ahoy\", \"allergy\", \"allergy\", \"allergy\", \"allergy\", \"allergy\", \"almond\", \"almond\", \"almond\", \"almond\", \"almond\", \"almond\", \"almond\", \"aloe\", \"also\", \"also\", \"also\", \"also\", \"also\", \"also\", \"also\", \"also\", \"altoids\", \"amazon\", \"amazon\", \"amazon\", \"amazon\", \"amazon\", \"amazon\", \"amazon\", \"amazon\", \"amazoncom\", \"amazoncom\", \"amazoncom\", \"amazoncom\", \"amazoncom\", \"amazoncom\", \"amazoncom\", \"amazoncom\", \"amys\", \"anchovy\", \"angry\", \"animal\", \"animal\", \"animal\", \"animal\", \"annies\", \"annies\", \"annies\", \"annies\", \"apple\", \"apple\", \"apple\", \"apple\", \"apple\", \"apple\", \"apple\", \"applesauce\", \"applesauce\", \"apricot\", \"apricot\", \"aroma\", \"aroma\", \"aroma\", \"aroma\", \"aroma\", \"aroma\", \"aroma\", \"aroma\", \"arrival\", \"arrival\", \"arrived\", \"arrived\", \"arrived\", \"arrived\", \"arrived\", \"arrived\", \"arrived\", \"arrived\", \"arsenic\", \"ascorbic\", \"ashamed\", \"awful\", \"awful\", \"awful\", \"awful\", \"awful\", \"awful\", \"awful\", \"awful\", \"b12\", \"b12\", \"b6\", \"baby\", \"baby\", \"baby\", \"baby\", \"baby\", \"baby\", \"baby\", \"back\", \"back\", \"back\", \"back\", \"back\", \"back\", \"back\", \"back\", \"bacon\", \"bacon\", \"bacon\", \"bacon\", \"bad\", \"bad\", \"bad\", \"bad\", \"bad\", \"bad\", \"bad\", \"bad\", \"bag\", \"bag\", \"bag\", \"bag\", \"bag\", \"bag\", \"bag\", \"bag\", \"bait\", \"bar\", \"bar\", \"bar\", \"bar\", \"bar\", \"basil\", \"basil\", \"basket\", \"basket\", \"basket\", \"basket\", \"basket\", \"bean\", \"bean\", \"bean\", \"bean\", \"bean\", \"bean\", \"bean\", \"bean\", \"bell\", \"bell\", \"bell\", \"beneful\", \"bent\", \"berry\", \"berry\", \"berry\", \"berry\", \"berry\", \"berry\", \"berry\", \"better\", \"better\", \"better\", \"better\", \"better\", \"better\", \"better\", \"better\", \"biscotti\", \"bit\", \"bit\", \"bit\", \"bit\", \"bit\", \"bit\", \"bit\", \"bit\", \"bitter\", \"bitter\", \"bitter\", \"bitter\", \"bitter\", \"bitter\", \"bitter\", \"blend\", \"blend\", \"blend\", \"blend\", \"blend\", \"blend\", \"blend\", \"blend\", \"blood\", \"blood\", \"blood\", \"blood\", \"blood\", \"blood\", \"boil\", \"boil\", \"boil\", \"bottle\", \"bottle\", \"bottle\", \"bottle\", \"bottle\", \"bottle\", \"bottle\", \"bottle\", \"bought\", \"bought\", \"bought\", \"bought\", \"bought\", \"bought\", \"bought\", \"bought\", \"box\", \"box\", \"box\", \"box\", \"box\", \"box\", \"box\", \"box\", \"brachs\", \"brand\", \"brand\", \"brand\", \"brand\", \"brand\", \"brand\", \"brand\", \"brand\", \"brew\", \"brew\", \"brewed\", \"brewed\", \"brewing\", \"brewing\", \"broken\", \"broken\", \"broken\", \"broken\", \"broken\", \"broken\", \"broken\", \"broth\", \"broth\", \"broth\", \"broth\", \"brownie\", \"brownie\", \"bulb\", \"bummed\", \"bump\", \"business\", \"business\", \"business\", \"business\", \"business\", \"business\", \"business\", \"business\", \"butter\", \"butter\", \"butter\", \"butter\", \"butter\", \"butter\", \"butterscotch\", \"buy\", \"buy\", \"buy\", \"buy\", \"buy\", \"buy\", \"buy\", \"buy\", \"byproduct\", \"c\", \"c\", \"c\", \"c\", \"c\", \"c\", \"c\", \"c\", \"cacao\", \"cacao\", \"cacao\", \"caffeine\", \"caffeine\", \"caffeine\", \"caffeine\", \"cake\", \"cake\", \"cake\", \"cake\", \"cake\", \"cake\", \"cake\", \"calorie\", \"calorie\", \"calorie\", \"calorie\", \"calorie\", \"calorie\", \"calorie\", \"calorie\", \"campbell\", \"can\", \"can\", \"can\", \"can\", \"can\", \"can\", \"can\", \"can\", \"candy\", \"candy\", \"candy\", \"candy\", \"candy\", \"candy\", \"cappuccino\", \"capsule\", \"capsule\", \"capsule\", \"carbonated\", \"carbonated\", \"carbonation\", \"carbonation\", \"carbonation\", \"casing\", \"cat\", \"cat\", \"cat\", \"cause\", \"cause\", \"cause\", \"cause\", \"cause\", \"cause\", \"cause\", \"cause\", \"cent\", \"cent\", \"cent\", \"cent\", \"cent\", \"cent\", \"cent\", \"cereal\", \"cereal\", \"cereal\", \"cereal\", \"cereal\", \"cereal\", \"cereal\", \"chai\", \"cheated\", \"cheese\", \"cheese\", \"cheese\", \"cheese\", \"cheese\", \"cheese\", \"cherry\", \"cherry\", \"cherry\", \"cherry\", \"cherry\", \"chew\", \"chew\", \"chew\", \"chew\", \"chew\", \"chick\", \"chicken\", \"chicken\", \"chicken\", \"chicken\", \"chicken\", \"chicken\", \"chile\", \"china\", \"china\", \"china\", \"china\", \"china\", \"china\", \"china\", \"chip\", \"chip\", \"chip\", \"chip\", \"chip\", \"chipotle\", \"chipped\", \"chloride\", \"chloride\", \"chloride\", \"chocolate\", \"chocolate\", \"chocolate\", \"chocolate\", \"chocolate\", \"chocolate\", \"chocolatey\", \"chocolatey\", \"chowder\", \"christmas\", \"christmas\", \"christmas\", \"christmas\", \"christmas\", \"cigarette\", \"cilantro\", \"citrate\", \"citric\", \"citric\", \"citric\", \"citric\", \"citric\", \"clam\", \"clam\", \"cluster\", \"cluster\", \"cocacola\", \"cocoa\", \"cocoa\", \"cocoa\", \"cocoa\", \"coconut\", \"coconut\", \"coconut\", \"coconut\", \"coconut\", \"coconut\", \"coconut\", \"coconut\", \"coffee\", \"coffee\", \"coffee\", \"coffee\", \"coffee\", \"coffee\", \"coffee\", \"coke\", \"coke\", \"cola\", \"cola\", \"cola\", \"company\", \"company\", \"company\", \"company\", \"company\", \"company\", \"company\", \"company\", \"computer\", \"concentrate\", \"concentrate\", \"concentrate\", \"concentrate\", \"concentrate\", \"conditioner\", \"conditioner\", \"conditioner\", \"constipated\", \"contact\", \"contact\", \"contact\", \"contact\", \"contact\", \"contacted\", \"contacted\", \"contacting\", \"container\", \"container\", \"container\", \"container\", \"container\", \"container\", \"container\", \"container\", \"contamination\", \"cook\", \"cook\", \"cook\", \"cook\", \"cook\", \"cooked\", \"cooked\", \"cooked\", \"cooked\", \"cooked\", \"cookie\", \"cookie\", \"cookie\", \"cookie\", \"cookie\", \"cooking\", \"cooking\", \"cooking\", \"cooking\", \"cooking\", \"cooking\", \"cooking\", \"cooking\", \"cooky\", \"cooky\", \"cooky\", \"cooky\", \"cooky\", \"corn\", \"corn\", \"corn\", \"corn\", \"corn\", \"corn\", \"corn\", \"corporation\", \"cost\", \"cost\", \"cost\", \"cost\", \"cost\", \"cost\", \"cost\", \"cost\", \"cotton\", \"cough\", \"cough\", \"counted\", \"couscous\", \"crab\", \"crab\", \"crabmeat\", \"cracker\", \"cracker\", \"cracker\", \"cracker\", \"cracker\", \"crappy\", \"creamer\", \"creamer\", \"crema\", \"crunch\", \"crunch\", \"crunch\", \"crunch\", \"crunch\", \"crunchy\", \"crunchy\", \"crunchy\", \"crunchy\", \"crunchy\", \"cup\", \"cup\", \"cup\", \"cup\", \"cup\", \"cup\", \"cup\", \"cup\", \"curry\", \"curry\", \"customer\", \"customer\", \"customer\", \"customer\", \"customer\", \"customer\", \"customer\", \"customer\", \"dangerous\", \"darjeeling\", \"date\", \"date\", \"date\", \"date\", \"date\", \"date\", \"date\", \"date\", \"day\", \"day\", \"day\", \"day\", \"day\", \"day\", \"day\", \"day\", \"decaf\", \"decaf\", \"decaffeinated\", \"deceptive\", \"defeat\", \"dented\", \"dented\", \"dented\", \"dented\", \"dented\", \"deodorant\", \"description\", \"description\", \"description\", \"description\", \"description\", \"description\", \"description\", \"description\", \"device\", \"devil\", \"diarrhea\", \"didnt\", \"didnt\", \"didnt\", \"didnt\", \"didnt\", \"didnt\", \"didnt\", \"didnt\", \"diet\", \"diet\", \"diet\", \"diet\", \"diet\", \"diet\", \"diet\", \"diet\", \"direction\", \"direction\", \"direction\", \"direction\", \"direction\", \"direction\", \"direction\", \"disapointed\", \"disapointed\", \"disapointed\", \"disappointed\", \"disappointed\", \"disappointed\", \"disappointed\", \"disappointed\", \"disappointed\", \"disappointed\", \"disappointed\", \"disgusting\", \"disgusting\", \"disgusting\", \"disgusting\", \"disgusting\", \"dish\", \"dish\", \"dish\", \"dish\", \"dish\", \"dish\", \"disodium\", \"dog\", \"dog\", \"dont\", \"dont\", \"dont\", \"dont\", \"dont\", \"dont\", \"dont\", \"dont\", \"donut\", \"dop\", \"drain\", \"drain\", \"drain\", \"drain\", \"drink\", \"drink\", \"drink\", \"drink\", \"drink\", \"drink\", \"drink\", \"drink\", \"drinkable\", \"drinker\", \"drinking\", \"drinking\", \"drinking\", \"drinking\", \"drinking\", \"drinking\", \"drinking\", \"drinking\", \"dud\", \"e\", \"e\", \"e\", \"e\", \"easy\", \"easy\", \"easy\", \"easy\", \"easy\", \"easy\", \"easy\", \"easy\", \"eat\", \"eat\", \"eat\", \"eat\", \"eat\", \"eat\", \"eat\", \"eggnog\", \"eligible\", \"email\", \"email\", \"email\", \"email\", \"emailed\", \"emailed\", \"emailed\", \"embarrassed\", \"emerald\", \"emerald\", \"engineered\", \"espresso\", \"espresso\", \"even\", \"even\", \"even\", \"even\", \"even\", \"even\", \"even\", \"even\", \"ever\", \"ever\", \"ever\", \"ever\", \"ever\", \"ever\", \"ever\", \"ever\", \"evidently\", \"evo\", \"expiration\", \"expiration\", \"expiration\", \"expiration\", \"expiration\", \"expiration\", \"expiration\", \"expire\", \"expired\", \"expired\", \"expired\", \"expired\", \"expires\", \"exploded\", \"fairness\", \"fat\", \"fat\", \"fat\", \"fat\", \"fat\", \"fat\", \"faulty\", \"fda\", \"fda\", \"fed\", \"fed\", \"feed\", \"feed\", \"feed\", \"feeding\", \"fiber\", \"fiber\", \"fiber\", \"fiber\", \"fiber\", \"fiber\", \"filling\", \"filling\", \"filling\", \"filling\", \"filling\", \"filling\", \"filling\", \"filling\", \"filter\", \"filter\", \"find\", \"find\", \"find\", \"find\", \"find\", \"find\", \"find\", \"find\", \"first\", \"first\", \"first\", \"first\", \"first\", \"first\", \"first\", \"first\", \"flavor\", \"flavor\", \"flavor\", \"flavor\", \"flavor\", \"flavor\", \"flavor\", \"flavor\", \"flavored\", \"flavored\", \"flavored\", \"flavored\", \"flavored\", \"flavored\", \"flavored\", \"flavored\", \"fly\", \"fly\", \"folgers\", \"fondant\", \"food\", \"food\", \"food\", \"food\", \"food\", \"food\", \"food\", \"food\", \"formula\", \"formula\", \"formula\", \"formula\", \"formula\", \"french\", \"french\", \"french\", \"french\", \"french\", \"french\", \"french\", \"fresh\", \"fresh\", \"fresh\", \"fresh\", \"fresh\", \"fresh\", \"fresh\", \"fresh\", \"frontier\", \"frosted\", \"frosting\", \"frosting\", \"fructose\", \"fructose\", \"fructose\", \"fruit\", \"fruit\", \"fruit\", \"fruit\", \"fruit\", \"fruit\", \"fruit\", \"fruit\", \"fruitcake\", \"fudge\", \"garage\", \"garlic\", \"garlic\", \"garlic\", \"garlic\", \"garlic\", \"garlic\", \"get\", \"get\", \"get\", \"get\", \"get\", \"get\", \"get\", \"get\", \"ghirardelli\", \"ghost\", \"gift\", \"gift\", \"gift\", \"gift\", \"gift\", \"gift\", \"give\", \"give\", \"give\", \"give\", \"give\", \"give\", \"give\", \"give\", \"glued\", \"glutamate\", \"glutamate\", \"gmos\", \"godiva\", \"goji\", \"good\", \"good\", \"good\", \"good\", \"good\", \"good\", \"good\", \"good\", \"gopher\", \"got\", \"got\", \"got\", \"got\", \"got\", \"got\", \"got\", \"got\", \"graham\", \"graham\", \"gram\", \"gram\", \"gram\", \"gram\", \"gram\", \"gram\", \"grape\", \"grape\", \"grape\", \"grape\", \"grape\", \"grape\", \"grape\", \"great\", \"great\", \"great\", \"great\", \"great\", \"great\", \"great\", \"great\", \"green\", \"green\", \"green\", \"green\", \"green\", \"green\", \"green\", \"green\", \"grocery\", \"grocery\", \"grocery\", \"grocery\", \"grocery\", \"grocery\", \"grocery\", \"grocery\", \"gum\", \"gum\", \"gum\", \"gum\", \"gum\", \"gum\", \"gum\", \"gumballs\", \"gummies\", \"gummies\", \"gummies\", \"gummy\", \"gummy\", \"gummy\", \"gummy\", \"gummy\", \"habanero\", \"hair\", \"hair\", \"hair\", \"handed\", \"haribo\", \"haribo\", \"harvest\", \"harvest\", \"harvest\", \"health\", \"health\", \"health\", \"health\", \"health\", \"health\", \"health\", \"health\", \"hfc\", \"hfc\", \"hfc\", \"hfc\", \"high\", \"high\", \"high\", \"high\", \"high\", \"high\", \"high\", \"high\", \"himalayan\", \"hive\", \"honey\", \"honey\", \"honey\", \"honey\", \"honey\", \"honey\", \"honey\", \"honey\", \"horrible\", \"horrible\", \"horrible\", \"horrible\", \"horrible\", \"horrible\", \"horrible\", \"horrible\", \"hot\", \"hot\", \"hot\", \"hot\", \"hot\", \"hot\", \"hot\", \"hot\", \"hotter\", \"hour\", \"hour\", \"hour\", \"hour\", \"hour\", \"hour\", \"hour\", \"hour\", \"human\", \"hummus\", \"hydrochloride\", \"hydrogenated\", \"hydrogenated\", \"iced\", \"iced\", \"im\", \"im\", \"im\", \"im\", \"im\", \"im\", \"im\", \"im\", \"inc\", \"individually\", \"individually\", \"individually\", \"individually\", \"individually\", \"ingredient\", \"ingredient\", \"ingredient\", \"ingredient\", \"ingredient\", \"ingredient\", \"ingredient\", \"ingredient\", \"inside\", \"inside\", \"inside\", \"inside\", \"inside\", \"inside\", \"inside\", \"inside\", \"instruction\", \"instruction\", \"instruction\", \"instruction\", \"instruction\", \"instruction\", \"instruction\", \"intrigued\", \"issued\", \"item\", \"item\", \"item\", \"item\", \"item\", \"item\", \"item\", \"item\", \"ive\", \"ive\", \"ive\", \"ive\", \"ive\", \"ive\", \"ive\", \"ive\", \"izze\", \"jalapeno\", \"jalapeno\", \"jamaica\", \"jasmine\", \"jelly\", \"jelly\", \"jelly\", \"jelly\", \"jelly\", \"jelly\", \"jims\", \"joes\", \"joes\", \"joes\", \"joes\", \"joes\", \"juice\", \"juice\", \"juice\", \"juice\", \"juice\", \"juice\", \"juice\", \"july\", \"july\", \"kahlua\", \"kcup\", \"kcup\", \"kcups\", \"kcups\", \"kcups\", \"kcups\", \"kellogg\", \"kellogg\", \"kellogg\", \"kellogg\", \"kellogg\", \"keurig\", \"keurig\", \"kibble\", \"kitten\", \"kitty\", \"kitty\", \"know\", \"know\", \"know\", \"know\", \"know\", \"know\", \"know\", \"know\", \"kona\", \"krave\", \"lacked\", \"latte\", \"leaked\", \"libby\", \"libby\", \"libby\", \"licorice\", \"licorice\", \"licorice\", \"licorice\", \"licorice\", \"lid\", \"lid\", \"lid\", \"lid\", \"lid\", \"lid\", \"lid\", \"like\", \"like\", \"like\", \"like\", \"like\", \"like\", \"like\", \"like\", \"lime\", \"lime\", \"lime\", \"lime\", \"lime\", \"lime\", \"lindt\", \"listened\", \"litter\", \"little\", \"little\", \"little\", \"little\", \"little\", \"little\", \"little\", \"little\", \"liver\", \"local\", \"local\", \"local\", \"local\", \"local\", \"local\", \"local\", \"local\", \"lousy\", \"love\", \"love\", \"love\", \"love\", \"love\", \"love\", \"love\", \"love\", \"mac\", \"mac\", \"mac\", \"mac\", \"made\", \"made\", \"made\", \"made\", \"made\", \"made\", \"made\", \"made\", \"mailed\", \"make\", \"make\", \"make\", \"make\", \"make\", \"make\", \"make\", \"make\", \"mallomars\", \"mango\", \"mango\", \"mango\", \"mango\", \"mango\", \"mango\", \"mango\", \"manuka\", \"manuka\", \"mar\", \"marzano\", \"mat\", \"matcha\", \"maxwell\", \"mccanns\", \"melted\", \"melted\", \"melted\", \"merchandise\", \"milk\", \"milk\", \"milk\", \"milk\", \"milk\", \"milk\", \"milk\", \"milk\", \"minute\", \"minute\", \"minute\", \"minute\", \"minute\", \"minute\", \"minute\", \"mio\", \"mio\", \"mio\", \"miso\", \"miso\", \"mix\", \"mix\", \"mix\", \"mix\", \"mix\", \"mix\", \"mix\", \"mix\", \"mocha\", \"mocha\", \"mole\", \"money\", \"money\", \"money\", \"money\", \"money\", \"money\", \"money\", \"money\", \"monosodium\", \"month\", \"month\", \"month\", \"month\", \"month\", \"month\", \"month\", \"month\", \"mosquito\", \"moth\", \"mountain\", \"mountain\", \"mountain\", \"mountain\", \"mountain\", \"much\", \"much\", \"much\", \"much\", \"much\", \"much\", \"much\", \"much\", \"mud\", \"mushroom\", \"mushroom\", \"mushroom\", \"musty\", \"nabisco\", \"narrow\", \"narrow\", \"nasty\", \"nasty\", \"nasty\", \"nasty\", \"nasty\", \"nasty\", \"nasty\", \"natural\", \"natural\", \"natural\", \"natural\", \"natural\", \"natural\", \"natural\", \"natural\", \"nespresso\", \"never\", \"never\", \"never\", \"never\", \"never\", \"never\", \"never\", \"never\", \"nonexistent\", \"noodle\", \"noodle\", \"noodle\", \"noodle\", \"noodle\", \"nourishing\", \"november\", \"nut\", \"nut\", \"nut\", \"nut\", \"nut\", \"nut\", \"nut\", \"nut\", \"nylabone\", \"odor\", \"odor\", \"odor\", \"odor\", \"oil\", \"oil\", \"oil\", \"oil\", \"oil\", \"oil\", \"oil\", \"olive\", \"olive\", \"olive\", \"olive\", \"one\", \"one\", \"one\", \"one\", \"one\", \"one\", \"one\", \"one\", \"online\", \"online\", \"online\", \"online\", \"online\", \"online\", \"online\", \"online\", \"opened\", \"opened\", \"opened\", \"opened\", \"opened\", \"opened\", \"opened\", \"opened\", \"order\", \"order\", \"order\", \"order\", \"order\", \"order\", \"order\", \"order\", \"ordered\", \"ordered\", \"ordered\", \"ordered\", \"ordered\", \"ordered\", \"ordered\", \"ordered\", \"oreo\", \"ounce\", \"ounce\", \"ounce\", \"ounce\", \"ounce\", \"ounce\", \"ounce\", \"ounce\", \"ovaltine\", \"oyster\", \"oz\", \"oz\", \"oz\", \"oz\", \"oz\", \"oz\", \"oz\", \"oz\", \"pack\", \"pack\", \"pack\", \"pack\", \"pack\", \"pack\", \"pack\", \"pack\", \"package\", \"package\", \"package\", \"package\", \"package\", \"package\", \"package\", \"package\", \"packaging\", \"packaging\", \"packaging\", \"packaging\", \"packaging\", \"packaging\", \"packaging\", \"packaging\", \"pad\", \"pad\", \"pad\", \"paid\", \"paid\", \"paid\", \"paid\", \"paid\", \"paid\", \"paid\", \"paid\", \"pamelas\", \"panel\", \"pasta\", \"pasta\", \"pasta\", \"pasta\", \"pasta\", \"pasteurized\", \"pea\", \"pea\", \"pea\", \"pea\", \"peanut\", \"peanut\", \"peanut\", \"peanut\", \"peanut\", \"peanut\", \"pear\", \"pear\", \"pear\", \"pear\", \"pepsi\", \"per\", \"per\", \"per\", \"per\", \"per\", \"per\", \"per\", \"per\", \"pet\", \"pet\", \"picture\", \"picture\", \"picture\", \"picture\", \"picture\", \"picture\", \"picture\", \"picture\", \"pictured\", \"pictured\", \"pictured\", \"piece\", \"piece\", \"piece\", \"piece\", \"piece\", \"piece\", \"piece\", \"pill\", \"pill\", \"pill\", \"pistachio\", \"pistachio\", \"plant\", \"plant\", \"plant\", \"plant\", \"plant\", \"plant\", \"plant\", \"plant\", \"plastic\", \"plastic\", \"plastic\", \"plastic\", \"plastic\", \"plastic\", \"plastic\", \"plastic\", \"polenta\", \"poop\", \"popchips\", \"popcorn\", \"popcorn\", \"popcorn\", \"popcorn\", \"postage\", \"potassium\", \"potassium\", \"potassium\", \"potato\", \"potato\", \"potato\", \"potato\", \"potato\", \"potato\", \"price\", \"price\", \"price\", \"price\", \"price\", \"price\", \"price\", \"price\", \"pringles\", \"problem\", \"problem\", \"problem\", \"problem\", \"problem\", \"problem\", \"problem\", \"problem\", \"product\", \"product\", \"product\", \"product\", \"product\", \"product\", \"product\", \"product\", \"pulp\", \"pulp\", \"pulp\", \"pumpkin\", \"pumpkin\", \"pumpkin\", \"pumpkin\", \"pumpkin\", \"pumpkin\", \"pumpkin\", \"puppy\", \"puppy\", \"purchase\", \"purchase\", \"purchase\", \"purchase\", \"purchase\", \"purchase\", \"purchase\", \"purchase\", \"purchased\", \"purchased\", \"purchased\", \"purchased\", \"purchased\", \"purchased\", \"purchased\", \"purchased\", \"purina\", \"put\", \"put\", \"put\", \"put\", \"put\", \"put\", \"put\", \"put\", \"reaction\", \"reaction\", \"reaction\", \"reaction\", \"really\", \"really\", \"really\", \"really\", \"really\", \"really\", \"really\", \"really\", \"received\", \"received\", \"received\", \"received\", \"received\", \"received\", \"received\", \"received\", \"recieve\", \"refund\", \"refund\", \"refunded\", \"rep\", \"repurchase\", \"research\", \"research\", \"research\", \"research\", \"research\", \"research\", \"return\", \"return\", \"return\", \"return\", \"return\", \"return\", \"return\", \"return\", \"ribbon\", \"rice\", \"rice\", \"rice\", \"rice\", \"rice\", \"rice\", \"rice\", \"rinse\", \"rinse\", \"rinsed\", \"ripoff\", \"roast\", \"roast\", \"roast\", \"roast\", \"roast\", \"robbery\", \"roland\", \"roland\", \"rooibos\", \"rope\", \"rope\", \"rotten\", \"route\", \"saffron\", \"saffron\", \"salt\", \"salt\", \"salt\", \"salt\", \"salt\", \"salt\", \"salt\", \"sam\", \"sam\", \"sandwich\", \"sandwich\", \"sandwich\", \"sandwich\", \"sandwich\", \"sandwich\", \"sardine\", \"sardine\", \"sardine\", \"sardine\", \"saturated\", \"saturated\", \"saturated\", \"saturated\", \"sauce\", \"sauce\", \"sauce\", \"sauce\", \"sauce\", \"sauce\", \"save\", \"save\", \"save\", \"save\", \"save\", \"save\", \"save\", \"save\", \"scalp\", \"scalp\", \"scalp\", \"science\", \"science\", \"sealed\", \"sealed\", \"sealed\", \"sealed\", \"sealed\", \"sealed\", \"seam\", \"seam\", \"seller\", \"seller\", \"seller\", \"seller\", \"seller\", \"seller\", \"seller\", \"send\", \"send\", \"send\", \"send\", \"send\", \"send\", \"send\", \"sending\", \"sending\", \"sending\", \"sending\", \"sent\", \"sent\", \"sent\", \"sent\", \"sent\", \"sent\", \"sent\", \"sent\", \"september\", \"september\", \"service\", \"service\", \"service\", \"service\", \"service\", \"service\", \"service\", \"service\", \"serving\", \"serving\", \"serving\", \"serving\", \"serving\", \"serving\", \"serving\", \"serving\", \"shampoo\", \"shampoo\", \"shampoo\", \"shea\", \"shelter\", \"ship\", \"ship\", \"ship\", \"ship\", \"ship\", \"ship\", \"ship\", \"shipping\", \"shipping\", \"shipping\", \"shipping\", \"shipping\", \"shipping\", \"shipping\", \"shipping\", \"sick\", \"sick\", \"sick\", \"sick\", \"sick\", \"sick\", \"simmer\", \"sip\", \"sip\", \"sleeve\", \"slightest\", \"slimy\", \"sliver\", \"smell\", \"smell\", \"smell\", \"smell\", \"smell\", \"smell\", \"smell\", \"smell\", \"snack\", \"snack\", \"snack\", \"snack\", \"snack\", \"snack\", \"snack\", \"soda\", \"soda\", \"soda\", \"soda\", \"soda\", \"soda\", \"sorbate\", \"sorely\", \"soup\", \"soup\", \"soup\", \"soup\", \"soup\", \"sour\", \"sour\", \"sour\", \"sour\", \"sour\", \"sour\", \"sour\", \"spam\", \"sparkling\", \"sparkling\", \"sparkling\", \"spicy\", \"spicy\", \"spicy\", \"spicy\", \"spicy\", \"spicy\", \"spicy\", \"squirrel\", \"stale\", \"stale\", \"stale\", \"stale\", \"stale\", \"stale\", \"stale\", \"stamped\", \"starbucks\", \"started\", \"started\", \"started\", \"started\", \"started\", \"started\", \"started\", \"started\", \"starter\", \"starter\", \"starter\", \"steamer\", \"stir\", \"stir\", \"stir\", \"stir\", \"stomach\", \"stomach\", \"stomach\", \"stomach\", \"stomach\", \"stomach\", \"stomach\", \"stool\", \"store\", \"store\", \"store\", \"store\", \"store\", \"store\", \"store\", \"store\", \"strong\", \"strong\", \"strong\", \"strong\", \"strong\", \"strong\", \"strong\", \"strong\", \"study\", \"study\", \"study\", \"study\", \"stuff\", \"stuff\", \"stuff\", \"stuff\", \"stuff\", \"stuff\", \"stuff\", \"stuff\", \"styrofoam\", \"sugar\", \"sugar\", \"sugar\", \"sugar\", \"sugar\", \"sugar\", \"sugar\", \"sugar\", \"sulfate\", \"sumatra\", \"sweet\", \"sweet\", \"sweet\", \"sweet\", \"sweet\", \"sweet\", \"sweet\", \"sweet\", \"swiss\", \"switch\", \"switch\", \"switch\", \"switch\", \"switch\", \"switch\", \"switch\", \"switched\", \"switched\", \"switched\", \"switched\", \"switched\", \"switched\", \"syrup\", \"syrup\", \"syrup\", \"syrup\", \"syrup\", \"syrup\", \"syrup\", \"syrup\", \"tabasco\", \"taco\", \"taco\", \"taco\", \"taffy\", \"tahini\", \"tank\", \"tassimo\", \"taste\", \"taste\", \"taste\", \"taste\", \"taste\", \"taste\", \"taste\", \"taste\", \"tasted\", \"tasted\", \"tasted\", \"tasted\", \"tasted\", \"tasted\", \"tasted\", \"tasted\", \"tea\", \"tea\", \"tea\", \"tea\", \"tea\", \"teeth\", \"teeth\", \"teeth\", \"teeth\", \"teeth\", \"texture\", \"texture\", \"texture\", \"texture\", \"texture\", \"texture\", \"texture\", \"texture\", \"thai\", \"thai\", \"thai\", \"thiamine\", \"thing\", \"thing\", \"thing\", \"thing\", \"thing\", \"thing\", \"thing\", \"thing\", \"think\", \"think\", \"think\", \"think\", \"think\", \"think\", \"think\", \"think\", \"thought\", \"thought\", \"thought\", \"thought\", \"thought\", \"thought\", \"thought\", \"thought\", \"time\", \"time\", \"time\", \"time\", \"time\", \"time\", \"time\", \"time\", \"timothy\", \"tomato\", \"tomato\", \"tomato\", \"tomato\", \"tomato\", \"tomato\", \"torn\", \"tower\", \"toy\", \"toy\", \"trader\", \"trader\", \"trader\", \"trader\", \"trader\", \"training\", \"training\", \"trans\", \"trans\", \"trans\", \"transit\", \"trap\", \"treat\", \"treat\", \"treat\", \"treat\", \"treat\", \"treat\", \"treat\", \"tried\", \"tried\", \"tried\", \"tried\", \"tried\", \"tried\", \"tried\", \"tried\", \"truffle\", \"truffle\", \"try\", \"try\", \"try\", \"try\", \"try\", \"try\", \"try\", \"try\", \"tuna\", \"tuna\", \"tuna\", \"tuna\", \"tuna\", \"tuna\", \"twinings\", \"two\", \"two\", \"two\", \"two\", \"two\", \"two\", \"two\", \"two\", \"ugly\", \"unacceptable\", \"unacceptable\", \"undrinkable\", \"unused\", \"ups\", \"ups\", \"usable\", \"use\", \"use\", \"use\", \"use\", \"use\", \"use\", \"use\", \"use\", \"used\", \"used\", \"used\", \"used\", \"used\", \"used\", \"used\", \"used\", \"using\", \"using\", \"using\", \"using\", \"using\", \"using\", \"using\", \"using\", \"usps\", \"vanilla\", \"vanilla\", \"vanilla\", \"vanilla\", \"vanilla\", \"vanilla\", \"vanilla\", \"vanilla\", \"vet\", \"vet\", \"virgin\", \"vitamin\", \"vitamin\", \"vitamin\", \"vitamin\", \"vitamin\", \"vitamin\", \"vitamin\", \"vomit\", \"vomiting\", \"wasabi\", \"wasabi\", \"wash\", \"wash\", \"wash\", \"wash\", \"wash\", \"waste\", \"waste\", \"waste\", \"waste\", \"waste\", \"waste\", \"waste\", \"waste\", \"water\", \"water\", \"water\", \"water\", \"water\", \"water\", \"water\", \"water\", \"waxy\", \"weak\", \"weak\", \"weak\", \"weak\", \"weak\", \"weak\", \"weak\", \"weed\", \"weed\", \"well\", \"well\", \"well\", \"well\", \"well\", \"well\", \"well\", \"well\", \"wellness\", \"wolfgang\", \"wolfgang\", \"work\", \"work\", \"work\", \"work\", \"work\", \"work\", \"work\", \"work\", \"worm\", \"worst\", \"worst\", \"worst\", \"worst\", \"worst\", \"worst\", \"worst\", \"worst\", \"would\", \"would\", \"would\", \"would\", \"would\", \"would\", \"would\", \"would\", \"wrapped\", \"wrapped\", \"wrapped\", \"wrapped\", \"wrapped\", \"wrapper\", \"wrapper\", \"wrapping\", \"wrapping\", \"xylitol\", \"xylitol\", \"year\", \"year\", \"year\", \"year\", \"year\", \"year\", \"year\", \"year\", \"yeast\", \"yeast\", \"yeast\", \"yuck\", \"yuck\", \"yuck\", \"yuck\", \"zevia\", \"zevia\"]}, \"R\": 30, \"lambda.step\": 0.01, \"plot.opts\": {\"xlab\": \"PC1\", \"ylab\": \"PC2\"}, \"topic.order\": [7, 6, 3, 8, 2, 5, 1, 4]};\n",
       "\n",
       "function LDAvis_load_lib(url, callback){\n",
       "  var s = document.createElement('script');\n",
       "  s.src = url;\n",
       "  s.async = true;\n",
       "  s.onreadystatechange = s.onload = callback;\n",
       "  s.onerror = function(){console.warn(\"failed to load library \" + url);};\n",
       "  document.getElementsByTagName(\"head\")[0].appendChild(s);\n",
       "}\n",
       "\n",
       "if(typeof(LDAvis) !== \"undefined\"){\n",
       "   // already loaded: just create the visualization\n",
       "   !function(LDAvis){\n",
       "       new LDAvis(\"#\" + \"ldavis_el3721380877809973128525891915\", ldavis_el3721380877809973128525891915_data);\n",
       "   }(LDAvis);\n",
       "}else if(typeof define === \"function\" && define.amd){\n",
       "   // require.js is available: use it to load d3/LDAvis\n",
       "   require.config({paths: {d3: \"https://d3js.org/d3.v5\"}});\n",
       "   require([\"d3\"], function(d3){\n",
       "      window.d3 = d3;\n",
       "      LDAvis_load_lib(\"https://cdn.jsdelivr.net/gh/bmabey/pyLDAvis@3.4.0/pyLDAvis/js/ldavis.v3.0.0.js\", function(){\n",
       "        new LDAvis(\"#\" + \"ldavis_el3721380877809973128525891915\", ldavis_el3721380877809973128525891915_data);\n",
       "      });\n",
       "    });\n",
       "}else{\n",
       "    // require.js not available: dynamically load d3 & LDAvis\n",
       "    LDAvis_load_lib(\"https://d3js.org/d3.v5.js\", function(){\n",
       "         LDAvis_load_lib(\"https://cdn.jsdelivr.net/gh/bmabey/pyLDAvis@3.4.0/pyLDAvis/js/ldavis.v3.0.0.js\", function(){\n",
       "                 new LDAvis(\"#\" + \"ldavis_el3721380877809973128525891915\", ldavis_el3721380877809973128525891915_data);\n",
       "            })\n",
       "         });\n",
       "}\n",
       "</script>"
      ],
      "text/plain": [
       "PreparedData(topic_coordinates=              x         y  topics  cluster       Freq\n",
       "topic                                                \n",
       "6     -0.051434  0.029316       1        1  20.556626\n",
       "5     -0.026674 -0.062876       2        1  19.612523\n",
       "2     -0.021742 -0.057697       3        1  17.361530\n",
       "7     -0.042817  0.160603       4        1  14.211101\n",
       "1     -0.057402  0.084594       5        1  10.247104\n",
       "4     -0.025538 -0.191056       6        1   7.739583\n",
       "0     -0.056775  0.014894       7        1   6.616872\n",
       "3      0.282382  0.022222       8        1   3.654661, topic_info=           Term          Freq         Total Category  logprob  loglift\n",
       "57       coffee  26994.000000  26994.000000  Default  30.0000  30.0000\n",
       "860         tea  21288.000000  21288.000000  Default  29.0000  29.0000\n",
       "337       taste  50380.000000  50380.000000  Default  28.0000  28.0000\n",
       "711   chocolate  14102.000000  14102.000000  Default  27.0000  27.0000\n",
       "347         dog  13276.000000  13276.000000  Default  26.0000  26.0000\n",
       "..          ...           ...           ...      ...      ...      ...\n",
       "397         buy    780.737694  15942.808545   Topic8  -5.2764   0.2926\n",
       "562        much    749.274425  18572.645728   Topic8  -5.3175   0.0988\n",
       "99          get    733.960978  21366.574340   Topic8  -5.3381  -0.0620\n",
       "408      flavor    732.525741  32891.343463   Topic8  -5.3401  -0.4953\n",
       "330  ingredient    693.970362  10621.828059   Topic8  -5.3942   0.5809\n",
       "\n",
       "[711 rows x 6 columns], token_table=      Topic      Freq   Term\n",
       "term                        \n",
       "940       1  0.113188    100\n",
       "940       2  0.169532    100\n",
       "940       3  0.133133    100\n",
       "940       4  0.043380    100\n",
       "940       5  0.100722    100\n",
       "...     ...       ...    ...\n",
       "626       2  0.199090   yuck\n",
       "626       3  0.146427   yuck\n",
       "626       7  0.602408   yuck\n",
       "6007      3  0.018167  zevia\n",
       "6007      8  0.974975  zevia\n",
       "\n",
       "[2321 rows x 3 columns], R=30, lambda_step=0.01, plot_opts={'xlab': 'PC1', 'ylab': 'PC2'}, topic_order=[7, 6, 3, 8, 2, 5, 1, 4])"
      ]
     },
     "execution_count": 35,
     "metadata": {},
     "output_type": "execute_result"
    }
   ],
   "source": [
    "import pyLDAvis\n",
    "import pyLDAvis.gensim_models\n",
    "\n",
    "pyLDAvis.enable_notebook()\n",
    "LDAvis_prepared = pyLDAvis.gensim_models.prepare(lda_model, corpus, dictionary)\n",
    "LDAvis_prepared"
   ]
  },
  {
   "cell_type": "markdown",
   "metadata": {
    "id": "XocZ_PWASmkl"
   },
   "source": [
    "The topic modeling revealed distinct product categories, including coffee, pet food, snacks, and tea, helping businesses identify popular product areas. For each category, key attributes such as taste and flavor for coffee, ingredients for pet food, and sweetness for snacks were highlighted, offering valuable insights to guide marketing and product development strategies."
   ]
  }
 ],
 "metadata": {
  "accelerator": "GPU",
  "colab": {
   "gpuType": "T4",
   "provenance": []
  },
  "kernelspec": {
   "display_name": "Python 3",
   "name": "python3"
  },
  "language_info": {
   "name": "python"
  },
  "widgets": {
   "application/vnd.jupyter.widget-state+json": {
    "0994cf4c7f404f32a6b7d84f22687dc5": {
     "model_module": "@jupyter-widgets/base",
     "model_module_version": "1.2.0",
     "model_name": "LayoutModel",
     "state": {
      "_model_module": "@jupyter-widgets/base",
      "_model_module_version": "1.2.0",
      "_model_name": "LayoutModel",
      "_view_count": null,
      "_view_module": "@jupyter-widgets/base",
      "_view_module_version": "1.2.0",
      "_view_name": "LayoutView",
      "align_content": null,
      "align_items": null,
      "align_self": null,
      "border": null,
      "bottom": null,
      "display": null,
      "flex": null,
      "flex_flow": null,
      "grid_area": null,
      "grid_auto_columns": null,
      "grid_auto_flow": null,
      "grid_auto_rows": null,
      "grid_column": null,
      "grid_gap": null,
      "grid_row": null,
      "grid_template_areas": null,
      "grid_template_columns": null,
      "grid_template_rows": null,
      "height": null,
      "justify_content": null,
      "justify_items": null,
      "left": null,
      "margin": null,
      "max_height": null,
      "max_width": null,
      "min_height": null,
      "min_width": null,
      "object_fit": null,
      "object_position": null,
      "order": null,
      "overflow": null,
      "overflow_x": null,
      "overflow_y": null,
      "padding": null,
      "right": null,
      "top": null,
      "visibility": null,
      "width": null
     }
    },
    "0f6140eef65b4581b4b84e8ed29f0b30": {
     "model_module": "@jupyter-widgets/base",
     "model_module_version": "1.2.0",
     "model_name": "LayoutModel",
     "state": {
      "_model_module": "@jupyter-widgets/base",
      "_model_module_version": "1.2.0",
      "_model_name": "LayoutModel",
      "_view_count": null,
      "_view_module": "@jupyter-widgets/base",
      "_view_module_version": "1.2.0",
      "_view_name": "LayoutView",
      "align_content": null,
      "align_items": null,
      "align_self": null,
      "border": null,
      "bottom": null,
      "display": null,
      "flex": null,
      "flex_flow": null,
      "grid_area": null,
      "grid_auto_columns": null,
      "grid_auto_flow": null,
      "grid_auto_rows": null,
      "grid_column": null,
      "grid_gap": null,
      "grid_row": null,
      "grid_template_areas": null,
      "grid_template_columns": null,
      "grid_template_rows": null,
      "height": null,
      "justify_content": null,
      "justify_items": null,
      "left": null,
      "margin": null,
      "max_height": null,
      "max_width": null,
      "min_height": null,
      "min_width": null,
      "object_fit": null,
      "object_position": null,
      "order": null,
      "overflow": null,
      "overflow_x": null,
      "overflow_y": null,
      "padding": null,
      "right": null,
      "top": null,
      "visibility": null,
      "width": null
     }
    },
    "0f879c25c94e4a98a51ad6def82d1fae": {
     "model_module": "@jupyter-widgets/controls",
     "model_module_version": "1.5.0",
     "model_name": "FloatProgressModel",
     "state": {
      "_dom_classes": [],
      "_model_module": "@jupyter-widgets/controls",
      "_model_module_version": "1.5.0",
      "_model_name": "FloatProgressModel",
      "_view_count": null,
      "_view_module": "@jupyter-widgets/controls",
      "_view_module_version": "1.5.0",
      "_view_name": "ProgressView",
      "bar_style": "success",
      "description": "",
      "description_tooltip": null,
      "layout": "IPY_MODEL_dc4750f473394adfbfed3a64009ce9d4",
      "max": 47372894,
      "min": 0,
      "orientation": "horizontal",
      "style": "IPY_MODEL_42c2dc720fc94c22abbfc0ec5a4dd360",
      "value": 47372894
     }
    },
    "0fddff4645564a348e8cb9ec0a830faa": {
     "model_module": "@jupyter-widgets/controls",
     "model_module_version": "1.5.0",
     "model_name": "DescriptionStyleModel",
     "state": {
      "_model_module": "@jupyter-widgets/controls",
      "_model_module_version": "1.5.0",
      "_model_name": "DescriptionStyleModel",
      "_view_count": null,
      "_view_module": "@jupyter-widgets/base",
      "_view_module_version": "1.2.0",
      "_view_name": "StyleView",
      "description_width": ""
     }
    },
    "113fdfc81053483aa33365f27afda0d1": {
     "model_module": "@jupyter-widgets/controls",
     "model_module_version": "1.5.0",
     "model_name": "HBoxModel",
     "state": {
      "_dom_classes": [],
      "_model_module": "@jupyter-widgets/controls",
      "_model_module_version": "1.5.0",
      "_model_name": "HBoxModel",
      "_view_count": null,
      "_view_module": "@jupyter-widgets/controls",
      "_view_module_version": "1.5.0",
      "_view_name": "HBoxView",
      "box_style": "",
      "children": [
       "IPY_MODEL_a7ee4edd4e7c4f488359909b35586248",
       "IPY_MODEL_7f3d9380892e45379425413c12363514",
       "IPY_MODEL_7148ebb0485a47de90801d92cc516ea3"
      ],
      "layout": "IPY_MODEL_186a3b271ec4424396a11413ac50977b"
     }
    },
    "14d5a45f88e54288a31153ef7a62de1a": {
     "model_module": "@jupyter-widgets/controls",
     "model_module_version": "1.5.0",
     "model_name": "DescriptionStyleModel",
     "state": {
      "_model_module": "@jupyter-widgets/controls",
      "_model_module_version": "1.5.0",
      "_model_name": "DescriptionStyleModel",
      "_view_count": null,
      "_view_module": "@jupyter-widgets/base",
      "_view_module_version": "1.2.0",
      "_view_name": "StyleView",
      "description_width": ""
     }
    },
    "186a3b271ec4424396a11413ac50977b": {
     "model_module": "@jupyter-widgets/base",
     "model_module_version": "1.2.0",
     "model_name": "LayoutModel",
     "state": {
      "_model_module": "@jupyter-widgets/base",
      "_model_module_version": "1.2.0",
      "_model_name": "LayoutModel",
      "_view_count": null,
      "_view_module": "@jupyter-widgets/base",
      "_view_module_version": "1.2.0",
      "_view_name": "LayoutView",
      "align_content": null,
      "align_items": null,
      "align_self": null,
      "border": null,
      "bottom": null,
      "display": null,
      "flex": null,
      "flex_flow": null,
      "grid_area": null,
      "grid_auto_columns": null,
      "grid_auto_flow": null,
      "grid_auto_rows": null,
      "grid_column": null,
      "grid_gap": null,
      "grid_row": null,
      "grid_template_areas": null,
      "grid_template_columns": null,
      "grid_template_rows": null,
      "height": null,
      "justify_content": null,
      "justify_items": null,
      "left": null,
      "margin": null,
      "max_height": null,
      "max_width": null,
      "min_height": null,
      "min_width": null,
      "object_fit": null,
      "object_position": null,
      "order": null,
      "overflow": null,
      "overflow_x": null,
      "overflow_y": null,
      "padding": null,
      "right": null,
      "top": null,
      "visibility": null,
      "width": null
     }
    },
    "1df9b51a05964cba85a882e6b3007ee7": {
     "model_module": "@jupyter-widgets/controls",
     "model_module_version": "1.5.0",
     "model_name": "FloatProgressModel",
     "state": {
      "_dom_classes": [],
      "_model_module": "@jupyter-widgets/controls",
      "_model_module_version": "1.5.0",
      "_model_name": "FloatProgressModel",
      "_view_count": null,
      "_view_module": "@jupyter-widgets/controls",
      "_view_module_version": "1.5.0",
      "_view_name": "ProgressView",
      "bar_style": "success",
      "description": "",
      "description_tooltip": null,
      "layout": "IPY_MODEL_739a7f1b5c014b0096344c14053dc3b4",
      "max": 684,
      "min": 0,
      "orientation": "horizontal",
      "style": "IPY_MODEL_af9e1a49bf6a436e82a983abc74fcaf0",
      "value": 684
     }
    },
    "1f0b987eeeac4a0385710f72dc60572a": {
     "model_module": "@jupyter-widgets/controls",
     "model_module_version": "1.5.0",
     "model_name": "HTMLModel",
     "state": {
      "_dom_classes": [],
      "_model_module": "@jupyter-widgets/controls",
      "_model_module_version": "1.5.0",
      "_model_name": "HTMLModel",
      "_view_count": null,
      "_view_module": "@jupyter-widgets/controls",
      "_view_module_version": "1.5.0",
      "_view_name": "HTMLView",
      "description": "",
      "description_tooltip": null,
      "layout": "IPY_MODEL_2ced6a78567f493baeb284e361ecbec9",
      "placeholder": "​",
      "style": "IPY_MODEL_14d5a45f88e54288a31153ef7a62de1a",
      "value": " 1.31M/1.31M [00:00&lt;00:00, 13.8MB/s]"
     }
    },
    "1f78d057c091426f97dad74ef5d16b56": {
     "model_module": "@jupyter-widgets/base",
     "model_module_version": "1.2.0",
     "model_name": "LayoutModel",
     "state": {
      "_model_module": "@jupyter-widgets/base",
      "_model_module_version": "1.2.0",
      "_model_name": "LayoutModel",
      "_view_count": null,
      "_view_module": "@jupyter-widgets/base",
      "_view_module_version": "1.2.0",
      "_view_name": "LayoutView",
      "align_content": null,
      "align_items": null,
      "align_self": null,
      "border": null,
      "bottom": null,
      "display": null,
      "flex": null,
      "flex_flow": null,
      "grid_area": null,
      "grid_auto_columns": null,
      "grid_auto_flow": null,
      "grid_auto_rows": null,
      "grid_column": null,
      "grid_gap": null,
      "grid_row": null,
      "grid_template_areas": null,
      "grid_template_columns": null,
      "grid_template_rows": null,
      "height": null,
      "justify_content": null,
      "justify_items": null,
      "left": null,
      "margin": null,
      "max_height": null,
      "max_width": null,
      "min_height": null,
      "min_width": null,
      "object_fit": null,
      "object_position": null,
      "order": null,
      "overflow": null,
      "overflow_x": null,
      "overflow_y": null,
      "padding": null,
      "right": null,
      "top": null,
      "visibility": null,
      "width": null
     }
    },
    "2200229fd662459290676379943186b1": {
     "model_module": "@jupyter-widgets/controls",
     "model_module_version": "1.5.0",
     "model_name": "HBoxModel",
     "state": {
      "_dom_classes": [],
      "_model_module": "@jupyter-widgets/controls",
      "_model_module_version": "1.5.0",
      "_model_name": "HBoxModel",
      "_view_count": null,
      "_view_module": "@jupyter-widgets/controls",
      "_view_module_version": "1.5.0",
      "_view_name": "HBoxView",
      "box_style": "",
      "children": [
       "IPY_MODEL_b9dea1cb5521421ba81a1929bc144bc2",
       "IPY_MODEL_fbf1130f3950462a86d8ab0ebfadd730",
       "IPY_MODEL_1f0b987eeeac4a0385710f72dc60572a"
      ],
      "layout": "IPY_MODEL_e69ac68b49b44e87bb8e00a6276d4996"
     }
    },
    "27003b227fc84b519741609023256dee": {
     "model_module": "@jupyter-widgets/controls",
     "model_module_version": "1.5.0",
     "model_name": "FloatProgressModel",
     "state": {
      "_dom_classes": [],
      "_model_module": "@jupyter-widgets/controls",
      "_model_module_version": "1.5.0",
      "_model_name": "FloatProgressModel",
      "_view_count": null,
      "_view_module": "@jupyter-widgets/controls",
      "_view_module_version": "1.5.0",
      "_view_name": "ProgressView",
      "bar_style": "success",
      "description": "",
      "description_tooltip": null,
      "layout": "IPY_MODEL_904fc2c2942240a89ac18180fb4e6ef0",
      "max": 25,
      "min": 0,
      "orientation": "horizontal",
      "style": "IPY_MODEL_c0005420866d4cb5a7cb5990ea583cad",
      "value": 25
     }
    },
    "28a98a151bdf4656863c467993b9cb0b": {
     "model_module": "@jupyter-widgets/base",
     "model_module_version": "1.2.0",
     "model_name": "LayoutModel",
     "state": {
      "_model_module": "@jupyter-widgets/base",
      "_model_module_version": "1.2.0",
      "_model_name": "LayoutModel",
      "_view_count": null,
      "_view_module": "@jupyter-widgets/base",
      "_view_module_version": "1.2.0",
      "_view_name": "LayoutView",
      "align_content": null,
      "align_items": null,
      "align_self": null,
      "border": null,
      "bottom": null,
      "display": null,
      "flex": null,
      "flex_flow": null,
      "grid_area": null,
      "grid_auto_columns": null,
      "grid_auto_flow": null,
      "grid_auto_rows": null,
      "grid_column": null,
      "grid_gap": null,
      "grid_row": null,
      "grid_template_areas": null,
      "grid_template_columns": null,
      "grid_template_rows": null,
      "height": null,
      "justify_content": null,
      "justify_items": null,
      "left": null,
      "margin": null,
      "max_height": null,
      "max_width": null,
      "min_height": null,
      "min_width": null,
      "object_fit": null,
      "object_position": null,
      "order": null,
      "overflow": null,
      "overflow_x": null,
      "overflow_y": null,
      "padding": null,
      "right": null,
      "top": null,
      "visibility": null,
      "width": null
     }
    },
    "2ced6a78567f493baeb284e361ecbec9": {
     "model_module": "@jupyter-widgets/base",
     "model_module_version": "1.2.0",
     "model_name": "LayoutModel",
     "state": {
      "_model_module": "@jupyter-widgets/base",
      "_model_module_version": "1.2.0",
      "_model_name": "LayoutModel",
      "_view_count": null,
      "_view_module": "@jupyter-widgets/base",
      "_view_module_version": "1.2.0",
      "_view_name": "LayoutView",
      "align_content": null,
      "align_items": null,
      "align_self": null,
      "border": null,
      "bottom": null,
      "display": null,
      "flex": null,
      "flex_flow": null,
      "grid_area": null,
      "grid_auto_columns": null,
      "grid_auto_flow": null,
      "grid_auto_rows": null,
      "grid_column": null,
      "grid_gap": null,
      "grid_row": null,
      "grid_template_areas": null,
      "grid_template_columns": null,
      "grid_template_rows": null,
      "height": null,
      "justify_content": null,
      "justify_items": null,
      "left": null,
      "margin": null,
      "max_height": null,
      "max_width": null,
      "min_height": null,
      "min_width": null,
      "object_fit": null,
      "object_position": null,
      "order": null,
      "overflow": null,
      "overflow_x": null,
      "overflow_y": null,
      "padding": null,
      "right": null,
      "top": null,
      "visibility": null,
      "width": null
     }
    },
    "3518350c23c04db6ab702f974dbfbcdd": {
     "model_module": "@jupyter-widgets/controls",
     "model_module_version": "1.5.0",
     "model_name": "HTMLModel",
     "state": {
      "_dom_classes": [],
      "_model_module": "@jupyter-widgets/controls",
      "_model_module_version": "1.5.0",
      "_model_name": "HTMLModel",
      "_view_count": null,
      "_view_module": "@jupyter-widgets/controls",
      "_view_module_version": "1.5.0",
      "_view_name": "HTMLView",
      "description": "",
      "description_tooltip": null,
      "layout": "IPY_MODEL_61f728721c16424286c6675fceb4faa8",
      "placeholder": "​",
      "style": "IPY_MODEL_7daeafa10b45432fa80ea9173ffdcf4b",
      "value": "tokenizer_config.json: 100%"
     }
    },
    "409aaaa3cd3d45c5850519cc33e57d77": {
     "model_module": "@jupyter-widgets/controls",
     "model_module_version": "1.5.0",
     "model_name": "DescriptionStyleModel",
     "state": {
      "_model_module": "@jupyter-widgets/controls",
      "_model_module_version": "1.5.0",
      "_model_name": "DescriptionStyleModel",
      "_view_count": null,
      "_view_module": "@jupyter-widgets/base",
      "_view_module_version": "1.2.0",
      "_view_name": "StyleView",
      "description_width": ""
     }
    },
    "411fb96dae184b5795dd4144a9affca9": {
     "model_module": "@jupyter-widgets/controls",
     "model_module_version": "1.5.0",
     "model_name": "HBoxModel",
     "state": {
      "_dom_classes": [],
      "_model_module": "@jupyter-widgets/controls",
      "_model_module_version": "1.5.0",
      "_model_name": "HBoxModel",
      "_view_count": null,
      "_view_module": "@jupyter-widgets/controls",
      "_view_module_version": "1.5.0",
      "_view_name": "HBoxView",
      "box_style": "",
      "children": [
       "IPY_MODEL_6b73d8ab11024e02b795e7f998adc0e4",
       "IPY_MODEL_1df9b51a05964cba85a882e6b3007ee7",
       "IPY_MODEL_41d4550020194e5699234f35f16987ed"
      ],
      "layout": "IPY_MODEL_1f78d057c091426f97dad74ef5d16b56"
     }
    },
    "41d4550020194e5699234f35f16987ed": {
     "model_module": "@jupyter-widgets/controls",
     "model_module_version": "1.5.0",
     "model_name": "HTMLModel",
     "state": {
      "_dom_classes": [],
      "_model_module": "@jupyter-widgets/controls",
      "_model_module_version": "1.5.0",
      "_model_name": "HTMLModel",
      "_view_count": null,
      "_view_module": "@jupyter-widgets/controls",
      "_view_module_version": "1.5.0",
      "_view_name": "HTMLView",
      "description": "",
      "description_tooltip": null,
      "layout": "IPY_MODEL_984aa651c3ce43a887615f2fac94f229",
      "placeholder": "​",
      "style": "IPY_MODEL_9e6b74c7cc974c16ab24c0b984e97bf5",
      "value": " 684/684 [00:00&lt;00:00, 19.9kB/s]"
     }
    },
    "42c2dc720fc94c22abbfc0ec5a4dd360": {
     "model_module": "@jupyter-widgets/controls",
     "model_module_version": "1.5.0",
     "model_name": "ProgressStyleModel",
     "state": {
      "_model_module": "@jupyter-widgets/controls",
      "_model_module_version": "1.5.0",
      "_model_name": "ProgressStyleModel",
      "_view_count": null,
      "_view_module": "@jupyter-widgets/base",
      "_view_module_version": "1.2.0",
      "_view_name": "StyleView",
      "bar_color": null,
      "description_width": ""
     }
    },
    "4808ffd86b1441b087feb1dd635eb515": {
     "model_module": "@jupyter-widgets/controls",
     "model_module_version": "1.5.0",
     "model_name": "HTMLModel",
     "state": {
      "_dom_classes": [],
      "_model_module": "@jupyter-widgets/controls",
      "_model_module_version": "1.5.0",
      "_model_name": "HTMLModel",
      "_view_count": null,
      "_view_module": "@jupyter-widgets/controls",
      "_view_module_version": "1.5.0",
      "_view_name": "HTMLView",
      "description": "",
      "description_tooltip": null,
      "layout": "IPY_MODEL_9a4b81170bb44bd28ab0053c28e50696",
      "placeholder": "​",
      "style": "IPY_MODEL_77c31e3ecfb44bc2a415294afbc3c07a",
      "value": " 25.0/25.0 [00:00&lt;00:00, 555B/s]"
     }
    },
    "61f728721c16424286c6675fceb4faa8": {
     "model_module": "@jupyter-widgets/base",
     "model_module_version": "1.2.0",
     "model_name": "LayoutModel",
     "state": {
      "_model_module": "@jupyter-widgets/base",
      "_model_module_version": "1.2.0",
      "_model_name": "LayoutModel",
      "_view_count": null,
      "_view_module": "@jupyter-widgets/base",
      "_view_module_version": "1.2.0",
      "_view_name": "LayoutView",
      "align_content": null,
      "align_items": null,
      "align_self": null,
      "border": null,
      "bottom": null,
      "display": null,
      "flex": null,
      "flex_flow": null,
      "grid_area": null,
      "grid_auto_columns": null,
      "grid_auto_flow": null,
      "grid_auto_rows": null,
      "grid_column": null,
      "grid_gap": null,
      "grid_row": null,
      "grid_template_areas": null,
      "grid_template_columns": null,
      "grid_template_rows": null,
      "height": null,
      "justify_content": null,
      "justify_items": null,
      "left": null,
      "margin": null,
      "max_height": null,
      "max_width": null,
      "min_height": null,
      "min_width": null,
      "object_fit": null,
      "object_position": null,
      "order": null,
      "overflow": null,
      "overflow_x": null,
      "overflow_y": null,
      "padding": null,
      "right": null,
      "top": null,
      "visibility": null,
      "width": null
     }
    },
    "6b73d8ab11024e02b795e7f998adc0e4": {
     "model_module": "@jupyter-widgets/controls",
     "model_module_version": "1.5.0",
     "model_name": "HTMLModel",
     "state": {
      "_dom_classes": [],
      "_model_module": "@jupyter-widgets/controls",
      "_model_module_version": "1.5.0",
      "_model_name": "HTMLModel",
      "_view_count": null,
      "_view_module": "@jupyter-widgets/controls",
      "_view_module_version": "1.5.0",
      "_view_name": "HTMLView",
      "description": "",
      "description_tooltip": null,
      "layout": "IPY_MODEL_ebb4b891eb0a41ec84dcc8e99c9ebaac",
      "placeholder": "​",
      "style": "IPY_MODEL_bb855fd222164db4818f263a7352a62e",
      "value": "config.json: 100%"
     }
    },
    "7148ebb0485a47de90801d92cc516ea3": {
     "model_module": "@jupyter-widgets/controls",
     "model_module_version": "1.5.0",
     "model_name": "HTMLModel",
     "state": {
      "_dom_classes": [],
      "_model_module": "@jupyter-widgets/controls",
      "_model_module_version": "1.5.0",
      "_model_name": "HTMLModel",
      "_view_count": null,
      "_view_module": "@jupyter-widgets/controls",
      "_view_module_version": "1.5.0",
      "_view_name": "HTMLView",
      "description": "",
      "description_tooltip": null,
      "layout": "IPY_MODEL_f60acc1acda14ef4a507abc76d2b9754",
      "placeholder": "​",
      "style": "IPY_MODEL_8b9b047c249144ff8bfd7e300cde7c9b",
      "value": " 760k/760k [00:00&lt;00:00, 8.16MB/s]"
     }
    },
    "739a7f1b5c014b0096344c14053dc3b4": {
     "model_module": "@jupyter-widgets/base",
     "model_module_version": "1.2.0",
     "model_name": "LayoutModel",
     "state": {
      "_model_module": "@jupyter-widgets/base",
      "_model_module_version": "1.2.0",
      "_model_name": "LayoutModel",
      "_view_count": null,
      "_view_module": "@jupyter-widgets/base",
      "_view_module_version": "1.2.0",
      "_view_name": "LayoutView",
      "align_content": null,
      "align_items": null,
      "align_self": null,
      "border": null,
      "bottom": null,
      "display": null,
      "flex": null,
      "flex_flow": null,
      "grid_area": null,
      "grid_auto_columns": null,
      "grid_auto_flow": null,
      "grid_auto_rows": null,
      "grid_column": null,
      "grid_gap": null,
      "grid_row": null,
      "grid_template_areas": null,
      "grid_template_columns": null,
      "grid_template_rows": null,
      "height": null,
      "justify_content": null,
      "justify_items": null,
      "left": null,
      "margin": null,
      "max_height": null,
      "max_width": null,
      "min_height": null,
      "min_width": null,
      "object_fit": null,
      "object_position": null,
      "order": null,
      "overflow": null,
      "overflow_x": null,
      "overflow_y": null,
      "padding": null,
      "right": null,
      "top": null,
      "visibility": null,
      "width": null
     }
    },
    "77c31e3ecfb44bc2a415294afbc3c07a": {
     "model_module": "@jupyter-widgets/controls",
     "model_module_version": "1.5.0",
     "model_name": "DescriptionStyleModel",
     "state": {
      "_model_module": "@jupyter-widgets/controls",
      "_model_module_version": "1.5.0",
      "_model_name": "DescriptionStyleModel",
      "_view_count": null,
      "_view_module": "@jupyter-widgets/base",
      "_view_module_version": "1.2.0",
      "_view_name": "StyleView",
      "description_width": ""
     }
    },
    "79f02e892bd94751b450ae7a9b563f3a": {
     "model_module": "@jupyter-widgets/controls",
     "model_module_version": "1.5.0",
     "model_name": "HTMLModel",
     "state": {
      "_dom_classes": [],
      "_model_module": "@jupyter-widgets/controls",
      "_model_module_version": "1.5.0",
      "_model_name": "HTMLModel",
      "_view_count": null,
      "_view_module": "@jupyter-widgets/controls",
      "_view_module_version": "1.5.0",
      "_view_name": "HTMLView",
      "description": "",
      "description_tooltip": null,
      "layout": "IPY_MODEL_fd993303a1d440d0aa537685d0bf9fd3",
      "placeholder": "​",
      "style": "IPY_MODEL_7e5ca60423f64405ba61c3ce5dba4291",
      "value": " 47.4M/47.4M [00:00&lt;00:00, 125MB/s]"
     }
    },
    "7daeafa10b45432fa80ea9173ffdcf4b": {
     "model_module": "@jupyter-widgets/controls",
     "model_module_version": "1.5.0",
     "model_name": "DescriptionStyleModel",
     "state": {
      "_model_module": "@jupyter-widgets/controls",
      "_model_module_version": "1.5.0",
      "_model_name": "DescriptionStyleModel",
      "_view_count": null,
      "_view_module": "@jupyter-widgets/base",
      "_view_module_version": "1.2.0",
      "_view_name": "StyleView",
      "description_width": ""
     }
    },
    "7e5ca60423f64405ba61c3ce5dba4291": {
     "model_module": "@jupyter-widgets/controls",
     "model_module_version": "1.5.0",
     "model_name": "DescriptionStyleModel",
     "state": {
      "_model_module": "@jupyter-widgets/controls",
      "_model_module_version": "1.5.0",
      "_model_name": "DescriptionStyleModel",
      "_view_count": null,
      "_view_module": "@jupyter-widgets/base",
      "_view_module_version": "1.2.0",
      "_view_name": "StyleView",
      "description_width": ""
     }
    },
    "7f3d9380892e45379425413c12363514": {
     "model_module": "@jupyter-widgets/controls",
     "model_module_version": "1.5.0",
     "model_name": "FloatProgressModel",
     "state": {
      "_dom_classes": [],
      "_model_module": "@jupyter-widgets/controls",
      "_model_module_version": "1.5.0",
      "_model_name": "FloatProgressModel",
      "_view_count": null,
      "_view_module": "@jupyter-widgets/controls",
      "_view_module_version": "1.5.0",
      "_view_name": "ProgressView",
      "bar_style": "success",
      "description": "",
      "description_tooltip": null,
      "layout": "IPY_MODEL_0994cf4c7f404f32a6b7d84f22687dc5",
      "max": 760289,
      "min": 0,
      "orientation": "horizontal",
      "style": "IPY_MODEL_88b1ed97be4d41b994e5b6ff4ee60be7",
      "value": 760289
     }
    },
    "88b1ed97be4d41b994e5b6ff4ee60be7": {
     "model_module": "@jupyter-widgets/controls",
     "model_module_version": "1.5.0",
     "model_name": "ProgressStyleModel",
     "state": {
      "_model_module": "@jupyter-widgets/controls",
      "_model_module_version": "1.5.0",
      "_model_name": "ProgressStyleModel",
      "_view_count": null,
      "_view_module": "@jupyter-widgets/base",
      "_view_module_version": "1.2.0",
      "_view_name": "StyleView",
      "bar_color": null,
      "description_width": ""
     }
    },
    "8b9b047c249144ff8bfd7e300cde7c9b": {
     "model_module": "@jupyter-widgets/controls",
     "model_module_version": "1.5.0",
     "model_name": "DescriptionStyleModel",
     "state": {
      "_model_module": "@jupyter-widgets/controls",
      "_model_module_version": "1.5.0",
      "_model_name": "DescriptionStyleModel",
      "_view_count": null,
      "_view_module": "@jupyter-widgets/base",
      "_view_module_version": "1.2.0",
      "_view_name": "StyleView",
      "description_width": ""
     }
    },
    "904fc2c2942240a89ac18180fb4e6ef0": {
     "model_module": "@jupyter-widgets/base",
     "model_module_version": "1.2.0",
     "model_name": "LayoutModel",
     "state": {
      "_model_module": "@jupyter-widgets/base",
      "_model_module_version": "1.2.0",
      "_model_name": "LayoutModel",
      "_view_count": null,
      "_view_module": "@jupyter-widgets/base",
      "_view_module_version": "1.2.0",
      "_view_name": "LayoutView",
      "align_content": null,
      "align_items": null,
      "align_self": null,
      "border": null,
      "bottom": null,
      "display": null,
      "flex": null,
      "flex_flow": null,
      "grid_area": null,
      "grid_auto_columns": null,
      "grid_auto_flow": null,
      "grid_auto_rows": null,
      "grid_column": null,
      "grid_gap": null,
      "grid_row": null,
      "grid_template_areas": null,
      "grid_template_columns": null,
      "grid_template_rows": null,
      "height": null,
      "justify_content": null,
      "justify_items": null,
      "left": null,
      "margin": null,
      "max_height": null,
      "max_width": null,
      "min_height": null,
      "min_width": null,
      "object_fit": null,
      "object_position": null,
      "order": null,
      "overflow": null,
      "overflow_x": null,
      "overflow_y": null,
      "padding": null,
      "right": null,
      "top": null,
      "visibility": null,
      "width": null
     }
    },
    "984aa651c3ce43a887615f2fac94f229": {
     "model_module": "@jupyter-widgets/base",
     "model_module_version": "1.2.0",
     "model_name": "LayoutModel",
     "state": {
      "_model_module": "@jupyter-widgets/base",
      "_model_module_version": "1.2.0",
      "_model_name": "LayoutModel",
      "_view_count": null,
      "_view_module": "@jupyter-widgets/base",
      "_view_module_version": "1.2.0",
      "_view_name": "LayoutView",
      "align_content": null,
      "align_items": null,
      "align_self": null,
      "border": null,
      "bottom": null,
      "display": null,
      "flex": null,
      "flex_flow": null,
      "grid_area": null,
      "grid_auto_columns": null,
      "grid_auto_flow": null,
      "grid_auto_rows": null,
      "grid_column": null,
      "grid_gap": null,
      "grid_row": null,
      "grid_template_areas": null,
      "grid_template_columns": null,
      "grid_template_rows": null,
      "height": null,
      "justify_content": null,
      "justify_items": null,
      "left": null,
      "margin": null,
      "max_height": null,
      "max_width": null,
      "min_height": null,
      "min_width": null,
      "object_fit": null,
      "object_position": null,
      "order": null,
      "overflow": null,
      "overflow_x": null,
      "overflow_y": null,
      "padding": null,
      "right": null,
      "top": null,
      "visibility": null,
      "width": null
     }
    },
    "99f71d47d8db492faf79272585e7209d": {
     "model_module": "@jupyter-widgets/controls",
     "model_module_version": "1.5.0",
     "model_name": "HTMLModel",
     "state": {
      "_dom_classes": [],
      "_model_module": "@jupyter-widgets/controls",
      "_model_module_version": "1.5.0",
      "_model_name": "HTMLModel",
      "_view_count": null,
      "_view_module": "@jupyter-widgets/controls",
      "_view_module_version": "1.5.0",
      "_view_name": "HTMLView",
      "description": "",
      "description_tooltip": null,
      "layout": "IPY_MODEL_e680e8f881814496a6b62da5a73946b0",
      "placeholder": "​",
      "style": "IPY_MODEL_409aaaa3cd3d45c5850519cc33e57d77",
      "value": "model.safetensors: 100%"
     }
    },
    "9a4b81170bb44bd28ab0053c28e50696": {
     "model_module": "@jupyter-widgets/base",
     "model_module_version": "1.2.0",
     "model_name": "LayoutModel",
     "state": {
      "_model_module": "@jupyter-widgets/base",
      "_model_module_version": "1.2.0",
      "_model_name": "LayoutModel",
      "_view_count": null,
      "_view_module": "@jupyter-widgets/base",
      "_view_module_version": "1.2.0",
      "_view_name": "LayoutView",
      "align_content": null,
      "align_items": null,
      "align_self": null,
      "border": null,
      "bottom": null,
      "display": null,
      "flex": null,
      "flex_flow": null,
      "grid_area": null,
      "grid_auto_columns": null,
      "grid_auto_flow": null,
      "grid_auto_rows": null,
      "grid_column": null,
      "grid_gap": null,
      "grid_row": null,
      "grid_template_areas": null,
      "grid_template_columns": null,
      "grid_template_rows": null,
      "height": null,
      "justify_content": null,
      "justify_items": null,
      "left": null,
      "margin": null,
      "max_height": null,
      "max_width": null,
      "min_height": null,
      "min_width": null,
      "object_fit": null,
      "object_position": null,
      "order": null,
      "overflow": null,
      "overflow_x": null,
      "overflow_y": null,
      "padding": null,
      "right": null,
      "top": null,
      "visibility": null,
      "width": null
     }
    },
    "9e6b74c7cc974c16ab24c0b984e97bf5": {
     "model_module": "@jupyter-widgets/controls",
     "model_module_version": "1.5.0",
     "model_name": "DescriptionStyleModel",
     "state": {
      "_model_module": "@jupyter-widgets/controls",
      "_model_module_version": "1.5.0",
      "_model_name": "DescriptionStyleModel",
      "_view_count": null,
      "_view_module": "@jupyter-widgets/base",
      "_view_module_version": "1.2.0",
      "_view_name": "StyleView",
      "description_width": ""
     }
    },
    "a329fef6703740c196c0676e0743e562": {
     "model_module": "@jupyter-widgets/controls",
     "model_module_version": "1.5.0",
     "model_name": "HBoxModel",
     "state": {
      "_dom_classes": [],
      "_model_module": "@jupyter-widgets/controls",
      "_model_module_version": "1.5.0",
      "_model_name": "HBoxModel",
      "_view_count": null,
      "_view_module": "@jupyter-widgets/controls",
      "_view_module_version": "1.5.0",
      "_view_name": "HBoxView",
      "box_style": "",
      "children": [
       "IPY_MODEL_3518350c23c04db6ab702f974dbfbcdd",
       "IPY_MODEL_27003b227fc84b519741609023256dee",
       "IPY_MODEL_4808ffd86b1441b087feb1dd635eb515"
      ],
      "layout": "IPY_MODEL_0f6140eef65b4581b4b84e8ed29f0b30"
     }
    },
    "a7ee4edd4e7c4f488359909b35586248": {
     "model_module": "@jupyter-widgets/controls",
     "model_module_version": "1.5.0",
     "model_name": "HTMLModel",
     "state": {
      "_dom_classes": [],
      "_model_module": "@jupyter-widgets/controls",
      "_model_module_version": "1.5.0",
      "_model_name": "HTMLModel",
      "_view_count": null,
      "_view_module": "@jupyter-widgets/controls",
      "_view_module_version": "1.5.0",
      "_view_name": "HTMLView",
      "description": "",
      "description_tooltip": null,
      "layout": "IPY_MODEL_b85e6a3e923543ccb1e9b09d3ad013c9",
      "placeholder": "​",
      "style": "IPY_MODEL_0fddff4645564a348e8cb9ec0a830faa",
      "value": "spiece.model: 100%"
     }
    },
    "af9e1a49bf6a436e82a983abc74fcaf0": {
     "model_module": "@jupyter-widgets/controls",
     "model_module_version": "1.5.0",
     "model_name": "ProgressStyleModel",
     "state": {
      "_model_module": "@jupyter-widgets/controls",
      "_model_module_version": "1.5.0",
      "_model_name": "ProgressStyleModel",
      "_view_count": null,
      "_view_module": "@jupyter-widgets/base",
      "_view_module_version": "1.2.0",
      "_view_name": "StyleView",
      "bar_color": null,
      "description_width": ""
     }
    },
    "b85e6a3e923543ccb1e9b09d3ad013c9": {
     "model_module": "@jupyter-widgets/base",
     "model_module_version": "1.2.0",
     "model_name": "LayoutModel",
     "state": {
      "_model_module": "@jupyter-widgets/base",
      "_model_module_version": "1.2.0",
      "_model_name": "LayoutModel",
      "_view_count": null,
      "_view_module": "@jupyter-widgets/base",
      "_view_module_version": "1.2.0",
      "_view_name": "LayoutView",
      "align_content": null,
      "align_items": null,
      "align_self": null,
      "border": null,
      "bottom": null,
      "display": null,
      "flex": null,
      "flex_flow": null,
      "grid_area": null,
      "grid_auto_columns": null,
      "grid_auto_flow": null,
      "grid_auto_rows": null,
      "grid_column": null,
      "grid_gap": null,
      "grid_row": null,
      "grid_template_areas": null,
      "grid_template_columns": null,
      "grid_template_rows": null,
      "height": null,
      "justify_content": null,
      "justify_items": null,
      "left": null,
      "margin": null,
      "max_height": null,
      "max_width": null,
      "min_height": null,
      "min_width": null,
      "object_fit": null,
      "object_position": null,
      "order": null,
      "overflow": null,
      "overflow_x": null,
      "overflow_y": null,
      "padding": null,
      "right": null,
      "top": null,
      "visibility": null,
      "width": null
     }
    },
    "b9dea1cb5521421ba81a1929bc144bc2": {
     "model_module": "@jupyter-widgets/controls",
     "model_module_version": "1.5.0",
     "model_name": "HTMLModel",
     "state": {
      "_dom_classes": [],
      "_model_module": "@jupyter-widgets/controls",
      "_model_module_version": "1.5.0",
      "_model_name": "HTMLModel",
      "_view_count": null,
      "_view_module": "@jupyter-widgets/controls",
      "_view_module_version": "1.5.0",
      "_view_name": "HTMLView",
      "description": "",
      "description_tooltip": null,
      "layout": "IPY_MODEL_d5baf7f210d64bab858f23cbfea82794",
      "placeholder": "​",
      "style": "IPY_MODEL_f1cc90c416a841bb93c83e9a576925ce",
      "value": "tokenizer.json: 100%"
     }
    },
    "bb855fd222164db4818f263a7352a62e": {
     "model_module": "@jupyter-widgets/controls",
     "model_module_version": "1.5.0",
     "model_name": "DescriptionStyleModel",
     "state": {
      "_model_module": "@jupyter-widgets/controls",
      "_model_module_version": "1.5.0",
      "_model_name": "DescriptionStyleModel",
      "_view_count": null,
      "_view_module": "@jupyter-widgets/base",
      "_view_module_version": "1.2.0",
      "_view_name": "StyleView",
      "description_width": ""
     }
    },
    "c0005420866d4cb5a7cb5990ea583cad": {
     "model_module": "@jupyter-widgets/controls",
     "model_module_version": "1.5.0",
     "model_name": "ProgressStyleModel",
     "state": {
      "_model_module": "@jupyter-widgets/controls",
      "_model_module_version": "1.5.0",
      "_model_name": "ProgressStyleModel",
      "_view_count": null,
      "_view_module": "@jupyter-widgets/base",
      "_view_module_version": "1.2.0",
      "_view_name": "StyleView",
      "bar_color": null,
      "description_width": ""
     }
    },
    "d53db7821a2348e89d5b1ff26521bbff": {
     "model_module": "@jupyter-widgets/base",
     "model_module_version": "1.2.0",
     "model_name": "LayoutModel",
     "state": {
      "_model_module": "@jupyter-widgets/base",
      "_model_module_version": "1.2.0",
      "_model_name": "LayoutModel",
      "_view_count": null,
      "_view_module": "@jupyter-widgets/base",
      "_view_module_version": "1.2.0",
      "_view_name": "LayoutView",
      "align_content": null,
      "align_items": null,
      "align_self": null,
      "border": null,
      "bottom": null,
      "display": null,
      "flex": null,
      "flex_flow": null,
      "grid_area": null,
      "grid_auto_columns": null,
      "grid_auto_flow": null,
      "grid_auto_rows": null,
      "grid_column": null,
      "grid_gap": null,
      "grid_row": null,
      "grid_template_areas": null,
      "grid_template_columns": null,
      "grid_template_rows": null,
      "height": null,
      "justify_content": null,
      "justify_items": null,
      "left": null,
      "margin": null,
      "max_height": null,
      "max_width": null,
      "min_height": null,
      "min_width": null,
      "object_fit": null,
      "object_position": null,
      "order": null,
      "overflow": null,
      "overflow_x": null,
      "overflow_y": null,
      "padding": null,
      "right": null,
      "top": null,
      "visibility": null,
      "width": null
     }
    },
    "d5baf7f210d64bab858f23cbfea82794": {
     "model_module": "@jupyter-widgets/base",
     "model_module_version": "1.2.0",
     "model_name": "LayoutModel",
     "state": {
      "_model_module": "@jupyter-widgets/base",
      "_model_module_version": "1.2.0",
      "_model_name": "LayoutModel",
      "_view_count": null,
      "_view_module": "@jupyter-widgets/base",
      "_view_module_version": "1.2.0",
      "_view_name": "LayoutView",
      "align_content": null,
      "align_items": null,
      "align_self": null,
      "border": null,
      "bottom": null,
      "display": null,
      "flex": null,
      "flex_flow": null,
      "grid_area": null,
      "grid_auto_columns": null,
      "grid_auto_flow": null,
      "grid_auto_rows": null,
      "grid_column": null,
      "grid_gap": null,
      "grid_row": null,
      "grid_template_areas": null,
      "grid_template_columns": null,
      "grid_template_rows": null,
      "height": null,
      "justify_content": null,
      "justify_items": null,
      "left": null,
      "margin": null,
      "max_height": null,
      "max_width": null,
      "min_height": null,
      "min_width": null,
      "object_fit": null,
      "object_position": null,
      "order": null,
      "overflow": null,
      "overflow_x": null,
      "overflow_y": null,
      "padding": null,
      "right": null,
      "top": null,
      "visibility": null,
      "width": null
     }
    },
    "dc4750f473394adfbfed3a64009ce9d4": {
     "model_module": "@jupyter-widgets/base",
     "model_module_version": "1.2.0",
     "model_name": "LayoutModel",
     "state": {
      "_model_module": "@jupyter-widgets/base",
      "_model_module_version": "1.2.0",
      "_model_name": "LayoutModel",
      "_view_count": null,
      "_view_module": "@jupyter-widgets/base",
      "_view_module_version": "1.2.0",
      "_view_name": "LayoutView",
      "align_content": null,
      "align_items": null,
      "align_self": null,
      "border": null,
      "bottom": null,
      "display": null,
      "flex": null,
      "flex_flow": null,
      "grid_area": null,
      "grid_auto_columns": null,
      "grid_auto_flow": null,
      "grid_auto_rows": null,
      "grid_column": null,
      "grid_gap": null,
      "grid_row": null,
      "grid_template_areas": null,
      "grid_template_columns": null,
      "grid_template_rows": null,
      "height": null,
      "justify_content": null,
      "justify_items": null,
      "left": null,
      "margin": null,
      "max_height": null,
      "max_width": null,
      "min_height": null,
      "min_width": null,
      "object_fit": null,
      "object_position": null,
      "order": null,
      "overflow": null,
      "overflow_x": null,
      "overflow_y": null,
      "padding": null,
      "right": null,
      "top": null,
      "visibility": null,
      "width": null
     }
    },
    "dcd7f33deec040deb955f91cacc50ed0": {
     "model_module": "@jupyter-widgets/controls",
     "model_module_version": "1.5.0",
     "model_name": "HBoxModel",
     "state": {
      "_dom_classes": [],
      "_model_module": "@jupyter-widgets/controls",
      "_model_module_version": "1.5.0",
      "_model_name": "HBoxModel",
      "_view_count": null,
      "_view_module": "@jupyter-widgets/controls",
      "_view_module_version": "1.5.0",
      "_view_name": "HBoxView",
      "box_style": "",
      "children": [
       "IPY_MODEL_99f71d47d8db492faf79272585e7209d",
       "IPY_MODEL_0f879c25c94e4a98a51ad6def82d1fae",
       "IPY_MODEL_79f02e892bd94751b450ae7a9b563f3a"
      ],
      "layout": "IPY_MODEL_28a98a151bdf4656863c467993b9cb0b"
     }
    },
    "e680e8f881814496a6b62da5a73946b0": {
     "model_module": "@jupyter-widgets/base",
     "model_module_version": "1.2.0",
     "model_name": "LayoutModel",
     "state": {
      "_model_module": "@jupyter-widgets/base",
      "_model_module_version": "1.2.0",
      "_model_name": "LayoutModel",
      "_view_count": null,
      "_view_module": "@jupyter-widgets/base",
      "_view_module_version": "1.2.0",
      "_view_name": "LayoutView",
      "align_content": null,
      "align_items": null,
      "align_self": null,
      "border": null,
      "bottom": null,
      "display": null,
      "flex": null,
      "flex_flow": null,
      "grid_area": null,
      "grid_auto_columns": null,
      "grid_auto_flow": null,
      "grid_auto_rows": null,
      "grid_column": null,
      "grid_gap": null,
      "grid_row": null,
      "grid_template_areas": null,
      "grid_template_columns": null,
      "grid_template_rows": null,
      "height": null,
      "justify_content": null,
      "justify_items": null,
      "left": null,
      "margin": null,
      "max_height": null,
      "max_width": null,
      "min_height": null,
      "min_width": null,
      "object_fit": null,
      "object_position": null,
      "order": null,
      "overflow": null,
      "overflow_x": null,
      "overflow_y": null,
      "padding": null,
      "right": null,
      "top": null,
      "visibility": null,
      "width": null
     }
    },
    "e69ac68b49b44e87bb8e00a6276d4996": {
     "model_module": "@jupyter-widgets/base",
     "model_module_version": "1.2.0",
     "model_name": "LayoutModel",
     "state": {
      "_model_module": "@jupyter-widgets/base",
      "_model_module_version": "1.2.0",
      "_model_name": "LayoutModel",
      "_view_count": null,
      "_view_module": "@jupyter-widgets/base",
      "_view_module_version": "1.2.0",
      "_view_name": "LayoutView",
      "align_content": null,
      "align_items": null,
      "align_self": null,
      "border": null,
      "bottom": null,
      "display": null,
      "flex": null,
      "flex_flow": null,
      "grid_area": null,
      "grid_auto_columns": null,
      "grid_auto_flow": null,
      "grid_auto_rows": null,
      "grid_column": null,
      "grid_gap": null,
      "grid_row": null,
      "grid_template_areas": null,
      "grid_template_columns": null,
      "grid_template_rows": null,
      "height": null,
      "justify_content": null,
      "justify_items": null,
      "left": null,
      "margin": null,
      "max_height": null,
      "max_width": null,
      "min_height": null,
      "min_width": null,
      "object_fit": null,
      "object_position": null,
      "order": null,
      "overflow": null,
      "overflow_x": null,
      "overflow_y": null,
      "padding": null,
      "right": null,
      "top": null,
      "visibility": null,
      "width": null
     }
    },
    "ebb4b891eb0a41ec84dcc8e99c9ebaac": {
     "model_module": "@jupyter-widgets/base",
     "model_module_version": "1.2.0",
     "model_name": "LayoutModel",
     "state": {
      "_model_module": "@jupyter-widgets/base",
      "_model_module_version": "1.2.0",
      "_model_name": "LayoutModel",
      "_view_count": null,
      "_view_module": "@jupyter-widgets/base",
      "_view_module_version": "1.2.0",
      "_view_name": "LayoutView",
      "align_content": null,
      "align_items": null,
      "align_self": null,
      "border": null,
      "bottom": null,
      "display": null,
      "flex": null,
      "flex_flow": null,
      "grid_area": null,
      "grid_auto_columns": null,
      "grid_auto_flow": null,
      "grid_auto_rows": null,
      "grid_column": null,
      "grid_gap": null,
      "grid_row": null,
      "grid_template_areas": null,
      "grid_template_columns": null,
      "grid_template_rows": null,
      "height": null,
      "justify_content": null,
      "justify_items": null,
      "left": null,
      "margin": null,
      "max_height": null,
      "max_width": null,
      "min_height": null,
      "min_width": null,
      "object_fit": null,
      "object_position": null,
      "order": null,
      "overflow": null,
      "overflow_x": null,
      "overflow_y": null,
      "padding": null,
      "right": null,
      "top": null,
      "visibility": null,
      "width": null
     }
    },
    "f1cc90c416a841bb93c83e9a576925ce": {
     "model_module": "@jupyter-widgets/controls",
     "model_module_version": "1.5.0",
     "model_name": "DescriptionStyleModel",
     "state": {
      "_model_module": "@jupyter-widgets/controls",
      "_model_module_version": "1.5.0",
      "_model_name": "DescriptionStyleModel",
      "_view_count": null,
      "_view_module": "@jupyter-widgets/base",
      "_view_module_version": "1.2.0",
      "_view_name": "StyleView",
      "description_width": ""
     }
    },
    "f60acc1acda14ef4a507abc76d2b9754": {
     "model_module": "@jupyter-widgets/base",
     "model_module_version": "1.2.0",
     "model_name": "LayoutModel",
     "state": {
      "_model_module": "@jupyter-widgets/base",
      "_model_module_version": "1.2.0",
      "_model_name": "LayoutModel",
      "_view_count": null,
      "_view_module": "@jupyter-widgets/base",
      "_view_module_version": "1.2.0",
      "_view_name": "LayoutView",
      "align_content": null,
      "align_items": null,
      "align_self": null,
      "border": null,
      "bottom": null,
      "display": null,
      "flex": null,
      "flex_flow": null,
      "grid_area": null,
      "grid_auto_columns": null,
      "grid_auto_flow": null,
      "grid_auto_rows": null,
      "grid_column": null,
      "grid_gap": null,
      "grid_row": null,
      "grid_template_areas": null,
      "grid_template_columns": null,
      "grid_template_rows": null,
      "height": null,
      "justify_content": null,
      "justify_items": null,
      "left": null,
      "margin": null,
      "max_height": null,
      "max_width": null,
      "min_height": null,
      "min_width": null,
      "object_fit": null,
      "object_position": null,
      "order": null,
      "overflow": null,
      "overflow_x": null,
      "overflow_y": null,
      "padding": null,
      "right": null,
      "top": null,
      "visibility": null,
      "width": null
     }
    },
    "fbf1130f3950462a86d8ab0ebfadd730": {
     "model_module": "@jupyter-widgets/controls",
     "model_module_version": "1.5.0",
     "model_name": "FloatProgressModel",
     "state": {
      "_dom_classes": [],
      "_model_module": "@jupyter-widgets/controls",
      "_model_module_version": "1.5.0",
      "_model_name": "FloatProgressModel",
      "_view_count": null,
      "_view_module": "@jupyter-widgets/controls",
      "_view_module_version": "1.5.0",
      "_view_name": "ProgressView",
      "bar_style": "success",
      "description": "",
      "description_tooltip": null,
      "layout": "IPY_MODEL_d53db7821a2348e89d5b1ff26521bbff",
      "max": 1312669,
      "min": 0,
      "orientation": "horizontal",
      "style": "IPY_MODEL_fd496e401587415ea27ac08e87ac28b9",
      "value": 1312669
     }
    },
    "fd496e401587415ea27ac08e87ac28b9": {
     "model_module": "@jupyter-widgets/controls",
     "model_module_version": "1.5.0",
     "model_name": "ProgressStyleModel",
     "state": {
      "_model_module": "@jupyter-widgets/controls",
      "_model_module_version": "1.5.0",
      "_model_name": "ProgressStyleModel",
      "_view_count": null,
      "_view_module": "@jupyter-widgets/base",
      "_view_module_version": "1.2.0",
      "_view_name": "StyleView",
      "bar_color": null,
      "description_width": ""
     }
    },
    "fd993303a1d440d0aa537685d0bf9fd3": {
     "model_module": "@jupyter-widgets/base",
     "model_module_version": "1.2.0",
     "model_name": "LayoutModel",
     "state": {
      "_model_module": "@jupyter-widgets/base",
      "_model_module_version": "1.2.0",
      "_model_name": "LayoutModel",
      "_view_count": null,
      "_view_module": "@jupyter-widgets/base",
      "_view_module_version": "1.2.0",
      "_view_name": "LayoutView",
      "align_content": null,
      "align_items": null,
      "align_self": null,
      "border": null,
      "bottom": null,
      "display": null,
      "flex": null,
      "flex_flow": null,
      "grid_area": null,
      "grid_auto_columns": null,
      "grid_auto_flow": null,
      "grid_auto_rows": null,
      "grid_column": null,
      "grid_gap": null,
      "grid_row": null,
      "grid_template_areas": null,
      "grid_template_columns": null,
      "grid_template_rows": null,
      "height": null,
      "justify_content": null,
      "justify_items": null,
      "left": null,
      "margin": null,
      "max_height": null,
      "max_width": null,
      "min_height": null,
      "min_width": null,
      "object_fit": null,
      "object_position": null,
      "order": null,
      "overflow": null,
      "overflow_x": null,
      "overflow_y": null,
      "padding": null,
      "right": null,
      "top": null,
      "visibility": null,
      "width": null
     }
    }
   }
  }
 },
 "nbformat": 4,
 "nbformat_minor": 0
}
